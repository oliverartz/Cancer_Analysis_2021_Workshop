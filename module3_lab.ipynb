{
  "nbformat": 4,
  "nbformat_minor": 0,
  "metadata": {
    "colab": {
      "name": "module3_lab.ipynb",
      "provenance": []
    },
    "kernelspec": {
      "name": "python3",
      "display_name": "Python 3"
    },
    "language_info": {
      "name": "python"
    }
  },
  "cells": [
    {
      "cell_type": "markdown",
      "source": [
        "# Module 3: Genome Alignment\n",
        "\n",
        "This notebook is based on the Cancer Analysis course by bioinformatics.ca (https://bioinformaticsdotca.github.io/CAN_2021).\n",
        "\n",
        "\n",
        "In this workshop, we will present the main steps that are commonly used to process and to analyze cancer sequencing data. We will focus only on whole genome data and provide command lines that allow creating high quality alignment files usable for variant detection. This workshop will show you how to launch individual the first steps of a complete DNA-Seq SNV pipeline using to analyze cancer data\n",
        "\n",
        "We will be working on a CageKid sample pair, patient C0098. The CageKid project is part of ICGC and is focused on renal cancer in many of it’s forms. The raw data can be found on EGA and calls, RNA and DNA, can be found on the ICGC portal.\n",
        "\n",
        "For practical reasons we subsampled the reads from the sample because running the whole dataset would take way too much time and resources.\n",
        "\n",
        "\n",
        "\n"
      ],
      "metadata": {
        "id": "tVakQ_MTYSD9"
      }
    },
    {
      "cell_type": "markdown",
      "source": [
        "## Mount Google drive"
      ],
      "metadata": {
        "id": "_1UNcLNaZSti"
      }
    },
    {
      "cell_type": "code",
      "source": [
        "from google.colab import drive\n",
        "drive.mount('/content/drive')"
      ],
      "metadata": {
        "colab": {
          "base_uri": "https://localhost:8080/"
        },
        "id": "9yKpRAMzZLbR",
        "outputId": "54147215-35a6-4172-d028-d49081c25b96"
      },
      "execution_count": null,
      "outputs": [
        {
          "output_type": "stream",
          "name": "stdout",
          "text": [
            "Drive already mounted at /content/drive; to attempt to forcibly remount, call drive.mount(\"/content/drive\", force_remount=True).\n"
          ]
        }
      ]
    },
    {
      "cell_type": "markdown",
      "source": [
        "## Install software"
      ],
      "metadata": {
        "id": "EZluO3zqZMPX"
      }
    },
    {
      "cell_type": "code",
      "execution_count": null,
      "metadata": {
        "id": "7h3TAZ54X72k",
        "colab": {
          "base_uri": "https://localhost:8080/"
        },
        "outputId": "9c97e99c-1eb8-4d24-84b3-e17b7569259e"
      },
      "outputs": [
        {
          "output_type": "stream",
          "name": "stdout",
          "text": [
            "--2021-12-27 19:50:44--  https://repo.anaconda.com/miniconda/Miniconda3-py37_4.8.2-Linux-x86_64.sh\n",
            "Resolving repo.anaconda.com (repo.anaconda.com)... 104.16.131.3, 104.16.130.3, 2606:4700::6810:8203, ...\n",
            "Connecting to repo.anaconda.com (repo.anaconda.com)|104.16.131.3|:443... connected.\n",
            "HTTP request sent, awaiting response... 200 OK\n",
            "Length: 85055499 (81M) [application/x-sh]\n",
            "Saving to: ‘Miniconda3-py37_4.8.2-Linux-x86_64.sh’\n",
            "\n",
            "Miniconda3-py37_4.8 100%[===================>]  81.12M   178MB/s    in 0.5s    \n",
            "\n",
            "2021-12-27 19:50:45 (178 MB/s) - ‘Miniconda3-py37_4.8.2-Linux-x86_64.sh’ saved [85055499/85055499]\n",
            "\n",
            "PREFIX=/usr/local\n",
            "Unpacking payload ...\n",
            "Collecting package metadata (current_repodata.json): - \b\b\\ \b\b| \b\bdone\n",
            "Solving environment: - \b\b\\ \b\b| \b\bdone\n",
            "\n",
            "## Package Plan ##\n",
            "\n",
            "  environment location: /usr/local\n",
            "\n",
            "  added / updated specs:\n",
            "    - _libgcc_mutex==0.1=main\n",
            "    - asn1crypto==1.3.0=py37_0\n",
            "    - ca-certificates==2020.1.1=0\n",
            "    - certifi==2019.11.28=py37_0\n",
            "    - cffi==1.14.0=py37h2e261b9_0\n",
            "    - chardet==3.0.4=py37_1003\n",
            "    - conda-package-handling==1.6.0=py37h7b6447c_0\n",
            "    - conda==4.8.2=py37_0\n",
            "    - cryptography==2.8=py37h1ba5d50_0\n",
            "    - idna==2.8=py37_0\n",
            "    - ld_impl_linux-64==2.33.1=h53a641e_7\n",
            "    - libedit==3.1.20181209=hc058e9b_0\n",
            "    - libffi==3.2.1=hd88cf55_4\n",
            "    - libgcc-ng==9.1.0=hdf63c60_0\n",
            "    - libstdcxx-ng==9.1.0=hdf63c60_0\n",
            "    - ncurses==6.2=he6710b0_0\n",
            "    - openssl==1.1.1d=h7b6447c_4\n",
            "    - pip==20.0.2=py37_1\n",
            "    - pycosat==0.6.3=py37h7b6447c_0\n",
            "    - pycparser==2.19=py37_0\n",
            "    - pyopenssl==19.1.0=py37_0\n",
            "    - pysocks==1.7.1=py37_0\n",
            "    - python==3.7.6=h0371630_2\n",
            "    - readline==7.0=h7b6447c_5\n",
            "    - requests==2.22.0=py37_1\n",
            "    - ruamel_yaml==0.15.87=py37h7b6447c_0\n",
            "    - setuptools==45.2.0=py37_0\n",
            "    - six==1.14.0=py37_0\n",
            "    - sqlite==3.31.1=h7b6447c_0\n",
            "    - tk==8.6.8=hbc83047_0\n",
            "    - tqdm==4.42.1=py_0\n",
            "    - urllib3==1.25.8=py37_0\n",
            "    - wheel==0.34.2=py37_0\n",
            "    - xz==5.2.4=h14c3975_4\n",
            "    - yaml==0.1.7=had09818_2\n",
            "    - zlib==1.2.11=h7b6447c_3\n",
            "\n",
            "\n",
            "The following NEW packages will be INSTALLED:\n",
            "\n",
            "  _libgcc_mutex      pkgs/main/linux-64::_libgcc_mutex-0.1-main\n",
            "  asn1crypto         pkgs/main/linux-64::asn1crypto-1.3.0-py37_0\n",
            "  ca-certificates    pkgs/main/linux-64::ca-certificates-2020.1.1-0\n",
            "  certifi            pkgs/main/linux-64::certifi-2019.11.28-py37_0\n",
            "  cffi               pkgs/main/linux-64::cffi-1.14.0-py37h2e261b9_0\n",
            "  chardet            pkgs/main/linux-64::chardet-3.0.4-py37_1003\n",
            "  conda              pkgs/main/linux-64::conda-4.8.2-py37_0\n",
            "  conda-package-han~ pkgs/main/linux-64::conda-package-handling-1.6.0-py37h7b6447c_0\n",
            "  cryptography       pkgs/main/linux-64::cryptography-2.8-py37h1ba5d50_0\n",
            "  idna               pkgs/main/linux-64::idna-2.8-py37_0\n",
            "  ld_impl_linux-64   pkgs/main/linux-64::ld_impl_linux-64-2.33.1-h53a641e_7\n",
            "  libedit            pkgs/main/linux-64::libedit-3.1.20181209-hc058e9b_0\n",
            "  libffi             pkgs/main/linux-64::libffi-3.2.1-hd88cf55_4\n",
            "  libgcc-ng          pkgs/main/linux-64::libgcc-ng-9.1.0-hdf63c60_0\n",
            "  libstdcxx-ng       pkgs/main/linux-64::libstdcxx-ng-9.1.0-hdf63c60_0\n",
            "  ncurses            pkgs/main/linux-64::ncurses-6.2-he6710b0_0\n",
            "  openssl            pkgs/main/linux-64::openssl-1.1.1d-h7b6447c_4\n",
            "  pip                pkgs/main/linux-64::pip-20.0.2-py37_1\n",
            "  pycosat            pkgs/main/linux-64::pycosat-0.6.3-py37h7b6447c_0\n",
            "  pycparser          pkgs/main/linux-64::pycparser-2.19-py37_0\n",
            "  pyopenssl          pkgs/main/linux-64::pyopenssl-19.1.0-py37_0\n",
            "  pysocks            pkgs/main/linux-64::pysocks-1.7.1-py37_0\n",
            "  python             pkgs/main/linux-64::python-3.7.6-h0371630_2\n",
            "  readline           pkgs/main/linux-64::readline-7.0-h7b6447c_5\n",
            "  requests           pkgs/main/linux-64::requests-2.22.0-py37_1\n",
            "  ruamel_yaml        pkgs/main/linux-64::ruamel_yaml-0.15.87-py37h7b6447c_0\n",
            "  setuptools         pkgs/main/linux-64::setuptools-45.2.0-py37_0\n",
            "  six                pkgs/main/linux-64::six-1.14.0-py37_0\n",
            "  sqlite             pkgs/main/linux-64::sqlite-3.31.1-h7b6447c_0\n",
            "  tk                 pkgs/main/linux-64::tk-8.6.8-hbc83047_0\n",
            "  tqdm               pkgs/main/noarch::tqdm-4.42.1-py_0\n",
            "  urllib3            pkgs/main/linux-64::urllib3-1.25.8-py37_0\n",
            "  wheel              pkgs/main/linux-64::wheel-0.34.2-py37_0\n",
            "  xz                 pkgs/main/linux-64::xz-5.2.4-h14c3975_4\n",
            "  yaml               pkgs/main/linux-64::yaml-0.1.7-had09818_2\n",
            "  zlib               pkgs/main/linux-64::zlib-1.2.11-h7b6447c_3\n",
            "\n",
            "\n",
            "Preparing transaction: - \b\b\\ \b\b| \b\b/ \b\b- \b\bdone\n",
            "Executing transaction: | \b\b/ \b\b- \b\b\\ \b\b| \b\b/ \b\b- \b\b\\ \b\b| \b\b/ \b\b- \b\b\\ \b\b| \b\b/ \b\b- \b\b\\ \b\b| \b\b/ \b\b- \b\bdone\n",
            "installation finished.\n",
            "WARNING:\n",
            "    You currently have a PYTHONPATH environment variable set. This may cause\n",
            "    unexpected behavior when running the Python interpreter in Miniconda3.\n",
            "    For best results, please verify that your PYTHONPATH only points to\n",
            "    directories of packages that are compatible with the Python interpreter\n",
            "    in Miniconda3: /usr/local\n",
            "Collecting package metadata (current_repodata.json): - \b\b\\ \b\b| \b\b/ \b\b- \b\b\\ \b\b| \b\b/ \b\b- \b\b\\ \b\b| \b\b/ \b\b- \b\b\\ \b\b| \b\b/ \b\b- \b\b\\ \b\b| \b\b/ \b\b- \b\b\\ \b\b| \b\b/ \b\b- \b\b\\ \b\b| \b\b/ \b\b- \b\b\\ \b\b| \b\b/ \b\b- \b\b\\ \b\b| \b\b/ \b\b- \b\b\\ \b\b| \b\b/ \b\b- \b\b\\ \b\b| \b\b/ \b\b- \b\b\\ \b\bdone\n",
            "Solving environment: / \b\b- \b\b\\ \b\b| \b\b/ \b\b- \b\bdone\n",
            "\n",
            "## Package Plan ##\n",
            "\n",
            "  environment location: /usr/local\n",
            "\n",
            "  added / updated specs:\n",
            "    - bwa\n",
            "\n",
            "\n",
            "The following packages will be downloaded:\n",
            "\n",
            "    package                    |            build\n",
            "    ---------------------------|-----------------\n",
            "    bwa-0.7.17                 |       hed695b0_7         523 KB  bioconda\n",
            "    ca-certificates-2021.10.26 |       h06a4308_2         115 KB\n",
            "    certifi-2021.10.8          |   py37h06a4308_0         151 KB\n",
            "    conda-4.11.0               |   py37h06a4308_0        14.4 MB\n",
            "    openssl-1.1.1l             |       h7f8727e_0         2.5 MB\n",
            "    perl-5.26.2                |       h14c3975_0        10.5 MB\n",
            "    ------------------------------------------------------------\n",
            "                                           Total:        28.2 MB\n",
            "\n",
            "The following NEW packages will be INSTALLED:\n",
            "\n",
            "  bwa                bioconda/linux-64::bwa-0.7.17-hed695b0_7\n",
            "  perl               pkgs/main/linux-64::perl-5.26.2-h14c3975_0\n",
            "\n",
            "The following packages will be UPDATED:\n",
            "\n",
            "  ca-certificates                                2020.1.1-0 --> 2021.10.26-h06a4308_2\n",
            "  certifi                                 2019.11.28-py37_0 --> 2021.10.8-py37h06a4308_0\n",
            "  conda                                        4.8.2-py37_0 --> 4.11.0-py37h06a4308_0\n",
            "  openssl                                 1.1.1d-h7b6447c_4 --> 1.1.1l-h7f8727e_0\n",
            "\n",
            "\n",
            "\n",
            "Downloading and Extracting Packages\n",
            "conda-4.11.0         | 14.4 MB   | : 100% 1.0/1 [00:01<00:00,  7.33s/it]               \n",
            "ca-certificates-2021 | 115 KB    | : 100% 1.0/1 [00:00<00:00, 15.36it/s]\n",
            "perl-5.26.2          | 10.5 MB   | : 100% 1.0/1 [00:00<00:00,  1.32it/s]               \n",
            "certifi-2021.10.8    | 151 KB    | : 100% 1.0/1 [00:00<00:00, 14.35it/s]\n",
            "openssl-1.1.1l       | 2.5 MB    | : 100% 1.0/1 [00:00<00:00,  5.29it/s]\n",
            "bwa-0.7.17           | 523 KB    | : 100% 1.0/1 [00:00<00:00,  3.52s/it]                 \n",
            "Preparing transaction: | \b\b/ \b\bdone\n",
            "Verifying transaction: \\ \b\b| \b\b/ \b\b- \b\b\\ \b\bdone\n",
            "Executing transaction: / \b\b- \b\b\\ \b\b| \b\bdone\n",
            "Collecting package metadata (current_repodata.json): - \b\b\\ \b\b| \b\b/ \b\b- \b\b\\ \b\b| \b\b/ \b\b- \b\b\\ \b\bdone\n",
            "Solving environment: / \b\b- \b\b\\ \b\b| \b\bdone\n",
            "\n",
            "## Package Plan ##\n",
            "\n",
            "  environment location: /usr/local\n",
            "\n",
            "  added / updated specs:\n",
            "    - fastqc\n",
            "\n",
            "\n",
            "The following packages will be downloaded:\n",
            "\n",
            "    package                    |            build\n",
            "    ---------------------------|-----------------\n",
            "    fastqc-0.11.8              |                0         9.6 MB  bioconda\n",
            "    openjdk-8.0.152            |       h7b6447c_3        57.4 MB\n",
            "    ------------------------------------------------------------\n",
            "                                           Total:        66.9 MB\n",
            "\n",
            "The following NEW packages will be INSTALLED:\n",
            "\n",
            "  fastqc             bioconda/linux-64::fastqc-0.11.8-0\n",
            "  openjdk            pkgs/main/linux-64::openjdk-8.0.152-h7b6447c_3\n",
            "\n",
            "\n",
            "\n",
            "Downloading and Extracting Packages\n",
            "fastqc-0.11.8        | 9.6 MB    | : 100% 1.0/1 [00:01<00:00,  1.44s/it]\n",
            "openjdk-8.0.152      | 57.4 MB   | : 100% 1.0/1 [00:02<00:00,  2.94s/it]               \n",
            "Preparing transaction: - \b\bdone\n",
            "Verifying transaction: | \b\bdone\n",
            "Executing transaction: - \b\bdone\n",
            "Collecting package metadata (current_repodata.json): - \b\b\\ \b\b| \b\b/ \b\b- \b\b\\ \b\b| \b\b/ \b\b- \b\b\\ \b\bdone\n",
            "Solving environment: / \b\b- \b\b\\ \b\b| \b\bdone\n",
            "\n",
            "## Package Plan ##\n",
            "\n",
            "  environment location: /usr/local\n",
            "\n",
            "  added / updated specs:\n",
            "    - trimmomatic\n",
            "\n",
            "\n",
            "The following packages will be downloaded:\n",
            "\n",
            "    package                    |            build\n",
            "    ---------------------------|-----------------\n",
            "    trimmomatic-0.39           |       hdfd78af_2         144 KB  bioconda\n",
            "    ------------------------------------------------------------\n",
            "                                           Total:         144 KB\n",
            "\n",
            "The following NEW packages will be INSTALLED:\n",
            "\n",
            "  trimmomatic        bioconda/noarch::trimmomatic-0.39-hdfd78af_2\n",
            "\n",
            "\n",
            "\n",
            "Downloading and Extracting Packages\n",
            "trimmomatic-0.39     | 144 KB    | : 100% 1.0/1 [00:00<00:00,  3.97it/s]                \n",
            "Preparing transaction: - \b\bdone\n",
            "Verifying transaction: | \b\bdone\n",
            "Executing transaction: - \b\bdone\n",
            "Collecting package metadata (current_repodata.json): - \b\b\\ \b\b| \b\b/ \b\b- \b\b\\ \b\b| \b\b/ \b\b- \b\b\\ \b\b| \b\bdone\n",
            "Solving environment: - \b\b\\ \b\b| \b\b/ \b\b- \b\b\\ \b\b| \b\b/ \b\bdone\n",
            "\n",
            "## Package Plan ##\n",
            "\n",
            "  environment location: /usr/local\n",
            "\n",
            "  added / updated specs:\n",
            "    - samtools\n",
            "\n",
            "\n",
            "The following packages will be downloaded:\n",
            "\n",
            "    package                    |            build\n",
            "    ---------------------------|-----------------\n",
            "    samtools-1.3.1             |                0         1.5 MB  bioconda\n",
            "    ------------------------------------------------------------\n",
            "                                           Total:         1.5 MB\n",
            "\n",
            "The following NEW packages will be INSTALLED:\n",
            "\n",
            "  samtools           bioconda/linux-64::samtools-1.3.1-0\n",
            "\n",
            "\n",
            "\n",
            "Downloading and Extracting Packages\n",
            "samtools-1.3.1       | 1.5 MB    | : 100% 1.0/1 [00:00<00:00,  1.83it/s]\n",
            "Preparing transaction: \\ \b\bdone\n",
            "Verifying transaction: / \b\bdone\n",
            "Executing transaction: \\ \b\bdone\n",
            "Collecting package metadata (current_repodata.json): - \b\b\\ \b\b| \b\b/ \b\b- \b\b\\ \b\b| \b\b/ \b\b- \b\b\\ \b\b| \b\b/ \b\b- \b\b\\ \b\bdone\n",
            "Solving environment: / \b\b- \b\b\\ \b\b| \b\b/ \b\b- \b\b\\ \b\b| \b\b/ \b\b- \b\b\\ \b\b| \b\b/ \b\b- \b\b\\ \b\b| \b\b/ \b\b- \b\bfailed with initial frozen solve. Retrying with flexible solve.\n",
            "Solving environment: | \b\b/ \b\b- \b\b\\ \b\b| \b\b/ \b\b- \b\b\\ \b\b| \b\b/ \b\b- \b\b\\ \b\b| \b\b/ \b\b- \b\b\\ \b\b| \b\b/ \b\b- \b\b\\ \b\b| \b\b/ \b\b- \b\b\\ \b\b| \b\b/ \b\b- \b\b\\ \b\bfailed with repodata from current_repodata.json, will retry with next repodata source.\n",
            "Collecting package metadata (repodata.json): / \b\b- \b\b\\ \b\b| \b\b/ \b\b- \b\b\\ \b\b| \b\b/ \b\b- \b\b\\ \b\b| \b\b/ \b\b- \b\b\\ \b\b| \b\b/ \b\b- \b\b\\ \b\b| \b\b/ \b\b- \b\b\\ \b\b| \b\b/ \b\b- \b\b\\ \b\b| \b\b/ \b\b- \b\b\\ \b\b| \b\b/ \b\b- \b\b\\ \b\b| \b\b/ \b\b- \b\b\\ \b\b| \b\b/ \b\b- \b\b\\ \b\b| \b\b/ \b\b- \b\b\\ \b\b| \b\b/ \b\b- \b\b\\ \b\b| \b\b/ \b\b- \b\b\\ \b\b| \b\b/ \b\b- \b\b\\ \b\b| \b\b/ \b\b- \b\b\\ \b\b| \b\b/ \b\b- \b\b\\ \b\b| \b\b/ \b\b- \b\b\\ \b\b| \b\b/ \b\b- \b\b\\ \b\b| \b\b/ \b\b- \b\b\\ \b\b| \b\b/ \b\b- \b\b\\ \b\b| \b\b/ \b\b- \b\b\\ \b\b| \b\b/ \b\b- \b\b\\ \b\b| \b\b/ \b\b- \b\b\\ \b\b| \b\b/ \b\b- \b\b\\ \b\b| \b\b/ \b\b- \b\b\\ \b\b| \b\b/ \b\b- \b\b\\ \b\b| \b\b/ \b\b- \b\b\\ \b\b| \b\b/ \b\b- \b\bdone\n",
            "Solving environment: | \b\b/ \b\b- \b\b\\ \b\b| \b\b/ \b\b- \b\b\\ \b\b| \b\b/ \b\b- \b\b\\ \b\b| \b\b/ \b\b- \b\b\\ \b\b| \b\b/ \b\b- \b\b\\ \b\b| \b\b/ \b\b- \b\b\\ \b\b| \b\b/ \b\b- \b\b\\ \b\b| \b\b/ \b\b- \b\b\\ \b\b| \b\b/ \b\b- \b\b\\ \b\b| \b\b/ \b\b- \b\b\\ \b\b| \b\b/ \b\b- \b\b\\ \b\b| \b\b/ \b\b- \b\b\\ \b\b| \b\b/ \b\b- \b\b\\ \b\b| \b\b/ \b\b- \b\b\\ \b\b| \b\b/ \b\b- \b\b\\ \b\b| \b\b/ \b\b- \b\b\\ \b\b| \b\b/ \b\b- \b\b\\ \b\b| \b\b/ \b\b- \b\b\\ \b\b| \b\b/ \b\b- \b\b\\ \b\b| \b\b/ \b\b- \b\b\\ \b\b| \b\b/ \b\b- \b\b\\ \b\b| \b\b/ \b\b- \b\b\\ \b\b| \b\b/ \b\b- \b\b\\ \b\b| \b\b/ \b\b- \b\b\\ \b\b| \b\b/ \b\b- \b\b\\ \b\b| \b\b/ \b\b- \b\b\\ \b\b| \b\b/ \b\b- \b\b\\ \b\b| \b\b/ \b\b- \b\b\\ \b\b| \b\b/ \b\b- \b\b\\ \b\b| \b\b/ \b\b- \b\b\\ \b\b| \b\b/ \b\b- \b\b\\ \b\b| \b\b/ \b\b- \b\b\\ \b\b| \b\b/ \b\b- \b\b\\ \b\b| \b\b/ \b\b- \b\b\\ \b\b| \b\b/ \b\b- \b\b\\ \b\b| \b\b/ \b\b- \b\b\\ \b\b| \b\b/ \b\b- \b\b\\ \b\b| \b\b/ \b\b- \b\b\\ \b\b| \b\b/ \b\b- \b\b\\ \b\b| \b\b/ \b\b- \b\b\\ \b\b| \b\b/ \b\b- \b\b\\ \b\b| \b\b/ \b\b- \b\b\\ \b\b| \b\b/ \b\b- \b\b\\ \b\b| \b\b/ \b\b- \b\b\\ \b\b| \b\b/ \b\b- \b\b\\ \b\b| \b\b/ \b\b- \b\b\\ \b\b| \b\b/ \b\b- \b\b\\ \b\b| \b\b/ \b\b- \b\b\\ \b\b| \b\b/ \b\b- \b\b\\ \b\b| \b\b/ \b\b- \b\b\\ \b\b| \b\b/ \b\b- \b\b\\ \b\b| \b\b/ \b\b- \b\b\\ \b\b| \b\b/ \b\b- \b\b\\ \b\b| \b\b/ \b\b- \b\b\\ \b\b| \b\b/ \b\b- \b\b\\ \b\b| \b\b/ \b\b- \b\b\\ \b\b| \b\b/ \b\b- \b\b\\ \b\b| \b\b/ \b\b- \b\b\\ \b\b| \b\b/ \b\b- \b\b\\ \b\b| \b\b/ \b\b- \b\b\\ \b\b| \b\b/ \b\b- \b\b\\ \b\b| \b\b/ \b\b- \b\b\\ \b\b| \b\b/ \b\b- \b\b\\ \b\b| \b\b/ \b\b- \b\b\\ \b\b| \b\b/ \b\b- \b\b\\ \b\b| \b\b/ \b\b- \b\b\\ \b\b| \b\b/ \b\b- \b\b\\ \b\b| \b\b/ \b\b- \b\b\\ \b\b| \b\b/ \b\b- \b\b\\ \b\b| \b\b/ \b\b- \b\b\\ \b\b| \b\b/ \b\b- \b\b\\ \b\b| \b\b/ \b\b- \b\b\\ \b\b| \b\b/ \b\b- \b\b\\ \b\b| \b\b/ \b\b- \b\b\\ \b\b| \b\b/ \b\b- \b\b\\ \b\b| \b\b/ \b\b- \b\b\\ \b\b| \b\b/ \b\b- \b\b\\ \b\b| \b\b/ \b\b- \b\b\\ \b\b| \b\b/ \b\b- \b\b\\ \b\b| \b\b/ \b\b- \b\b\\ \b\b| \b\b/ \b\b- \b\b\\ \b\b| \b\b/ \b\b- \b\b\\ \b\b| \b\b/ \b\b- \b\b\\ \b\b| \b\b/ \b\b- \b\b\\ \b\b| \b\b/ \b\b- \b\b\\ \b\b| \b\b/ \b\b- \b\b\\ \b\b| \b\b/ \b\b- \b\b\\ \b\b| \b\b/ \b\b- \b\b\\ \b\b| \b\b/ \b\b- \b\b\\ \b\b| \b\b/ \b\b- \b\b\\ \b\b| \b\b/ \b\b- \b\b\\ \b\b| \b\b/ \b\b- \b\b\\ \b\b| \b\b/ \b\b- \b\b\\ \b\b| \b\b/ \b\b- \b\b\\ \b\b| \b\b/ \b\b- \b\b\\ \b\b| \b\b/ \b\b- \b\b\\ \b\b| \b\b/ \b\b- \b\b\\ \b\b| \b\b/ \b\b- \b\b\\ \b\b| \b\b/ \b\b- \b\b\\ \b\b| \b\b/ \b\b- \b\b\\ \b\b| \b\b/ \b\b- \b\b\\ \b\b| \b\b/ \b\b- \b\b\\ \b\b| \b\b/ \b\b- \b\b\\ \b\b| \b\b/ \b\b- \b\b\\ \b\b| \b\b/ \b\b- \b\b\\ \b\b| \b\b/ \b\b- \b\b\\ \b\b| \b\b/ \b\b- \b\b\\ \b\b| \b\b/ \b\b- \b\b\\ \b\b| \b\b/ \b\b- \b\b\\ \b\b| \b\b/ \b\b- \b\b\\ \b\b| \b\b/ \b\b- \b\b\\ \b\b| \b\b/ \b\b- \b\b\\ \b\b| \b\b/ \b\b- \b\b\\ \b\b| \b\b/ \b\b- \b\b\\ \b\b| \b\b/ \b\b- \b\b\\ \b\b| \b\b/ \b\b- \b\b\\ \b\b| \b\b/ \b\b- \b\b\\ \b\b| \b\b/ \b\b- \b\b\\ \b\b| \b\b/ \b\b- \b\b\\ \b\b| \b\b/ \b\b- \b\b\\ \b\b| \b\b/ \b\b- \b\b\\ \b\b| \b\b/ \b\b- \b\b\\ \b\b| \b\b/ \b\b- \b\b\\ \b\b| \b\b/ \b\b- \b\b\\ \b\b| \b\b/ \b\b- \b\b\\ \b\b| \b\b/ \b\b- \b\b\\ \b\b| \b\b/ \b\b- \b\b\\ \b\b| \b\b/ \b\b- \b\b\\ \b\b| \b\b/ \b\b- \b\b\\ \b\b| \b\b/ \b\b- \b\b\\ \b\b| \b\b/ \b\b- \b\b\\ \b\b| \b\b/ \b\b- \b\b\\ \b\b| \b\b/ \b\b- \b\b\\ \b\b| \b\b/ \b\b- \b\b\\ \b\b| \b\b/ \b\b- \b\b\\ \b\b| \b\b/ \b\b- \b\b\\ \b\b| \b\b/ \b\b- \b\b\\ \b\b| \b\b/ \b\b- \b\b\\ \b\b| \b\b/ \b\b- \b\b\\ \b\b| \b\b/ \b\b- \b\b\\ \b\b| \b\b/ \b\b- \b\b\\ \b\b| \b\b/ \b\b- \b\b\\ \b\b| \b\b/ \b\b- \b\b\\ \b\b| \b\b/ \b\b- \b\b\\ \b\b| \b\b/ \b\b- \b\b\\ \b\b| \b\b/ \b\b- \b\b\\ \b\b| \b\b/ \b\b- \b\b\\ \b\b| \b\b/ \b\b- \b\b\\ \b\b| \b\b/ \b\b- \b\b\\ \b\b| \b\b/ \b\b- \b\b\\ \b\b| \b\b/ \b\b- \b\b\\ \b\b| \b\b/ \b\b- \b\b\\ \b\b| \b\b/ \b\b- \b\b\\ \b\b| \b\b/ \b\b- \b\b\\ \b\b| \b\b/ \b\b- \b\b\\ \b\b| \b\b/ \b\b- \b\b\\ \b\b| \b\b/ \b\b- \b\b\\ \b\b| \b\b/ \b\b- \b\b\\ \b\b| \b\b/ \b\b- \b\b\\ \b\b| \b\b/ \b\b- \b\b\\ \b\b| \b\b/ \b\b- \b\b\\ \b\b| \b\b/ \b\b- \b\b\\ \b\b| \b\b/ \b\b- \b\b\\ \b\b| \b\b/ \b\b- \b\b\\ \b\b| \b\b/ \b\b- \b\b\\ \b\b| \b\b/ \b\b- \b\b\\ \b\b| \b\b/ \b\b- \b\b\\ \b\b| \b\b/ \b\b- \b\b\\ \b\b| \b\b/ \b\b- \b\b\\ \b\b| \b\b/ \b\b- \b\b\\ \b\b| \b\b/ \b\b- \b\b\\ \b\b| \b\b/ \b\b- \b\b\\ \b\b| \b\b/ \b\b- \b\b\\ \b\b| \b\b/ \b\b- \b\b\\ \b\b| \b\b/ \b\b- \b\b\\ \b\b| \b\b/ \b\b- \b\b\\ \b\b| \b\b/ \b\b- \b\b\\ \b\b| \b\b/ \b\b- \b\b\\ \b\b| \b\b/ \b\b- \b\b\\ \b\b| \b\b/ \b\b- \b\b\\ \b\b| \b\b/ \b\b- \b\b\\ \b\b| \b\b/ \b\b- \b\b\\ \b\b| \b\b/ \b\b- \b\b\\ \b\b| \b\b/ \b\b- \b\b\\ \b\b| \b\b/ \b\b- \b\b\\ \b\b| \b\b/ \b\b- \b\b\\ \b\b| \b\b/ \b\b- \b\b\\ \b\b| \b\b/ \b\b- \b\b\\ \b\b| \b\b/ \b\b- \b\b\\ \b\b| \b\b/ \b\b- \b\b\\ \b\b| \b\b/ \b\b- \b\b\\ \b\b| \b\b/ \b\b- \b\b\\ \b\b| \b\b/ \b\b- \b\b\\ \b\b| \b\b/ \b\b- \b\b\\ \b\b| \b\b/ \b\b- \b\b\\ \b\b| \b\b/ \b\b- \b\b\\ \b\b| \b\b/ \b\b- \b\b\\ \b\b| \b\b/ \b\b- \b\b\\ \b\b| \b\b/ \b\b- \b\b\\ \b\b| \b\b/ \b\b- \b\b\\ \b\b| \b\b/ \b\b- \b\b\\ \b\b| \b\b/ \b\b- \b\b\\ \b\b| \b\b/ \b\b- \b\b\\ \b\b| \b\b/ \b\b- \b\b\\ \b\b| \b\b/ \b\b- \b\b\\ \b\b| \b\b/ \b\b- \b\b\\ \b\b| \b\b/ \b\b- \b\b\\ \b\b| \b\b/ \b\b- \b\b\\ \b\b| \b\b/ \b\b- \b\b\\ \b\b| \b\b/ \b\b- \b\b\\ \b\b| \b\b/ \b\b- \b\b\\ \b\b| \b\b/ \b\b- \b\b\\ \b\b| \b\b/ \b\b- \b\b\\ \b\b| \b\b/ \b\b- \b\b\\ \b\b| \b\b/ \b\b- \b\b\\ \b\b| \b\b/ \b\b- \b\b\\ \b\b| \b\b/ \b\b- \b\b\\ \b\b| \b\b/ \b\b- \b\b\\ \b\b| \b\b/ \b\b- \b\b\\ \b\b| \b\b/ \b\b- \b\b\\ \b\b| \b\b/ \b\b- \b\b\\ \b\b| \b\b/ \b\b- \b\b\\ \b\b| \b\b/ \b\b- \b\b\\ \b\b| \b\b/ \b\b- \b\b\\ \b\b| \b\b/ \b\b- \b\b\\ \b\b| \b\b/ \b\b- \b\b\\ \b\b| \b\b/ \b\b- \b\b\\ \b\b| \b\b/ \b\b- \b\b\\ \b\b| \b\b/ \b\b- \b\b\\ \b\b| \b\b/ \b\b- \b\b\\ \b\b| \b\b/ \b\b- \b\b\\ \b\b| \b\b/ \b\b- \b\b\\ \b\b| \b\b/ \b\b- \b\b\\ \b\b| \b\b/ \b\b- \b\b\\ \b\b| \b\b/ \b\b- \b\b\\ \b\b| \b\b/ \b\b- \b\b\\ \b\b| \b\b/ \b\b- \b\b\\ \b\b| \b\b/ \b\b- \b\b\\ \b\b| \b\b/ \b\b- \b\b\\ \b\b| \b\b/ \b\b- \b\b\\ \b\b| \b\b/ \b\b- \b\b\\ \b\b| \b\b/ \b\b- \b\b\\ \b\b| \b\b/ \b\b- \b\b\\ \b\b| \b\b/ \b\b- \b\b\\ \b\b| \b\b/ \b\b- \b\b\\ \b\b| \b\b/ \b\b- \b\b\\ \b\b| \b\b/ \b\b- \b\b\\ \b\b| \b\b/ \b\b- \b\b\\ \b\b| \b\b/ \b\b- \b\b\\ \b\b| \b\b/ \b\b- \b\b\\ \b\b| \b\b/ \b\b- \b\b\\ \b\b| \b\b/ \b\b- \b\b\\ \b\b| \b\b/ \b\b- \b\b\\ \b\b| \b\b/ \b\b- \b\b\\ \b\b| \b\b/ \b\b- \b\b\\ \b\b| \b\b/ \b\b- \b\b\\ \b\b| \b\b/ \b\b- \b\b\\ \b\b| \b\b/ \b\b- \b\b\\ \b\b| \b\b/ \b\b- \b\b\\ \b\b| \b\b/ \b\b- \b\b\\ \b\b| \b\b/ \b\b- \b\b\\ \b\b| \b\b/ \b\b- \b\b\\ \b\b| \b\b/ \b\b- \b\b\\ \b\b| \b\b/ \b\b- \b\b\\ \b\b| \b\b/ \b\b- \b\b\\ \b\b| \b\b/ \b\b- \b\b\\ \b\b| \b\b/ \b\b- \b\b\\ \b\b| \b\b/ \b\b- \b\b\\ \b\b| \b\b/ \b\b- \b\b\\ \b\b| \b\b/ \b\b- \b\b\\ \b\b| \b\b/ \b\b- \b\b\\ \b\b| \b\b/ \b\b- \b\b\\ \b\b| \b\b/ \b\b- \b\b\\ \b\b| \b\b/ \b\b- \b\b\\ \b\b| \b\b/ \b\b- \b\b\\ \b\b| \b\b/ \b\b- \b\b\\ \b\b| \b\b/ \b\b- \b\b\\ \b\b| \b\b/ \b\b- \b\b\\ \b\b| \b\b/ \b\b- \b\b\\ \b\b| \b\b/ \b\b- \b\b\\ \b\b| \b\b/ \b\b- \b\b\\ \b\b| \b\b/ \b\b- \b\b\\ \b\b| \b\b/ \b\b- \b\b\\ \b\b| \b\b/ \b\b- \b\b\\ \b\b| \b\b/ \b\b- \b\b\\ \b\b| \b\b/ \b\b- \b\b\\ \b\b| \b\b/ \b\b- \b\b\\ \b\b| \b\b/ \b\b- \b\b\\ \b\b| \b\b/ \b\b- \b\b\\ \b\b| \b\b/ \b\b- \b\b\\ \b\b| \b\b/ \b\b- \b\b\\ \b\b| \b\b/ \b\b- \b\b\\ \b\b| \b\b/ \b\b- \b\b\\ \b\b| \b\b/ \b\b- \b\b\\ \b\b| \b\b/ \b\b- \b\b\\ \b\b| \b\b/ \b\b- \b\b\\ \b\b| \b\b/ \b\b- \b\b\\ \b\b| \b\b/ \b\b- \b\b\\ \b\b| \b\b/ \b\b- \b\b\\ \b\b| \b\b/ \b\b- \b\b\\ \b\b| \b\b/ \b\b- \b\b\\ \b\b| \b\b/ \b\b- \b\b\\ \b\b| \b\b/ \b\b- \b\b\\ \b\b| \b\b/ \b\b- \b\b\\ \b\b| \b\b/ \b\b- \b\b\\ \b\b| \b\b/ \b\b- \b\b\\ \b\b| \b\b/ \b\b- \b\b\\ \b\b| \b\b/ \b\b- \b\b\\ \b\b| \b\b/ \b\b- \b\b\\ \b\b| \b\b/ \b\b- \b\b\\ \b\b| \b\b/ \b\b- \b\b\\ \b\b| \b\b/ \b\b- \b\b\\ \b\b| \b\b/ \b\b- \b\b\\ \b\b| \b\b/ \b\b- \b\b\\ \b\b| \b\b/ \b\b- \b\b\\ \b\b| \b\b/ \b\b- \b\b\\ \b\b| \b\b/ \b\b- \b\b\\ \b\b| \b\b/ \b\b- \b\b\\ \b\b| \b\b/ \b\b- \b\b\\ \b\b| \b\b/ \b\b- \b\b\\ \b\b| \b\b/ \b\b- \b\b\\ \b\b| \b\b/ \b\b- \b\b\\ \b\b| \b\b/ \b\b- \b\b\\ \b\b| \b\b/ \b\b- \b\b\\ \b\b| \b\b/ \b\b- \b\b\\ \b\b| \b\b/ \b\b- \b\b\\ \b\b| \b\b/ \b\b- \b\b\\ \b\b| \b\b/ \b\b- \b\b\\ \b\b| \b\b/ \b\b- \b\b\\ \b\b| \b\b/ \b\b- \b\b\\ \b\b| \b\b/ \b\b- \b\b\\ \b\b| \b\b/ \b\b- \b\b\\ \b\b| \b\b/ \b\b- \b\b\\ \b\b| \b\b/ \b\b- \b\b\\ \b\b| \b\b/ \b\b- \b\b\\ \b\b| \b\b/ \b\b- \b\b\\ \b\b| \b\b/ \b\b- \b\b\\ \b\b| \b\b/ \b\b- \b\b\\ \b\b| \b\b/ \b\b- \b\b\\ \b\b| \b\b/ \b\b- \b\b\\ \b\b| \b\b/ \b\b- \b\b\\ \b\b| \b\b/ \b\b- \b\b\\ \b\b| \b\b/ \b\b- \b\b\\ \b\b| \b\b/ \b\b- \b\b\\ \b\b| \b\b/ \b\b- \b\b\\ \b\b| \b\b/ \b\b- \b\b\\ \b\b| \b\b/ \b\b- \b\b\\ \b\b| \b\b/ \b\b- \b\b\\ \b\b| \b\b/ \b\b- \b\b\\ \b\b| \b\b/ \b\b- \b\b\\ \b\b| \b\b/ \b\b- \b\b\\ \b\b| \b\b/ \b\b- \b\b\\ \b\b| \b\b/ \b\b- \b\b\\ \b\b| \b\b/ \b\b- \b\b\\ \b\b| \b\b/ \b\b- \b\b\\ \b\b| \b\b/ \b\b- \b\b\\ \b\b| \b\b/ \b\b- \b\b\\ \b\b| \b\b/ \b\b- \b\b\\ \b\b| \b\b/ \b\b- \b\b\\ \b\b| \b\b/ \b\b- \b\b\\ \b\b| \b\b/ \b\b- \b\b\\ \b\b| \b\b/ \b\b- \b\b\\ \b\b| \b\b/ \b\b- \b\b\\ \b\b| \b\b/ \b\b- \b\b\\ \b\b| \b\b/ \b\b- \b\b\\ \b\b| \b\b/ \b\b- \b\b\\ \b\b| \b\b/ \b\b- \b\b\\ \b\b| \b\b/ \b\b- \b\b\\ \b\b| \b\b/ \b\b- \b\b\\ \b\b| \b\b/ \b\b- \b\b\\ \b\b| \b\b/ \b\b- \b\b\\ \b\b| \b\b/ \b\b- \b\b\\ \b\b| \b\b/ \b\b- \b\b\\ \b\b| \b\b/ \b\b- \b\b\\ \b\b| \b\b/ \b\b- \b\b\\ \b\b| \b\b/ \b\b- \b\b\\ \b\b| \b\b/ \b\b- \b\b\\ \b\b| \b\b/ \b\b- \b\b\\ \b\b| \b\b/ \b\b- \b\b\\ \b\b| \b\b/ \b\b- \b\b\\ \b\b| \b\b/ \b\b- \b\b\\ \b\b| \b\b/ \b\b- \b\b\\ \b\b| \b\b/ \b\b- \b\b\\ \b\b| \b\b/ \b\b- \b\b\\ \b\b| \b\b/ \b\b- \b\b\\ \b\b| \b\b/ \b\b- \b\b\\ \b\b| \b\b/ \b\b- \b\b\\ \b\b| \b\b/ \b\b- \b\b\\ \b\b| \b\b/ \b\b- \b\b\\ \b\b| \b\b/ \b\b- \b\b\\ \b\b| \b\b/ \b\b- \b\b\\ \b\b| \b\b/ \b\b- \b\b\\ \b\b| \b\b/ \b\b- \b\b\\ \b\b| \b\b/ \b\b- \b\b\\ \b\b| \b\b/ \b\b- \b\b\\ \b\b| \b\b/ \b\b- \b\b\\ \b\b| \b\b/ \b\b- \b\b\\ \b\b| \b\b/ \b\b- \b\b\\ \b\b| \b\b/ \b\b- \b\b\\ \b\b| \b\b/ \b\b- \b\b\\ \b\b| \b\b/ \b\b- \b\b\\ \b\b| \b\b/ \b\b- \b\b\\ \b\b| \b\b/ \b\b- \b\b\\ \b\b| \b\b/ \b\b- \b\b\\ \b\b| \b\b/ \b\b- \b\b\\ \b\b| \b\b/ \b\b- \b\b\\ \b\b| \b\b/ \b\b- \b\b\\ \b\b| \b\b/ \b\b- \b\b\\ \b\b| \b\b/ \b\b- \b\b\\ \b\b| \b\b/ \b\b- \b\b\\ \b\b| \b\b/ \b\b- \b\b\\ \b\b| \b\b/ \b\b- \b\b\\ \b\b| \b\b/ \b\b- \b\b\\ \b\b| \b\b/ \b\b- \b\b\\ \b\b| \b\b/ \b\b- \b\b\\ \b\b| \b\b/ \b\b- \b\b\\ \b\b| \b\b/ \b\b- \b\b\\ \b\b| \b\b/ \b\b- \b\b\\ \b\b| \b\b/ \b\b- \b\b\\ \b\b| \b\b/ \b\b- \b\b\\ \b\b| \b\b/ \b\b- \b\b\\ \b\b| \b\b/ \b\b- \b\b\\ \b\b| \b\b/ \b\b- \b\b\\ \b\b| \b\b/ \b\b- \b\b\\ \b\b| \b\b/ \b\b- \b\b\\ \b\b| \b\b/ \b\b- \b\b\\ \b\b| \b\b/ \b\b- \b\b\\ \b\b| \b\b/ \b\b- \b\b\\ \b\b| \b\b/ \b\b- \b\b\\ \b\b| \b\b/ \b\b- \b\b\\ \b\b| \b\b/ \b\b- \b\b\\ \b\b| \b\b/ \b\b- \b\b\\ \b\b| \b\b/ \b\b- \b\b\\ \b\b| \b\b/ \b\b- \b\b\\ \b\b| \b\b/ \b\b- \b\b\\ \b\b| \b\b/ \b\b- \b\b\\ \b\b| \b\b/ \b\b- \b\b\\ \b\b| \b\b/ \b\b- \b\b\\ \b\b| \b\b/ \b\b- \b\b\\ \b\b| \b\b/ \b\b- \b\b\\ \b\b| \b\b/ \b\b- \b\b\\ \b\b| \b\b/ \b\b- \b\b\\ \b\b| \b\b/ \b\b- \b\b\\ \b\b| \b\b/ \b\b- \b\b\\ \b\b| \b\b/ \b\b- \b\b\\ \b\b| \b\b/ \b\b- \b\b\\ \b\b| \b\b/ \b\b- \b\b\\ \b\b| \b\b/ \b\b- \b\b\\ \b\b| \b\b/ \b\b- \b\b\\ \b\b| \b\b/ \b\b- \b\b\\ \b\b| \b\b/ \b\b- \b\b\\ \b\b| \b\b/ \b\b- \b\b\\ \b\b| \b\b/ \b\b- \b\b\\ \b\b| \b\b/ \b\b- \b\b\\ \b\b| \b\b/ \b\b- \b\b\\ \b\b| \b\b/ \b\b- \b\b\\ \b\b| \b\b/ \b\b- \b\b\\ \b\b| \b\b/ \b\b- \b\b\\ \b\b| \b\b/ \b\b- \b\b\\ \b\b| \b\b/ \b\b- \b\b\\ \b\b| \b\b/ \b\b- \b\b\\ \b\b| \b\b/ \b\b- \b\b\\ \b\b| \b\b/ \b\b- \b\b\\ \b\b| \b\b/ \b\b- \b\b\\ \b\b| \b\b/ \b\b- \b\b\\ \b\b| \b\b/ \b\b- \b\b\\ \b\b| \b\b/ \b\b- \b\b\\ \b\b| \b\b/ \b\b- \b\b\\ \b\b| \b\b/ \b\b- \b\b\\ \b\b| \b\b/ \b\b- \b\b\\ \b\b| \b\b/ \b\b- \b\b\\ \b\b| \b\b/ \b\b- \b\b\\ \b\b| \b\b/ \b\b- \b\b\\ \b\b| \b\b/ \b\b- \b\b\\ \b\b| \b\b/ \b\b- \b\b\\ \b\b| \b\b/ \b\b- \b\b\\ \b\b| \b\b/ \b\b- \b\b\\ \b\b| \b\b/ \b\b- \b\b\\ \b\b| \b\b/ \b\b- \b\b\\ \b\b| \b\b/ \b\b- \b\b\\ \b\b| \b\b/ \b\b- \b\b\\ \b\b| \b\b/ \b\b- \b\b\\ \b\b| \b\b/ \b\b- \b\b\\ \b\b| \b\b/ \b\b- \b\b\\ \b\b| \b\b/ \b\b- \b\b\\ \b\b| \b\b/ \b\b- \b\b\\ \b\b| \b\b/ \b\b- \b\b\\ \b\b| \b\b/ \b\b- \b\b\\ \b\b| \b\b/ \b\b- \b\b\\ \b\b| \b\b/ \b\b- \b\b\\ \b\b| \b\b/ \b\b- \b\b\\ \b\b| \b\b/ \b\b- \b\b\\ \b\b| \b\b/ \b\b- \b\b\\ \b\b| \b\b/ \b\b- \b\b\\ \b\b| \b\b/ \b\b- \b\b\\ \b\b| \b\b/ \b\b- \b\b\\ \b\b| \b\b/ \b\b- \b\b\\ \b\b| \b\b/ \b\b- \b\b\\ \b\b| \b\b/ \b\b- \b\b\\ \b\b| \b\b/ \b\b- \b\b\\ \b\b| \b\b/ \b\b- \b\b\\ \b\b| \b\b/ \b\b- \b\b\\ \b\b| \b\b/ \b\b- \b\b\\ \b\b| \b\b/ \b\b- \b\b\\ \b\b| \b\b/ \b\b- \b\b\\ \b\b| \b\b/ \b\b- \b\b\\ \b\b| \b\b/ \b\b- \b\b\\ \b\b| \b\b/ \b\b- \b\b\\ \b\b| \b\b/ \b\b- \b\b\\ \b\b| \b\b/ \b\b- \b\b\\ \b\b| \b\b/ \b\b- \b\b\\ \b\b| \b\b/ \b\b- \b\b\\ \b\b| \b\b/ \b\b- \b\b\\ \b\b| \b\b/ \b\b- \b\b\\ \b\b| \b\b/ \b\b- \b\b\\ \b\b| \b\b/ \b\b- \b\b\\ \b\b| \b\b/ \b\b- \b\b\\ \b\b| \b\b/ \b\b- \b\b\\ \b\b| \b\b/ \b\b- \b\b\\ \b\b| \b\b/ \b\b- \b\b\\ \b\b| \b\b/ \b\b- \b\b\\ \b\b| \b\b/ \b\b- \b\b\\ \b\b| \b\b/ \b\b- \b\b\\ \b\b| \b\b/ \b\b- \b\b\\ \b\b| \b\b/ \b\b- \b\b\\ \b\b| \b\b/ \b\b- \b\b\\ \b\b| \b\b/ \b\b- \b\b\\ \b\b| \b\b/ \b\b- \b\b\\ \b\b| \b\b/ \b\b- \b\b\\ \b\b| \b\b/ \b\b- \b\b\\ \b\b| \b\b/ \b\b- \b\b\\ \b\b| \b\b/ \b\b- \b\b\\ \b\b| \b\b/ \b\b- \b\b\\ \b\b| \b\b/ \b\b- \b\b\\ \b\b| \b\b/ \b\b- \b\b\\ \b\b| \b\b/ \b\b- \b\b\\ \b\b| \b\b/ \b\b- \b\b\\ \b\b| \b\b/ \b\b- \b\b\\ \b\b| \b\b/ \b\b- \b\b\\ \b\b| \b\b/ \b\b- \b\b\\ \b\b| \b\b/ \b\b- \b\b\\ \b\b| \b\b/ \b\b- \b\b\\ \b\b| \b\b/ \b\b- \b\b\\ \b\b| \b\b/ \b\bdone\n",
            "\n",
            "## Package Plan ##\n",
            "\n",
            "  environment location: /usr/local\n",
            "\n",
            "  added / updated specs:\n",
            "    - gatk\n",
            "\n",
            "\n",
            "The following packages will be downloaded:\n",
            "\n",
            "    package                    |            build\n",
            "    ---------------------------|-----------------\n",
            "    _r-mutex-1.0.0             |      anacondar_1           3 KB\n",
            "    cairo-1.14.12              |       h8948797_3         906 KB\n",
            "    fontconfig-2.13.0          |       h9420a91_0         227 KB\n",
            "    freetype-2.11.0            |       h70c0345_0         618 KB\n",
            "    fribidi-1.0.10             |       h7b6447c_0         103 KB\n",
            "    gatk-3.8                   |      hdfd78af_11        13.9 MB  bioconda\n",
            "    glib-2.63.1                |       h5a9c865_0         2.9 MB\n",
            "    graphite2-1.3.14           |       h23475e2_0          99 KB\n",
            "    harfbuzz-1.8.8             |       hffaf4a1_0         507 KB\n",
            "    icu-58.2                   |       he6710b0_3        10.5 MB\n",
            "    jpeg-9d                    |       h7f8727e_0         232 KB\n",
            "    libgcc-7.2.0               |       h69d50b8_2         269 KB\n",
            "    libpng-1.6.37              |       hbc83047_0         278 KB\n",
            "    libtiff-4.0.9              |       he85c1e1_2         422 KB\n",
            "    libuuid-1.0.3              |       h7f8727e_2          17 KB\n",
            "    libxcb-1.14                |       h7b6447c_0         505 KB\n",
            "    libxml2-2.9.9              |       hea5a465_1         1.6 MB\n",
            "    pango-1.42.4               |       h049681c_0         464 KB\n",
            "    pcre-8.45                  |       h295c915_0         207 KB\n",
            "    pixman-0.40.0              |       h7f8727e_1         373 KB\n",
            "    r-3.2.2                    |                0           2 KB\n",
            "    r-base-3.2.2               |                0        18.9 MB\n",
            "    r-bitops-1.0_6             |        r3.2.2_1a          21 KB\n",
            "    r-boot-1.3_17              |        r3.2.2_0a         559 KB\n",
            "    r-catools-1.17.1           |         r3.2.2_0         157 KB  bioconda\n",
            "    r-class-7.3_14             |        r3.2.2_0a          78 KB\n",
            "    r-cluster-2.0.3            |        r3.2.2_0a         447 KB\n",
            "    r-codetools-0.2_14         |        r3.2.2_0a          44 KB\n",
            "    r-colorspace-1.2_6         |        r3.2.2_0a         346 KB\n",
            "    r-dichromat-2.0_0          |        r3.2.2_2a         143 KB\n",
            "    r-digest-0.6.9             |         r3.2.2_0         110 KB  bioconda\n",
            "    r-foreign-0.8_66           |        r3.2.2_0a         199 KB\n",
            "    r-gdata-2.17.0             |        r3.2.2_0a         922 KB\n",
            "    r-ggplot2-2.1.0            |         r3.2.2_0         1.9 MB  bioconda\n",
            "    r-gplots-2.17.0            |        r3.2.2_0a         536 KB\n",
            "    r-gsalib-2.1               |         r3.2.2_0          20 KB  bioconda\n",
            "    r-gtable-0.1.2             |        r3.2.2_2a          60 KB\n",
            "    r-gtools-3.5.0             |        r3.2.2_0a         126 KB\n",
            "    r-kernsmooth-2.23_15       |        r3.2.2_0a          79 KB\n",
            "    r-labeling-0.3             |        r3.2.2_1a          39 KB\n",
            "    r-lattice-0.20_33          |        r3.2.2_0a         673 KB\n",
            "    r-magrittr-1.5             |         r3.2.2_0         154 KB  bioconda\n",
            "    r-mass-7.3_45              |        r3.2.2_0a         989 KB\n",
            "    r-matrix-1.2_2             |        r3.2.2_0a         2.8 MB\n",
            "    r-mgcv-1.8_9               |        r3.2.2_0a         1.8 MB\n",
            "    r-munsell-0.4.2            |        r3.2.2_1a         115 KB\n",
            "    r-nlme-3.1_122             |        r3.2.2_0a         1.9 MB\n",
            "    r-nnet-7.3_11              |        r3.2.2_0a          93 KB\n",
            "    r-plyr-1.8.3               |        r3.2.2_0a         712 KB\n",
            "    r-rcolorbrewer-1.1_2       |        r3.2.2_2a          25 KB\n",
            "    r-rcpp-0.12.2              |        r3.2.2_0a         2.0 MB\n",
            "    r-recommended-3.2.2        |         r3.2.2_0           1 KB\n",
            "    r-reshape-0.8.5            |        r3.2.2_1a         119 KB\n",
            "    r-reshape2-1.4.1           |        r3.2.2_1a          92 KB\n",
            "    r-rpart-4.1_10             |        r3.2.2_0a         830 KB\n",
            "    r-scales-0.3.0             |        r3.2.2_0a         195 KB\n",
            "    r-spatial-7.3_11           |        r3.2.2_0a         117 KB\n",
            "    r-stringi-1.0_1            |        r3.2.2_0a         9.0 MB\n",
            "    r-stringr-1.0.0            |        r3.2.2_0a          75 KB\n",
            "    r-survival-2.38_3          |        r3.2.2_0a         4.2 MB\n",
            "    ------------------------------------------------------------\n",
            "                                           Total:        84.2 MB\n",
            "\n",
            "The following NEW packages will be INSTALLED:\n",
            "\n",
            "  _r-mutex           pkgs/r/linux-64::_r-mutex-1.0.0-anacondar_1\n",
            "  cairo              pkgs/main/linux-64::cairo-1.14.12-h8948797_3\n",
            "  fontconfig         pkgs/main/linux-64::fontconfig-2.13.0-h9420a91_0\n",
            "  freetype           pkgs/main/linux-64::freetype-2.11.0-h70c0345_0\n",
            "  fribidi            pkgs/main/linux-64::fribidi-1.0.10-h7b6447c_0\n",
            "  gatk               bioconda/noarch::gatk-3.8-hdfd78af_11\n",
            "  glib               pkgs/main/linux-64::glib-2.63.1-h5a9c865_0\n",
            "  graphite2          pkgs/main/linux-64::graphite2-1.3.14-h23475e2_0\n",
            "  harfbuzz           pkgs/main/linux-64::harfbuzz-1.8.8-hffaf4a1_0\n",
            "  icu                pkgs/main/linux-64::icu-58.2-he6710b0_3\n",
            "  jpeg               pkgs/main/linux-64::jpeg-9d-h7f8727e_0\n",
            "  libgcc             pkgs/main/linux-64::libgcc-7.2.0-h69d50b8_2\n",
            "  libpng             pkgs/main/linux-64::libpng-1.6.37-hbc83047_0\n",
            "  libtiff            pkgs/main/linux-64::libtiff-4.0.9-he85c1e1_2\n",
            "  libuuid            pkgs/main/linux-64::libuuid-1.0.3-h7f8727e_2\n",
            "  libxcb             pkgs/main/linux-64::libxcb-1.14-h7b6447c_0\n",
            "  libxml2            pkgs/main/linux-64::libxml2-2.9.9-hea5a465_1\n",
            "  pango              pkgs/main/linux-64::pango-1.42.4-h049681c_0\n",
            "  pcre               pkgs/main/linux-64::pcre-8.45-h295c915_0\n",
            "  pixman             pkgs/main/linux-64::pixman-0.40.0-h7f8727e_1\n",
            "  r                  pkgs/r/linux-64::r-3.2.2-0\n",
            "  r-base             pkgs/r/linux-64::r-base-3.2.2-0\n",
            "  r-bitops           pkgs/r/linux-64::r-bitops-1.0_6-r3.2.2_1a\n",
            "  r-boot             pkgs/r/linux-64::r-boot-1.3_17-r3.2.2_0a\n",
            "  r-catools          bioconda/linux-64::r-catools-1.17.1-r3.2.2_0\n",
            "  r-class            pkgs/r/linux-64::r-class-7.3_14-r3.2.2_0a\n",
            "  r-cluster          pkgs/r/linux-64::r-cluster-2.0.3-r3.2.2_0a\n",
            "  r-codetools        pkgs/r/linux-64::r-codetools-0.2_14-r3.2.2_0a\n",
            "  r-colorspace       pkgs/r/linux-64::r-colorspace-1.2_6-r3.2.2_0a\n",
            "  r-dichromat        pkgs/r/linux-64::r-dichromat-2.0_0-r3.2.2_2a\n",
            "  r-digest           bioconda/linux-64::r-digest-0.6.9-r3.2.2_0\n",
            "  r-foreign          pkgs/r/linux-64::r-foreign-0.8_66-r3.2.2_0a\n",
            "  r-gdata            pkgs/r/linux-64::r-gdata-2.17.0-r3.2.2_0a\n",
            "  r-ggplot2          bioconda/linux-64::r-ggplot2-2.1.0-r3.2.2_0\n",
            "  r-gplots           pkgs/r/linux-64::r-gplots-2.17.0-r3.2.2_0a\n",
            "  r-gsalib           bioconda/linux-64::r-gsalib-2.1-r3.2.2_0\n",
            "  r-gtable           pkgs/r/linux-64::r-gtable-0.1.2-r3.2.2_2a\n",
            "  r-gtools           pkgs/r/linux-64::r-gtools-3.5.0-r3.2.2_0a\n",
            "  r-kernsmooth       pkgs/r/linux-64::r-kernsmooth-2.23_15-r3.2.2_0a\n",
            "  r-labeling         pkgs/r/linux-64::r-labeling-0.3-r3.2.2_1a\n",
            "  r-lattice          pkgs/r/linux-64::r-lattice-0.20_33-r3.2.2_0a\n",
            "  r-magrittr         bioconda/linux-64::r-magrittr-1.5-r3.2.2_0\n",
            "  r-mass             pkgs/r/linux-64::r-mass-7.3_45-r3.2.2_0a\n",
            "  r-matrix           pkgs/r/linux-64::r-matrix-1.2_2-r3.2.2_0a\n",
            "  r-mgcv             pkgs/r/linux-64::r-mgcv-1.8_9-r3.2.2_0a\n",
            "  r-munsell          pkgs/r/linux-64::r-munsell-0.4.2-r3.2.2_1a\n",
            "  r-nlme             pkgs/r/linux-64::r-nlme-3.1_122-r3.2.2_0a\n",
            "  r-nnet             pkgs/r/linux-64::r-nnet-7.3_11-r3.2.2_0a\n",
            "  r-plyr             pkgs/r/linux-64::r-plyr-1.8.3-r3.2.2_0a\n",
            "  r-rcolorbrewer     pkgs/r/linux-64::r-rcolorbrewer-1.1_2-r3.2.2_2a\n",
            "  r-rcpp             pkgs/r/linux-64::r-rcpp-0.12.2-r3.2.2_0a\n",
            "  r-recommended      pkgs/r/linux-64::r-recommended-3.2.2-r3.2.2_0\n",
            "  r-reshape          pkgs/r/linux-64::r-reshape-0.8.5-r3.2.2_1a\n",
            "  r-reshape2         pkgs/r/linux-64::r-reshape2-1.4.1-r3.2.2_1a\n",
            "  r-rpart            pkgs/r/linux-64::r-rpart-4.1_10-r3.2.2_0a\n",
            "  r-scales           pkgs/r/linux-64::r-scales-0.3.0-r3.2.2_0a\n",
            "  r-spatial          pkgs/r/linux-64::r-spatial-7.3_11-r3.2.2_0a\n",
            "  r-stringi          pkgs/r/linux-64::r-stringi-1.0_1-r3.2.2_0a\n",
            "  r-stringr          pkgs/r/linux-64::r-stringr-1.0.0-r3.2.2_0a\n",
            "  r-survival         pkgs/r/linux-64::r-survival-2.38_3-r3.2.2_0a\n",
            "\n",
            "\n",
            "\n",
            "Downloading and Extracting Packages\n",
            "r-dichromat-2.0_0    | 143 KB    | : 100% 1.0/1 [00:00<00:00,  6.17it/s]               \n",
            "_r-mutex-1.0.0       | 3 KB      | : 100% 1.0/1 [00:00<00:00, 11.06it/s]\n",
            "libuuid-1.0.3        | 17 KB     | : 100% 1.0/1 [00:00<00:00,  9.92it/s]\n",
            "graphite2-1.3.14     | 99 KB     | : 100% 1.0/1 [00:00<00:00, 11.80it/s]\n",
            "r-foreign-0.8_66     | 199 KB    | : 100% 1.0/1 [00:00<00:00,  7.98it/s]\n",
            "r-magrittr-1.5       | 154 KB    | : 100% 1.0/1 [00:00<00:00,  5.75it/s]                \n",
            "r-colorspace-1.2_6   | 346 KB    | : 100% 1.0/1 [00:00<00:00,  7.78it/s]\n",
            "r-labeling-0.3       | 39 KB     | : 100% 1.0/1 [00:00<00:00,  7.66it/s]\n",
            "r-mgcv-1.8_9         | 1.8 MB    | : 100% 1.0/1 [00:00<00:00,  5.82it/s]               \n",
            "r-gplots-2.17.0      | 536 KB    | : 100% 1.0/1 [00:00<00:00,  8.26it/s]\n",
            "r-gdata-2.17.0       | 922 KB    | : 100% 1.0/1 [00:00<00:00,  7.17it/s]\n",
            "r-digest-0.6.9       | 110 KB    | : 100% 1.0/1 [00:00<00:00, 17.05it/s]\n",
            "r-rcolorbrewer-1.1_2 | 25 KB     | : 100% 1.0/1 [00:00<00:00,  8.77it/s]\n",
            "r-catools-1.17.1     | 157 KB    | : 100% 1.0/1 [00:00<00:00, 16.09it/s]\n",
            "r-3.2.2              | 2 KB      | : 100% 1.0/1 [00:00<00:00,  9.45it/s]\n",
            "harfbuzz-1.8.8       | 507 KB    | : 100% 1.0/1 [00:00<00:00,  8.50it/s]\n",
            "pixman-0.40.0        | 373 KB    | : 100% 1.0/1 [00:00<00:00,  9.24it/s]\n",
            "icu-58.2             | 10.5 MB   | : 100% 1.0/1 [00:00<00:00,  1.81it/s]               \n",
            "cairo-1.14.12        | 906 KB    | : 100% 1.0/1 [00:00<00:00,  7.86it/s]\n",
            "r-rcpp-0.12.2        | 2.0 MB    | : 100% 1.0/1 [00:00<00:00,  4.21it/s]\n",
            "r-reshape-0.8.5      | 119 KB    | : 100% 1.0/1 [00:00<00:00,  9.45it/s]\n",
            "r-bitops-1.0_6       | 21 KB     | : 100% 1.0/1 [00:00<00:00,  7.60it/s]\n",
            "pcre-8.45            | 207 KB    | : 100% 1.0/1 [00:00<00:00,  9.78it/s]\n",
            "r-stringi-1.0_1      | 9.0 MB    | : 100% 1.0/1 [00:00<00:00,  2.67it/s]               \n",
            "r-scales-0.3.0       | 195 KB    | : 100% 1.0/1 [00:00<00:00,  2.67it/s]\n",
            "libpng-1.6.37        | 278 KB    | : 100% 1.0/1 [00:00<00:00,  9.74it/s]\n",
            "fontconfig-2.13.0    | 227 KB    | : 100% 1.0/1 [00:00<00:00,  9.56it/s]\n",
            "r-ggplot2-2.1.0      | 1.9 MB    | : 100% 1.0/1 [00:00<00:00,  2.80it/s]               \n",
            "r-survival-2.38_3    | 4.2 MB    | : 100% 1.0/1 [00:00<00:00,  6.44it/s]\n",
            "r-cluster-2.0.3      | 447 KB    | : 100% 1.0/1 [00:00<00:00,  6.67it/s]\n",
            "pango-1.42.4         | 464 KB    | : 100% 1.0/1 [00:00<00:00,  9.34it/s]\n",
            "gatk-3.8             | 13.9 MB   | : 100% 1.0/1 [00:01<00:00,  1.68s/it]\n",
            "libxml2-2.9.9        | 1.6 MB    | : 100% 1.0/1 [00:00<00:00,  5.66it/s]\n",
            "r-gsalib-2.1         | 20 KB     | : 100% 1.0/1 [00:00<00:00, 11.68it/s]\n",
            "r-class-7.3_14       | 78 KB     | : 100% 1.0/1 [00:00<00:00,  3.35it/s]                \n",
            "fribidi-1.0.10       | 103 KB    | : 100% 1.0/1 [00:00<00:00, 11.33it/s]\n",
            "r-rpart-4.1_10       | 830 KB    | : 100% 1.0/1 [00:00<00:00,  8.00it/s]\n",
            "libtiff-4.0.9        | 422 KB    | : 100% 1.0/1 [00:00<00:00,  5.61it/s]               \n",
            "r-reshape2-1.4.1     | 92 KB     | : 100% 1.0/1 [00:00<00:00,  8.99it/s]\n",
            "r-gtable-0.1.2       | 60 KB     | : 100% 1.0/1 [00:00<00:00,  7.42it/s]\n",
            "libgcc-7.2.0         | 269 KB    | : 100% 1.0/1 [00:00<00:00,  8.95it/s]\n",
            "freetype-2.11.0      | 618 KB    | : 100% 1.0/1 [00:00<00:00,  8.77it/s]\n",
            "libxcb-1.14          | 505 KB    | : 100% 1.0/1 [00:00<00:00,  7.21it/s]\n",
            "r-boot-1.3_17        | 559 KB    | : 100% 1.0/1 [00:00<00:00,  6.47it/s]\n",
            "r-gtools-3.5.0       | 126 KB    | : 100% 1.0/1 [00:00<00:00, 10.10it/s]\n",
            "r-munsell-0.4.2      | 115 KB    | : 100% 1.0/1 [00:00<00:00,  8.96it/s]\n",
            "r-nnet-7.3_11        | 93 KB     | : 100% 1.0/1 [00:00<00:00,  9.06it/s]\n",
            "r-lattice-0.20_33    | 673 KB    | : 100% 1.0/1 [00:00<00:00,  6.90it/s]\n",
            "r-spatial-7.3_11     | 117 KB    | : 100% 1.0/1 [00:00<00:00,  5.45it/s]\n",
            "r-base-3.2.2         | 18.9 MB   | : 100% 1.0/1 [00:00<00:00,  1.69it/s]               \n",
            "r-kernsmooth-2.23_15 | 79 KB     | : 100% 1.0/1 [00:00<00:00,  8.75it/s]\n",
            "r-plyr-1.8.3         | 712 KB    | : 100% 1.0/1 [00:00<00:00,  8.88it/s]\n",
            "glib-2.63.1          | 2.9 MB    | : 100% 1.0/1 [00:00<00:00,  4.27it/s]\n",
            "r-mass-7.3_45        | 989 KB    | : 100% 1.0/1 [00:00<00:00,  7.70it/s]\n",
            "r-matrix-1.2_2       | 2.8 MB    | : 100% 1.0/1 [00:00<00:00,  4.57it/s]\n",
            "r-recommended-3.2.2  | 1 KB      | : 100% 1.0/1 [00:00<00:00,  5.10it/s]\n",
            "r-codetools-0.2_14   | 44 KB     | : 100% 1.0/1 [00:00<00:00,  8.90it/s]\n",
            "r-nlme-3.1_122       | 1.9 MB    | : 100% 1.0/1 [00:00<00:00,  7.15it/s]\n",
            "r-stringr-1.0.0      | 75 KB     | : 100% 1.0/1 [00:00<00:00, 10.35it/s]\n",
            "jpeg-9d              | 232 KB    | : 100% 1.0/1 [00:00<00:00,  9.74it/s]\n",
            "Preparing transaction: \\ \b\b| \b\b/ \b\bdone\n",
            "Verifying transaction: \\ \b\b| \b\b/ \b\b- \b\b\\ \b\b| \b\bdone\n",
            "Executing transaction: - \b\b\\ \b\b| \b\b/ \b\b- \b\b\\ \b\b| \b\b/ \b\b- \b\b\\ \b\bdone\n",
            "Collecting package metadata (current_repodata.json): - \b\b\\ \b\b| \b\b/ \b\b- \b\b\\ \b\b| \b\b/ \b\b- \b\b\\ \b\b| \b\b/ \b\b- \b\b\\ \b\b| \b\bdone\n",
            "Solving environment: - \b\b\\ \b\b| \b\b/ \b\b- \b\b\\ \b\b| \b\b/ \b\b- \b\b\\ \b\b| \b\b/ \b\b- \b\b\\ \b\b| \b\b/ \b\b- \b\bdone\n",
            "\n",
            "## Package Plan ##\n",
            "\n",
            "  environment location: /usr/local\n",
            "\n",
            "  added / updated specs:\n",
            "    - gatk4\n",
            "\n",
            "\n",
            "The following packages will be downloaded:\n",
            "\n",
            "    package                    |            build\n",
            "    ---------------------------|-----------------\n",
            "    gatk4-4.2.4.0              |       hdfd78af_0       280.3 MB  bioconda\n",
            "    ------------------------------------------------------------\n",
            "                                           Total:       280.3 MB\n",
            "\n",
            "The following NEW packages will be INSTALLED:\n",
            "\n",
            "  gatk4              bioconda/noarch::gatk4-4.2.4.0-hdfd78af_0\n",
            "\n",
            "\n",
            "\n",
            "Downloading and Extracting Packages\n",
            "gatk4-4.2.4.0        | 280.3 MB  | : 100% 1.0/1 [00:41<00:00, 41.33s/it]               \n",
            "Preparing transaction: | \b\bdone\n",
            "Verifying transaction: - \b\bdone\n",
            "Executing transaction: | \b\bdone\n"
          ]
        }
      ],
      "source": [
        "# install conda\n",
        "!wget https://repo.anaconda.com/miniconda/Miniconda3-py37_4.8.2-Linux-x86_64.sh\n",
        "!chmod +x Miniconda3-py37_4.8.2-Linux-x86_64.sh\n",
        "!bash ./Miniconda3-py37_4.8.2-Linux-x86_64.sh -b -f -p /usr/local\n",
        "import sys\n",
        "sys.path.append('/usr/local/lib/python3.7/site-packages/')\n",
        "\n",
        "!rm Miniconda3-py37_4.8.2-Linux-x86_64.sh\n",
        "\n",
        "# install BWA\n",
        "!conda install -y -c bioconda bwa\n",
        "\n",
        "# install fastQC\n",
        "!conda install -y -c bioconda fastqc\n",
        "\n",
        "# install trimmomatic\n",
        "!conda install -y -c bioconda trimmomatic\n",
        "\n",
        "# install samtools\n",
        "!conda install -y -c bioconda samtools\n",
        "\n",
        "# install GATK 3.8\n",
        "!conda install -y -c bioconda gatk\n",
        "\n",
        "# install GATK 4\n",
        "!conda install -y -c bioconda gatk4"
      ]
    },
    {
      "cell_type": "markdown",
      "source": [
        "## Get data"
      ],
      "metadata": {
        "id": "z0wsfjJuc0vS"
      }
    },
    {
      "cell_type": "code",
      "source": [
        "%%bash\n",
        "cd /content/drive/MyDrive/Work/13_CancerAnalysisCourse/labs/Module3_GenomeAlignment\n",
        "wget --no-check-certificate https://hpc4health.ca/cbw/2021/CAN/Module3.tar\n",
        "tar -xvf Module3.tar"
      ],
      "metadata": {
        "id": "SSV9dJG8c0EN"
      },
      "execution_count": null,
      "outputs": []
    },
    {
      "cell_type": "markdown",
      "source": [
        "## Quality control\n",
        "The first thing we want to do after receiving sequencing data is assessing the quality of the data"
      ],
      "metadata": {
        "id": "wH6D1sIKjJVs"
      }
    },
    {
      "cell_type": "code",
      "source": [
        "%%bash\n",
        "# Generate orgiginal QC\n",
        "cd /content/drive/MyDrive/Work/13_CancerAnalysisCourse/labs/Module3_GenomeAlignment\n",
        "mkdir -p originalQC/\n",
        "\n",
        "cd /content/drive/MyDrive/Work/13_CancerAnalysisCourse/labs/Module3_GenomeAlignment/raw_reads/normal/run62DVGAAXX_1\n",
        "fastqc -o /content/drive/MyDrive/Work/13_CancerAnalysisCourse/labs/Module3_GenomeAlignment/originalQC  -t 2 *.fastq.gz"
      ],
      "metadata": {
        "id": "X3RFqB4IaVBD",
        "colab": {
          "base_uri": "https://localhost:8080/"
        },
        "outputId": "5e5d7a8f-f105-430a-ac4a-1840bee95a52"
      },
      "execution_count": null,
      "outputs": [
        {
          "output_type": "stream",
          "name": "stdout",
          "text": [
            "Process is interrupted.\n"
          ]
        }
      ]
    },
    {
      "cell_type": "markdown",
      "source": [
        "Per base and per tile sequence quality deteriorates in later amplification rounds. "
      ],
      "metadata": {
        "id": "o1Rgym5Fo_VS"
      }
    },
    {
      "cell_type": "markdown",
      "source": [
        "## Adapter trimming\n",
        "Note about illuminaclip specifications\n",
        "* seedMismatches: specifies the maximum mismatch count which will still allow a full match to be performed\n",
        "* palindromeClipThreshold: specifies how accurate the match between the two 'adapter ligated' reads must be for PE palindrome read alignment.\n",
        "* simpleClipThreshold: specifies how accurate the match between any adapter etc. sequence must be against a read."
      ],
      "metadata": {
        "id": "GH26ULPopSU3"
      }
    },
    {
      "cell_type": "code",
      "source": [
        "%%bash\n",
        "# Trim and convert data\n",
        "cd /content/drive/MyDrive/Work/13_CancerAnalysisCourse/labs/Module3_GenomeAlignment/\n",
        "\n",
        "for file in raw_reads/*/run*_?/*.pair1.fastq.gz;\n",
        "do\n",
        "  FNAME=`basename $file`;\n",
        "  DIR=`dirname $file`;\n",
        "  OUTPUT_DIR=`echo $DIR | sed 's/raw_reads/reads/g'`;\n",
        "\n",
        "  mkdir -p $OUTPUT_DIR;\n",
        "  trimmomatic PE -threads 2 -phred64 \\\n",
        "  $file \\\n",
        "  ${file%.pair1.fastq.gz}.pair2.fastq.gz \\\n",
        "  ${OUTPUT_DIR}/${FNAME%.64.pair1.fastq.gz}.t30l50.pair1.fastq.gz \\\n",
        "  ${OUTPUT_DIR}/${FNAME%.64.pair1.fastq.gz}.t30l50.single1.fastq.gz \\\n",
        "  ${OUTPUT_DIR}/${FNAME%.64.pair1.fastq.gz}.t30l50.pair2.fastq.gz \\\n",
        "  ${OUTPUT_DIR}/${FNAME%.64.pair1.fastq.gz}.t30l50.single2.fastq.gz \\\n",
        "  TOPHRED33 ILLUMINACLIP:../../../adapters.fa:2:30:15 TRAILING:30 MINLEN:50 \\\n",
        "  2> ${OUTPUT_DIR}/${FNAME%.64.pair1.fastq.gz}.trim.out ;\n",
        "  \n",
        "done\n",
        "\n",
        "cat reads/normal/run62DVGAAXX_1/normal.trim.out"
      ],
      "metadata": {
        "id": "m7RSle4lsqwG"
      },
      "execution_count": null,
      "outputs": []
    },
    {
      "cell_type": "markdown",
      "source": [
        "## Quality control after adapter trimming"
      ],
      "metadata": {
        "id": "TwayIddff7Wo"
      }
    },
    {
      "cell_type": "code",
      "source": [
        "%%bash\n",
        "# Generate trimmed QC\n",
        "cd /content/drive/MyDrive/Work/13_CancerAnalysisCourse/labs/Module3_GenomeAlignment\n",
        "mkdir -p trimmedQC/\n",
        "\n",
        "cd /content/drive/MyDrive/Work/13_CancerAnalysisCourse/labs/Module3_GenomeAlignment/reads/normal/run62DVGAAXX_1\n",
        "fastqc -o /content/drive/MyDrive/Work/13_CancerAnalysisCourse/labs/Module3_GenomeAlignment/trimmedQC  -t 2 *.fastq.gz"
      ],
      "metadata": {
        "id": "JJSgLMdDf-rj"
      },
      "execution_count": null,
      "outputs": []
    },
    {
      "cell_type": "markdown",
      "source": [
        "## Alignment"
      ],
      "metadata": {
        "id": "aLwgHrr5MmBy"
      }
    },
    {
      "cell_type": "code",
      "source": [
        "%%bash\n",
        "# Download genome GrCh37\n",
        "cd /content/drive/MyDrive/Work/13_CancerAnalysisCourse/labs/Module3_GenomeAlignment/genome\n",
        "wget http://igenomes.illumina.com.s3-website-us-east-1.amazonaws.com/Homo_sapiens/Ensembl/GRCh37/Homo_sapiens_Ensembl_GRCh37.tar.gz\n",
        "\n",
        "# Unzip genome\n",
        "tar -xvf Homo_sapiens_Ensembl_GRCh37.tar.gz\n",
        "\n",
        "# Remove zipped file\n",
        "rm Homo_sapiens_Ensembl_GRCh37.tar.gz"
      ],
      "metadata": {
        "id": "IHsocG_7STwd"
      },
      "execution_count": null,
      "outputs": []
    },
    {
      "cell_type": "markdown",
      "source": [
        "Note: A header is defined during the alignment to group reads by lanes and runs, thus facilitating downstream processing"
      ],
      "metadata": {
        "id": "5lUD8m7HzPNt"
      }
    },
    {
      "cell_type": "code",
      "source": [
        "%%bash\n",
        "# Align data\n",
        "cd /content/drive/MyDrive/Work/13_CancerAnalysisCourse/labs/Module3_GenomeAlignment/\n",
        "\n",
        "for file in reads/*/run*/*.pair1.fastq.gz;\n",
        "do\n",
        "  FNAME=`basename $file`;\n",
        "  DIR=`dirname $file`;\n",
        "  OUTPUT_DIR=`echo $DIR | sed 's/reads/alignment/g'`;\n",
        "  SNAME=`echo $file | sed 's/reads\\/\\([^/]\\+\\)\\/.*/\\1/g'`;\n",
        "  RUNID=`echo $file | sed 's/.*\\/run\\([^_]\\+\\)_.*/\\1/g'`;\n",
        "  LANE=`echo $file | sed 's/.*\\/run[^_]\\+_\\(.\\).*/\\1/g'`;\n",
        "\n",
        "  mkdir -p $OUTPUT_DIR;\n",
        "\n",
        "  bwa mem -M -t 2 \\\n",
        "-R \"@RG\\\\tID:${SNAME}_${RUNID}_${LANE}\\\\tSM:${SNAME}\\\\t\\\n",
        "LB:${SNAME}_${RUNID}\\\\tPU:${RUNID}_${LANE}\\\\tCN:Centre National de Genotypage\\\\tPL:ILLUMINA\" \\\n",
        "    /content/drive/MyDrive/Work/13_CancerAnalysisCourse/labs/Module3_GenomeAlignment/genome/Homo_sapiens/Ensembl/GRCh37/Sequence/BWAIndex/genome.fa \\\n",
        "    $file \\\n",
        "    ${file%.pair1.fastq.gz}.pair2.fastq.gz \\\n",
        "    | samtools sort -O bam -o ${OUTPUT_DIR}/${FNAME}.sorted.bam /dev/stdin\n",
        "    \n",
        "    samtools index ${OUTPUT_DIR}/$FNAME.sorted.bam\n",
        "    \n",
        "done"
      ],
      "metadata": {
        "id": "lHuxnFP2MpML"
      },
      "execution_count": null,
      "outputs": []
    },
    {
      "cell_type": "code",
      "source": [
        "%%bash\n",
        "# merge lanes\n",
        "cd /content/drive/MyDrive/Work/13_CancerAnalysisCourse/labs/Module3_GenomeAlignment/alignment\n",
        "\n",
        "samtools merge normal/normal.sorted.bam \\\n",
        "normal/run62DPDAAXX_8/*.bam \\\n",
        "normal/run62DVGAAXX_1/*.bam \\\n",
        "normal/run62MK3AAXX_5/*.bam \\\n",
        "normal/runA81DF6ABXX_1/*.bam \\\n",
        "normal/runA81DF6ABXX_2/*.bam \\\n",
        "normal/runBC04D4ACXX_2/*.bam \\\n",
        "normal/runBC04D4ACXX_3/*.bam \\\n",
        "normal/runBD06UFACXX_4/*.bam \\\n",
        "normal/runBD06UFACXX_5/*.bam\n",
        "\n",
        "samtools index normal/normal.sorted.bam\n",
        "\n",
        "samtools merge tumor/tumor.sorted.bam \\\n",
        "tumor/run62DU0AAXX_8/*.bam \\\n",
        "tumor/run62DUUAAXX_8/*.bam \\\n",
        "tumor/run62DVMAAXX_4/*.bam \\\n",
        "tumor/run62DVMAAXX_6/*.bam \\\n",
        "tumor/run62DVMAAXX_8/*.bam \\\n",
        "tumor/run62JREAAXX_4/*.bam \\\n",
        "tumor/run62JREAAXX_6/*.bam \\\n",
        "tumor/run62JREAAXX_8/*.bam \\\n",
        "tumor/runAC0756ACXX_5/*.bam \\\n",
        "tumor/runBD08K8ACXX_1/*.bam \\\n",
        "tumor/run62DU6AAXX_8/*.bam \\\n",
        "tumor/run62DUYAAXX_7/*.bam \\\n",
        "tumor/run62DVMAAXX_5/*.bam \\\n",
        "tumor/run62DVMAAXX_7/*.bam \\\n",
        "tumor/run62JREAAXX_3/*.bam \\\n",
        "tumor/run62JREAAXX_5/*.bam \\\n",
        "tumor/run62JREAAXX_7/*.bam \\\n",
        "tumor/runAC0756ACXX_4/*.bam \\\n",
        "tumor/runAD08C1ACXX_1/*.bam\n",
        "\n",
        "samtools index tumor/tumor.sorted.bam"
      ],
      "metadata": {
        "id": "VEaVoj5JjKpi"
      },
      "execution_count": null,
      "outputs": []
    },
    {
      "cell_type": "code",
      "source": [
        "%%bash\n",
        "# check merged bam files\n",
        "cd /content/drive/MyDrive/Work/13_CancerAnalysisCourse/labs/Module3_GenomeAlignment/alignment/normal/\n",
        "\n",
        "samtools view -H *bam | grep \"^@RG\""
      ],
      "metadata": {
        "id": "aO1_flvvuUYS"
      },
      "execution_count": null,
      "outputs": []
    },
    {
      "cell_type": "markdown",
      "source": [
        "## BAM exploration"
      ],
      "metadata": {
        "id": "-tOUaSzWLj5o"
      }
    },
    {
      "cell_type": "code",
      "source": [
        "%%bash\n",
        "# check first four reads\n",
        "cd /content/drive/MyDrive/Work/13_CancerAnalysisCourse/labs/Module3_GenomeAlignment/alignment/normal/\n",
        "\n",
        "samtools view normal.sorted.bam | head -n4"
      ],
      "metadata": {
        "colab": {
          "base_uri": "https://localhost:8080/"
        },
        "id": "r0YEzIs6LmiM",
        "outputId": "b1f06c9d-ed5b-4c44-d04b-cc5a6d633cf4"
      },
      "execution_count": null,
      "outputs": [
        {
          "output_type": "stream",
          "name": "stdout",
          "text": [
            "HISEQ7_0068:2:1101:11634:118944#AATATA\t145\t1\t1379054\t0\t19S62M\t9\t130421305\t0\tTTTTTTTTTTTTTGGGTTGTTTTTTTTTTTTTTTTTTTTTTTTTTTTTTTTTTTTTTTTTTTTTTTTTTTTTTGAGACAGG\tDD><0-DDDDBA25<8+2&50&00&00&8@7@<5&8<5&9B93BDDB7-BDDDB@DCFJJJJJJJJIJHHHHHFFFDFCCC\tNM:i:0\tMD:Z:62\tMC:Z:101M\tAS:i:62\tXS:i:62\tRG:Z:normal_BC04D4ACXX_2\n",
            "HISEQ9_0205:4:1207:20646:145063#GGGGAC\t419\t1\t2367820\t19\t7H40M3D27M21H\t9\t130483477\t0\tCCTTCCTCCCTCCTCTCTTCCCCCTTCCTCCCTCCTCCTTTCCTTTCTCCCTCCTCCCTTCCTCCCT\tFFDFFHGBEGHIIJIIJJJJJBDE>FGBFCGFICEHFHHGGECFB@CFIIHCHHGHIIIEH@CHC17\tNM:i:8\tMD:Z:13A1C0T4T13A4^TCC27\tMC:Z:101M\tAS:i:33\tXS:i:23\tSA:Z:9,130483111,+,54S41M,39,0;\tRG:Z:normal_BD06UFACXX_4\n",
            "HISEQ9_0205:5:1105:14942:198874#ACTGGG\t81\t1\t2616285\t10\t100M\t9\t130408920\t0\tGAGCATCTGACAGCCTGGAGCAGCACCCACACCCCAGGTGAGCATCTGACAGCCTGGAACAGCACCCTGCACACCCAGGTGAGCATCCGACAGCCTGGAG\t@AADC>@4@?A<?DA:CCCACA<;DDD@;B<FFFHHGGHIJJJJIIIJIJJIIFIJJJIIHGD;IIHCGHHF?IJIGIH@JJJJJJJHHHHHFFFFFCCC\tNM:i:0\tMD:Z:100\tMC:Z:94M\tAS:i:100\tXS:i:95\tXA:Z:1,-2621627,100M,1;\tRG:Z:normal_BD06UFACXX_5\n",
            "GA12-EAS1659_0014_FC:8:63:16674:16569#0\t129\t1\t5426589\t60\t99M\t9\t130331962\t0\tAACTCTGGTTCTCAATGCCTACGGATCCTGTTTTCTTAACTCTATGTCTTGTCCCATGAAGCCAAAAACAAGACAGGAGCCTTCAGGACAAAGAGGCTG\tEDHHHGGG>GGGDGGHHHGGHHGH<HHEGHG>DDDGDGBGGHHFHG@GDG=407=:?8<=BFEEEEBE@D61A>>8>AA+:>;A@@B9A@7BBBB@A@A\tNM:i:0\tMD:Z:99\tMC:Z:59M\tAS:i:99\tXS:i:21\tRG:Z:normal_62DPDAAXX_8\n"
          ]
        }
      ]
    },
    {
      "cell_type": "code",
      "source": [
        "%%bash\n",
        "# check number of unaligned reads\n",
        "cd /content/drive/MyDrive/Work/13_CancerAnalysisCourse/labs/Module3_GenomeAlignment/alignment/normal/\n",
        "\n",
        "samtools view -c -f4 normal.sorted.bam"
      ],
      "metadata": {
        "colab": {
          "base_uri": "https://localhost:8080/"
        },
        "id": "i9SB08KgMfHY",
        "outputId": "4ef760f4-39d1-48ca-9e1e-6eb86b525d7e"
      },
      "execution_count": null,
      "outputs": [
        {
          "output_type": "stream",
          "name": "stdout",
          "text": [
            "28\n"
          ]
        }
      ]
    },
    {
      "cell_type": "markdown",
      "source": [
        "## Cleaning up alignments"
      ],
      "metadata": {
        "id": "JlFEHUcFNHub"
      }
    },
    {
      "cell_type": "code",
      "source": [
        "%%bash\n",
        "# find indels and snp dense regions\n",
        "cd /content/drive/MyDrive/Work/13_CancerAnalysisCourse/labs/Module3_GenomeAlignment/\n",
        "\n",
        "java -jar /usr/local/opt/gatk-3.8/GenomeAnalysisTK.jar \\\n",
        "  -T RealignerTargetCreator \\\n",
        "  -R genome/Homo_sapiens/Ensembl/GRCh37/Sequence/WholeGenomeFasta/genome.fa \\\n",
        "  -o alignment/normal/realign.intervals \\\n",
        "  -I alignment/normal/normal.sorted.bam \\\n",
        "  -I alignment/tumor/tumor.sorted.bam \\\n",
        "  -L 9"
      ],
      "metadata": {
        "id": "WyXhkzKINQbd"
      },
      "execution_count": null,
      "outputs": []
    },
    {
      "cell_type": "code",
      "source": [
        "%%bash\n",
        "# number of regions that need to be realigned\n",
        "cd /content/drive/MyDrive/Work/13_CancerAnalysisCourse/labs/Module3_GenomeAlignment/\n",
        "\n",
        "wc -l alignment/normal/realign.intervals #simple word count command"
      ],
      "metadata": {
        "colab": {
          "base_uri": "https://localhost:8080/"
        },
        "id": "Go9uY8G3Zjlg",
        "outputId": "b249adf3-99b1-4218-ce33-e57de2bf4372"
      },
      "execution_count": null,
      "outputs": [
        {
          "output_type": "stream",
          "name": "stdout",
          "text": [
            "497 alignment/normal/realign.intervals\n"
          ]
        }
      ]
    },
    {
      "cell_type": "code",
      "source": [
        "%%bash\n",
        "# realign around identified regions\n",
        "cd /content/drive/MyDrive/Work/13_CancerAnalysisCourse/labs/Module3_GenomeAlignment/\n",
        "\n",
        "java -jar /usr/local/opt/gatk-3.8/GenomeAnalysisTK.jar \\\n",
        "  -T IndelRealigner \\\n",
        "  -R genome/Homo_sapiens/Ensembl/GRCh37/Sequence/WholeGenomeFasta/genome.fa \\\n",
        "  -targetIntervals alignment/normal/realign.intervals \\\n",
        "  --nWayOut .realigned.bam \\\n",
        "  -I alignment/normal/normal.sorted.bam \\\n",
        "  -I alignment/tumor/tumor.sorted.bam\n",
        "\n",
        "mv normal.sorted.realigned.ba* alignment/normal/\n",
        "mv tumor.sorted.realigned.ba* alignment/tumor/"
      ],
      "metadata": {
        "id": "1RE31a4DPbKD"
      },
      "execution_count": null,
      "outputs": []
    },
    {
      "cell_type": "markdown",
      "source": [
        "## Remove duplicate reads\n",
        "Likely PCR duplicates"
      ],
      "metadata": {
        "id": "FGT1-tNuaYuW"
      }
    },
    {
      "cell_type": "code",
      "source": [
        "%%bash\n",
        "# mark duplicates\n",
        "cd /content/drive/MyDrive/Work/13_CancerAnalysisCourse/labs/Module3_GenomeAlignment/\n",
        "\n",
        "gatk MarkDuplicates \\\n",
        "  --REMOVE_DUPLICATES false --CREATE_INDEX true \\\n",
        "  -I alignment/normal/normal.sorted.realigned.bam \\\n",
        "  -O alignment/normal/normal.sorted.dup.bam \\\n",
        "  --METRICS_FILE alignment/normal/normal.sorted.dup.metrics\n",
        "\n",
        "gatk MarkDuplicates \\\n",
        "  --REMOVE_DUPLICATES false --CREATE_INDEX true \\\n",
        "  -I alignment/tumor/tumor.sorted.realigned.bam \\\n",
        "  -O alignment/tumor/tumor.sorted.dup.bam \\\n",
        "  --METRICS_FILE alignment/tumor/tumor.sorted.dup.metrics"
      ],
      "metadata": {
        "id": "h69dWpkVafdy"
      },
      "execution_count": null,
      "outputs": []
    },
    {
      "cell_type": "code",
      "source": [
        "%%bash\n",
        "# investigate duplicate metrics\n",
        "cd /content/drive/MyDrive/Work/13_CancerAnalysisCourse/labs/Module3_GenomeAlignment/\n",
        "\n",
        "less -S alignment/normal/normal.sorted.dup.metrics\n",
        "less -S alignment/tumor/tumor.sorted.dup.metrics"
      ],
      "metadata": {
        "id": "a5ISyMzkWiSV"
      },
      "execution_count": null,
      "outputs": []
    },
    {
      "cell_type": "markdown",
      "source": [
        "Note that up to 12% of fragments are duplicated in one of the tumor libraries."
      ],
      "metadata": {
        "id": "3JBhkT_RZP8O"
      }
    },
    {
      "cell_type": "markdown",
      "source": [
        "## Base quality recalibration\n",
        "To account for biases introduced by different sequencing technologies or vendors"
      ],
      "metadata": {
        "id": "8DCrxLFdZW5l"
      }
    },
    {
      "cell_type": "code",
      "source": [
        "%%bash\n",
        "# download dbSNP annotation\n",
        "cd /content/drive/MyDrive/Work/13_CancerAnalysisCourse/labs/Module3_GenomeAlignment/genome/Homo_sapiens/Ensembl/GRCh37/Annotation/Variation\n",
        "wget https://ftp.ncbi.nlm.nih.gov/snp/organisms/human_9606/VCF/00-All.vcf.gz\n",
        "\n"
      ],
      "metadata": {
        "id": "b_QoWokceaJU"
      },
      "execution_count": null,
      "outputs": []
    },
    {
      "cell_type": "code",
      "source": [
        "%%bash\n",
        "# index dbSNP annotation file\n",
        "cd /content/drive/MyDrive/Work/13_CancerAnalysisCourse/labs/Module3_GenomeAlignment/genome/Homo_sapiens/Ensembl/GRCh37/Annotation/Variation\n",
        "\n",
        "# generate index for feature file\n",
        "gatk IndexFeatureFile \\\n",
        "  -I 00-All.vcf.gz"
      ],
      "metadata": {
        "id": "XiN-BUZNQ1fE"
      },
      "execution_count": null,
      "outputs": []
    },
    {
      "cell_type": "code",
      "source": [
        "%%bash\n",
        "cd /content/drive/MyDrive/Work/13_CancerAnalysisCourse/labs/Module3_GenomeAlignment/\n",
        "\n",
        "for i in normal tumor\n",
        "do\n",
        "# calculate covariates for recalibration\n",
        "  gatk BaseRecalibrator \\\n",
        "    -R genome/Homo_sapiens/Ensembl/GRCh37/Sequence/WholeGenomeFasta/genome.fa \\\n",
        "    --known-sites genome/Homo_sapiens/Ensembl/GRCh37/Annotation/Variation/00-All.vcf.gz \\\n",
        "    -L 9:130215000-130636000 \\\n",
        "    -O alignment/${i}/${i}.sorted.dup.recalibration_report.grp \\\n",
        "    -I alignment/${i}/${i}.sorted.dup.bam\n",
        "\n",
        "# apply base quality score recalibration \n",
        "  gatk ApplyBQSR \\\n",
        "    -R genome/Homo_sapiens/Ensembl/GRCh37/Sequence/WholeGenomeFasta/genome.fa \\\n",
        "    -bqsr alignment/${i}/${i}.sorted.dup.recalibration_report.grp \\\n",
        "    -O alignment/${i}/${i}.sorted.dup.recal.bam \\\n",
        "    -I alignment/${i}/${i}.sorted.dup.bam\n",
        "done"
      ],
      "metadata": {
        "id": "qy-UNXXCZsVJ"
      },
      "execution_count": null,
      "outputs": []
    },
    {
      "cell_type": "markdown",
      "source": [
        "## Extract BAM metrics\n",
        "To double-check quality of our data"
      ],
      "metadata": {
        "id": "n3hXMrMyUR_E"
      }
    },
    {
      "cell_type": "markdown",
      "source": [
        "### Compute coverage"
      ],
      "metadata": {
        "id": "A0waPT6gMHNh"
      }
    },
    {
      "cell_type": "code",
      "source": [
        "%%bash\n",
        "# compute coverage\n",
        "cd /content/drive/MyDrive/Work/13_CancerAnalysisCourse/labs/Module3_GenomeAlignment/\n",
        "\n",
        "for i in normal tumor\n",
        "do\n",
        "  java -jar /usr/local/opt/gatk-3.8/GenomeAnalysisTK.jar \\\n",
        "    -T DepthOfCoverage \\\n",
        "    --omitDepthOutputAtEachBase \\\n",
        "    --summaryCoverageThreshold 10 \\\n",
        "    --summaryCoverageThreshold 25 \\\n",
        "    --summaryCoverageThreshold 50 \\\n",
        "    --summaryCoverageThreshold 100 \\\n",
        "    --start 1 --stop 500 --nBins 499 -dt NONE \\\n",
        "    -R genome/Homo_sapiens/Ensembl/GRCh37/Sequence/WholeGenomeFasta/genome.fa \\\n",
        "    -o alignment/${i}/${i}.sorted.dup.recal.coverage \\\n",
        "    -I alignment/${i}/${i}.sorted.dup.recal.bam \\\n",
        "    -L 9:130215000-130636000 \n",
        "done"
      ],
      "metadata": {
        "id": "8gCWRSySVJmu"
      },
      "execution_count": null,
      "outputs": []
    },
    {
      "cell_type": "code",
      "source": [
        "%%bash\n",
        "# check coverage\n",
        "cd /content/drive/MyDrive/Work/13_CancerAnalysisCourse/labs/Module3_GenomeAlignment/\n",
        "\n",
        "cat alignment/normal/normal.sorted.dup.recal.coverage.sample_interval_summary\n",
        "cat alignment/tumor/tumor.sorted.dup.recal.coverage.sample_interval_summary"
      ],
      "metadata": {
        "colab": {
          "base_uri": "https://localhost:8080/"
        },
        "id": "nB_76ASWLr_K",
        "outputId": "c94a2106-c27c-44b3-bf94-2f56742a88c0"
      },
      "execution_count": null,
      "outputs": [
        {
          "output_type": "stream",
          "name": "stdout",
          "text": [
            "Target\ttotal_coverage\taverage_coverage\tnormal_total_cvg\tnormal_mean_cvg\tnormal_granular_Q1\tnormal_granular_median\tnormal_granular_Q3\tnormal_%_above_10\tnormal_%_above_25\tnormal_%_above_50\tnormal_%_above_100\n",
            "9:130215000-130636000\t18531042\t44.02\t18531042\t44.02\t37\t46\t54\t98.6\t92.7\t34.2\t0.0\n",
            "Target\ttotal_coverage\taverage_coverage\ttumor_total_cvg\ttumor_mean_cvg\ttumor_granular_Q1\ttumor_granular_median\ttumor_granular_Q3\ttumor_%_above_10\ttumor_%_above_25\ttumor_%_above_50\ttumor_%_above_100\n",
            "9:130215000-130636000\t23534037\t55.90\t23534037\t55.90\t45\t57\t69\t98.8\t95.6\t63.9\t0.9\n"
          ]
        }
      ]
    },
    {
      "cell_type": "markdown",
      "source": [
        "### Check library insert size"
      ],
      "metadata": {
        "id": "0x-fizkkMLzZ"
      }
    },
    {
      "cell_type": "code",
      "source": [
        "%%bash\n",
        "# calculate insert size\n",
        "cd /content/drive/MyDrive/Work/13_CancerAnalysisCourse/labs/Module3_GenomeAlignment/\n",
        "\n",
        "for i in normal tumor\n",
        "do\n",
        "  gatk CollectInsertSizeMetrics \\\n",
        "    -R genome/Homo_sapiens/Ensembl/GRCh37/Sequence/WholeGenomeFasta/genome.fa \\\n",
        "    -I alignment/${i}/${i}.sorted.dup.recal.bam \\\n",
        "    -O alignment/${i}/${i}.sorted.dup.recal.metric.insertSize.tsv \\\n",
        "    -H alignment/${i}/${i}.sorted.dup.recal.metric.insertSize.histo.pdf \\\n",
        "    --METRIC_ACCUMULATION_LEVEL LIBRARY\n",
        "done"
      ],
      "metadata": {
        "id": "yQb2R1TUMTeB"
      },
      "execution_count": null,
      "outputs": []
    },
    {
      "cell_type": "code",
      "source": [
        "%%bash\n",
        "# check insert size\n",
        "cd /content/drive/MyDrive/Work/13_CancerAnalysisCourse/labs/Module3_GenomeAlignment/\n",
        "\n",
        "head -20 alignment/normal/normal.sorted.dup.recal.metric.insertSize.tsv\n",
        "head -20 alignment/tumor/tumor.sorted.dup.recal.metric.insertSize.tsv"
      ],
      "metadata": {
        "id": "QtxJ5tZoNiKW"
      },
      "execution_count": null,
      "outputs": []
    },
    {
      "cell_type": "markdown",
      "source": [
        "### Check alignment metric"
      ],
      "metadata": {
        "id": "g0Z2KTNMOwdk"
      }
    },
    {
      "cell_type": "code",
      "source": [
        "%%bash\n",
        "# compute alignment metrics\n",
        "cd /content/drive/MyDrive/Work/13_CancerAnalysisCourse/labs/Module3_GenomeAlignment/\n",
        "\n",
        "for i in normal tumor\n",
        "do\n",
        "  gatk  CollectAlignmentSummaryMetrics \\\n",
        "    -R genome/Homo_sapiens/Ensembl/GRCh37/Sequence/WholeGenomeFasta/genome.fa \\\n",
        "    -I alignment/${i}/${i}.sorted.dup.recal.bam \\\n",
        "    -O alignment/${i}/${i}.sorted.dup.recal.metric.alignment.tsv \\\n",
        "    --METRIC_ACCUMULATION_LEVEL LIBRARY\n",
        "done"
      ],
      "metadata": {
        "colab": {
          "base_uri": "https://localhost:8080/"
        },
        "id": "ZvjSGshJOydW",
        "outputId": "8c0b3678-f586-48f5-d86e-ecd3a636c7e1"
      },
      "execution_count": null,
      "outputs": [
        {
          "output_type": "stream",
          "name": "stdout",
          "text": [
            "Tool returned:\n",
            "0\n",
            "Tool returned:\n",
            "0\n"
          ]
        },
        {
          "output_type": "stream",
          "name": "stderr",
          "text": [
            "16:59:50.868 INFO  NativeLibraryLoader - Loading libgkl_compression.so from jar:file:/usr/local/share/gatk4-4.2.4.0-0/gatk-package-4.2.4.0-local.jar!/com/intel/gkl/native/libgkl_compression.so\n",
            "[Thu Dec 23 16:59:50 UTC 2021] CollectAlignmentSummaryMetrics --METRIC_ACCUMULATION_LEVEL LIBRARY --METRIC_ACCUMULATION_LEVEL ALL_READS --INPUT alignment/normal/normal.sorted.dup.recal.bam --OUTPUT alignment/normal/normal.sorted.dup.recal.metric.alignment.tsv --REFERENCE_SEQUENCE genome/Homo_sapiens/Ensembl/GRCh37/Sequence/WholeGenomeFasta/genome.fa --MAX_INSERT_SIZE 100000 --EXPECTED_PAIR_ORIENTATIONS FR --ADAPTER_SEQUENCE AATGATACGGCGACCACCGAGATCTACACTCTTTCCCTACACGACGCTCTTCCGATCT --ADAPTER_SEQUENCE AGATCGGAAGAGCTCGTATGCCGTCTTCTGCTTG --ADAPTER_SEQUENCE AATGATACGGCGACCACCGAGATCTACACTCTTTCCCTACACGACGCTCTTCCGATCT --ADAPTER_SEQUENCE AGATCGGAAGAGCGGTTCAGCAGGAATGCCGAGACCGATCTCGTATGCCGTCTTCTGCTTG --ADAPTER_SEQUENCE AATGATACGGCGACCACCGAGATCTACACTCTTTCCCTACACGACGCTCTTCCGATCT --ADAPTER_SEQUENCE AGATCGGAAGAGCACACGTCTGAACTCCAGTCACNNNNNNNNATCTCGTATGCCGTCTTCTGCTTG --IS_BISULFITE_SEQUENCED false --COLLECT_ALIGNMENT_INFORMATION true --ASSUME_SORTED true --STOP_AFTER 0 --VERBOSITY INFO --QUIET false --VALIDATION_STRINGENCY STRICT --COMPRESSION_LEVEL 2 --MAX_RECORDS_IN_RAM 500000 --CREATE_INDEX false --CREATE_MD5_FILE false --GA4GH_CLIENT_SECRETS client_secrets.json --help false --version false --showHidden false --USE_JDK_DEFLATER false --USE_JDK_INFLATER false\n",
            "[Thu Dec 23 16:59:56 UTC 2021] Executing as root@12d76c3851e1 on Linux 5.4.144+ amd64; OpenJDK 64-Bit Server VM 1.8.0_152-release-1056-b12; Deflater: Intel; Inflater: Intel; Provider GCS is available; Picard version: Version:4.2.4.0\n",
            "[Thu Dec 23 17:00:23 UTC 2021] picard.analysis.CollectAlignmentSummaryMetrics done. Elapsed time: 0.54 minutes.\n",
            "Runtime.totalMemory()=2496135168\n",
            "Using GATK jar /usr/local/share/gatk4-4.2.4.0-0/gatk-package-4.2.4.0-local.jar\n",
            "Running:\n",
            "    java -Dsamjdk.use_async_io_read_samtools=false -Dsamjdk.use_async_io_write_samtools=true -Dsamjdk.use_async_io_write_tribble=false -Dsamjdk.compression_level=2 -jar /usr/local/share/gatk4-4.2.4.0-0/gatk-package-4.2.4.0-local.jar CollectAlignmentSummaryMetrics -R genome/Homo_sapiens/Ensembl/GRCh37/Sequence/WholeGenomeFasta/genome.fa -I alignment/normal/normal.sorted.dup.recal.bam -O alignment/normal/normal.sorted.dup.recal.metric.alignment.tsv --METRIC_ACCUMULATION_LEVEL LIBRARY\n",
            "17:00:26.992 INFO  NativeLibraryLoader - Loading libgkl_compression.so from jar:file:/usr/local/share/gatk4-4.2.4.0-0/gatk-package-4.2.4.0-local.jar!/com/intel/gkl/native/libgkl_compression.so\n",
            "[Thu Dec 23 17:00:27 UTC 2021] CollectAlignmentSummaryMetrics --METRIC_ACCUMULATION_LEVEL LIBRARY --METRIC_ACCUMULATION_LEVEL ALL_READS --INPUT alignment/tumor/tumor.sorted.dup.recal.bam --OUTPUT alignment/tumor/tumor.sorted.dup.recal.metric.alignment.tsv --REFERENCE_SEQUENCE genome/Homo_sapiens/Ensembl/GRCh37/Sequence/WholeGenomeFasta/genome.fa --MAX_INSERT_SIZE 100000 --EXPECTED_PAIR_ORIENTATIONS FR --ADAPTER_SEQUENCE AATGATACGGCGACCACCGAGATCTACACTCTTTCCCTACACGACGCTCTTCCGATCT --ADAPTER_SEQUENCE AGATCGGAAGAGCTCGTATGCCGTCTTCTGCTTG --ADAPTER_SEQUENCE AATGATACGGCGACCACCGAGATCTACACTCTTTCCCTACACGACGCTCTTCCGATCT --ADAPTER_SEQUENCE AGATCGGAAGAGCGGTTCAGCAGGAATGCCGAGACCGATCTCGTATGCCGTCTTCTGCTTG --ADAPTER_SEQUENCE AATGATACGGCGACCACCGAGATCTACACTCTTTCCCTACACGACGCTCTTCCGATCT --ADAPTER_SEQUENCE AGATCGGAAGAGCACACGTCTGAACTCCAGTCACNNNNNNNNATCTCGTATGCCGTCTTCTGCTTG --IS_BISULFITE_SEQUENCED false --COLLECT_ALIGNMENT_INFORMATION true --ASSUME_SORTED true --STOP_AFTER 0 --VERBOSITY INFO --QUIET false --VALIDATION_STRINGENCY STRICT --COMPRESSION_LEVEL 2 --MAX_RECORDS_IN_RAM 500000 --CREATE_INDEX false --CREATE_MD5_FILE false --GA4GH_CLIENT_SECRETS client_secrets.json --help false --version false --showHidden false --USE_JDK_DEFLATER false --USE_JDK_INFLATER false\n",
            "[Thu Dec 23 17:00:32 UTC 2021] Executing as root@12d76c3851e1 on Linux 5.4.144+ amd64; OpenJDK 64-Bit Server VM 1.8.0_152-release-1056-b12; Deflater: Intel; Inflater: Intel; Provider GCS is available; Picard version: Version:4.2.4.0\n",
            "WARNING: BAM index file /content/drive/My Drive/Work/13_CancerAnalysisCourse/labs/Module3_GenomeAlignment/alignment/tumor/tumor.sorted.dup.recal.bai is older than BAM /content/drive/My Drive/Work/13_CancerAnalysisCourse/labs/Module3_GenomeAlignment/alignment/tumor/tumor.sorted.dup.recal.bam\n",
            "[Thu Dec 23 17:00:52 UTC 2021] picard.analysis.CollectAlignmentSummaryMetrics done. Elapsed time: 0.42 minutes.\n",
            "Runtime.totalMemory()=2516582400\n",
            "Using GATK jar /usr/local/share/gatk4-4.2.4.0-0/gatk-package-4.2.4.0-local.jar\n",
            "Running:\n",
            "    java -Dsamjdk.use_async_io_read_samtools=false -Dsamjdk.use_async_io_write_samtools=true -Dsamjdk.use_async_io_write_tribble=false -Dsamjdk.compression_level=2 -jar /usr/local/share/gatk4-4.2.4.0-0/gatk-package-4.2.4.0-local.jar CollectAlignmentSummaryMetrics -R genome/Homo_sapiens/Ensembl/GRCh37/Sequence/WholeGenomeFasta/genome.fa -I alignment/tumor/tumor.sorted.dup.recal.bam -O alignment/tumor/tumor.sorted.dup.recal.metric.alignment.tsv --METRIC_ACCUMULATION_LEVEL LIBRARY\n"
          ]
        }
      ]
    },
    {
      "cell_type": "code",
      "source": [
        "%%bash\n",
        "# check alignment metrics\n",
        "cd /content/drive/MyDrive/Work/13_CancerAnalysisCourse/labs/Module3_GenomeAlignment/\n",
        "\n",
        "less -S alignment/normal/normal.sorted.dup.recal.metric.alignment.tsv\n",
        "less -S alignment/tumor/tumor.sorted.dup.recal.metric.alignment.tsv"
      ],
      "metadata": {
        "id": "_R2HKuf4PB-5",
        "colab": {
          "base_uri": "https://localhost:8080/"
        },
        "outputId": "06c26147-02e0-4b5d-d214-5a523ce9fd85"
      },
      "execution_count": null,
      "outputs": [
        {
          "output_type": "stream",
          "name": "stdout",
          "text": [
            "## htsjdk.samtools.metrics.StringHeader\n",
            "# CollectAlignmentSummaryMetrics --METRIC_ACCUMULATION_LEVEL LIBRARY --METRIC_ACCUMULATION_LEVEL ALL_READS --INPUT alignment/normal/normal.sorted.dup.recal.bam --OUTPUT alignment/normal/normal.sorted.dup.recal.metric.alignment.tsv --REFERENCE_SEQUENCE genome/Homo_sapiens/Ensembl/GRCh37/Sequence/WholeGenomeFasta/genome.fa --MAX_INSERT_SIZE 100000 --EXPECTED_PAIR_ORIENTATIONS FR --ADAPTER_SEQUENCE AATGATACGGCGACCACCGAGATCTACACTCTTTCCCTACACGACGCTCTTCCGATCT --ADAPTER_SEQUENCE AGATCGGAAGAGCTCGTATGCCGTCTTCTGCTTG --ADAPTER_SEQUENCE AATGATACGGCGACCACCGAGATCTACACTCTTTCCCTACACGACGCTCTTCCGATCT --ADAPTER_SEQUENCE AGATCGGAAGAGCGGTTCAGCAGGAATGCCGAGACCGATCTCGTATGCCGTCTTCTGCTTG --ADAPTER_SEQUENCE AATGATACGGCGACCACCGAGATCTACACTCTTTCCCTACACGACGCTCTTCCGATCT --ADAPTER_SEQUENCE AGATCGGAAGAGCACACGTCTGAACTCCAGTCACNNNNNNNNATCTCGTATGCCGTCTTCTGCTTG --IS_BISULFITE_SEQUENCED false --COLLECT_ALIGNMENT_INFORMATION true --ASSUME_SORTED true --STOP_AFTER 0 --VERBOSITY INFO --QUIET false --VALIDATION_STRINGENCY STRICT --COMPRESSION_LEVEL 2 --MAX_RECORDS_IN_RAM 500000 --CREATE_INDEX false --CREATE_MD5_FILE false --GA4GH_CLIENT_SECRETS client_secrets.json --help false --version false --showHidden false --USE_JDK_DEFLATER false --USE_JDK_INFLATER false\n",
            "## htsjdk.samtools.metrics.StringHeader\n",
            "# Started on: Thu Dec 23 16:59:50 UTC 2021\n",
            "\n",
            "## METRICS CLASS\tpicard.analysis.AlignmentSummaryMetrics\n",
            "CATEGORY\tTOTAL_READS\tPF_READS\tPCT_PF_READS\tPF_NOISE_READS\tPF_READS_ALIGNED\tPCT_PF_READS_ALIGNED\tPF_ALIGNED_BASES\tPF_HQ_ALIGNED_READS\tPF_HQ_ALIGNED_BASES\tPF_HQ_ALIGNED_Q20_BASES\tPF_HQ_MEDIAN_MISMATCHES\tPF_MISMATCH_RATE\tPF_HQ_ERROR_RATE\tPF_INDEL_RATE\tMEAN_READ_LENGTH\tREADS_ALIGNED_IN_PAIRS\tPCT_READS_ALIGNED_IN_PAIRS\tPF_READS_IMPROPER_PAIRS\tPCT_PF_READS_IMPROPER_PAIRS\tBAD_CYCLES\tSTRAND_BALANCE\tPCT_CHIMERAS\tPCT_ADAPTER\tPCT_SOFTCLIP\tPCT_HARDCLIP\tAVG_POS_3PRIME_SOFTCLIP_LENGTH\tSAMPLE\tLIBRARY\tREAD_GROUP\n",
            "FIRST_OF_PAIR\t102440\t102440\t1\t0\t102423\t0.999834\t9740868\t102122\t9717256\t9547532\t0\t0.005226\t0.005188\t0.000111\t95.271642\t102412\t0.999893\t4191\t0.040919\t0\t0.499653\t0.014219\t0\t0.001653\t0\t20.655814\t\t\t\n",
            "SECOND_OF_PAIR\t102440\t102440\t1\t0\t102429\t0.999893\t9657713\t102128\t9634237\t9451078\t0\t0.003506\t0.003468\t0.000104\t94.461031\t102412\t0.999834\t4197\t0.040975\t0\t0.500249\t0.014278\t0\t0.001753\t0\t21.261941\t\t\t\n",
            "PAIR\t204880\t204880\t1\t0\t204852\t0.999863\t19398581\t204250\t19351493\t18998610\t0\t0.00437\t0.004332\t0.000108\t94.866336\t204824\t0.999863\t8388\t0.040947\t0\t0.499951\t0.014249\t0\t0.001703\t0\t20.959815\t\t\t\n",
            "FIRST_OF_PAIR\t2719\t2719\t1\t0\t2717\t0.999264\t249668\t2702\t248618\t248556\t0\t0.001742\t0.001726\t0.000144\t92.047444\t2717\t1\t206\t0.075819\t0\t0.504969\t0.031769\t0\t0.001522\t0\t22.307692\tnormal\tnormal_62DPDAAXX\t\n",
            "SECOND_OF_PAIR\t2719\t2719\t1\t0\t2719\t1\t239935\t2705\t238911\t238846\t0\t0.002367\t0.002315\t0.000129\t88.428834\t2717\t0.999264\t208\t0.076499\t0\t0.498345\t0.032496\t0\t0.001951\t0\t15.95\tnormal\tnormal_62DPDAAXX\t\n",
            "PAIR\t5438\t5438\t1\t0\t5436\t0.999632\t489603\t5407\t487529\t487402\t0\t0.002049\t0.002014\t0.000137\t90.238139\t5434\t0.999632\t414\t0.076159\t0\t0.501656\t0.032133\t0\t0.001732\t0\t18.454545\tnormal\tnormal_62DPDAAXX\t\n",
            "FIRST_OF_PAIR\t3790\t3790\t1\t0\t3789\t0.999736\t360995\t3778\t360032\t358518\t0\t0.004801\t0.004761\t0.000136\t95.358311\t3789\t1\t87\t0.022961\t0\t0.49934\t0.007932\t0\t0.000849\t0\t18.642857\tnormal\tnormal_62DVGAAXX\t\n",
            "SECOND_OF_PAIR\t3790\t3790\t1\t0\t3790\t1\t361241\t3780\t360494\t359350\t0\t0.002771\t0.002746\t0.000152\t95.431135\t3789\t0.999736\t88\t0.023219\t0\t0.500792\t0.00793\t0\t0.001023\t0\t17.052632\tnormal\tnormal_62DVGAAXX\t\n",
            "PAIR\t7580\t7580\t1\t0\t7579\t0.999868\t722236\t7558\t720526\t717868\t0\t0.003785\t0.003753\t0.000144\t95.394723\t7578\t0.999868\t175\t0.02309\t0\t0.500066\t0.007931\t0\t0.000936\t0\t17.727273\tnormal\tnormal_62DVGAAXX\t\n",
            "FIRST_OF_PAIR\t3536\t3536\t1\t0\t3535\t0.999717\t314971\t3528\t314442\t314328\t0\t0.001902\t0.001889\t0.00013\t89.203337\t3535\t1\t81\t0.022914\t0\t0.502687\t0.009637\t0\t0.001027\t0\t15.736842\tnormal\tnormal_62MK3AAXX\t\n",
            "SECOND_OF_PAIR\t3536\t3536\t1\t0\t3536\t1\t315913\t3528\t315289\t315177\t0\t0.002513\t0.002506\t0.00012\t89.438631\t3535\t0.999717\t82\t0.02319\t0\t0.496889\t0.009637\t0\t0.001015\t0\t16.631579\tnormal\tnormal_62MK3AAXX\t\n",
            "PAIR\t7072\t7072\t1\t0\t7071\t0.999859\t630884\t7056\t629731\t629505\t0\t0.002208\t0.002198\t0.000125\t89.320984\t7070\t0.999859\t163\t0.023052\t0\t0.499788\t0.009637\t0\t0.001021\t0\t16.184211\tnormal\tnormal_62MK3AAXX\t\n",
            "FIRST_OF_PAIR\t18142\t18142\t1\t0\t18139\t0.999835\t1548561\t18085\t1544674\t1522127\t0\t0.002554\t0.002505\t0.0001\t85.457778\t18137\t0.99989\t407\t0.022438\t0\t0.493633\t0.00895\t0\t0.000897\t0\t16.1\tnormal\tnormal_A81DF6ABXX\t\n",
            "SECOND_OF_PAIR\t18142\t18142\t1\t0\t18140\t0.99989\t1550450\t18088\t1546470\t1517534\t0\t0.003613\t0.003566\t0.0001\t85.566035\t18137\t0.999835\t408\t0.022492\t0\t0.505899\t0.008951\t0\t0.001052\t0\t15.392857\tnormal\tnormal_A81DF6ABXX\t\n",
            "PAIR\t36284\t36284\t1\t0\t36279\t0.999862\t3099011\t36173\t3091144\t3039661\t0\t0.003084\t0.003036\t0.0001\t85.511906\t36274\t0.999862\t815\t0.022465\t0\t0.499766\t0.008951\t0\t0.000974\t0\t15.714286\tnormal\tnormal_A81DF6ABXX\t\n",
            "FIRST_OF_PAIR\t43080\t43080\t1\t0\t43077\t0.99993\t4184788\t42978\t4176837\t4121102\t0\t0.00301\t0.002985\t0.000097\t97.290599\t43073\t0.999907\t1079\t0.025048\t0\t0.500801\t0.0096\t0\t0.001389\t0\t19.694779\tnormal\tnormal_BC04D4ACXX\t\n",
            "SECOND_OF_PAIR\t43080\t43080\t1\t0\t43076\t0.999907\t4137044\t42959\t4127865\t4044339\t0\t0.004092\t0.004058\t0.000099\t96.192595\t43073\t0.99993\t1078\t0.025026\t0\t0.499234\t0.009693\t0\t0.0015\t0\t20.953191\tnormal\tnormal_BC04D4ACXX\t\n",
            "PAIR\t86160\t86160\t1\t0\t86153\t0.999919\t8321832\t85937\t8304702\t8165441\t0\t0.003548\t0.003518\t0.000098\t96.741597\t86146\t0.999919\t2157\t0.025037\t0\t0.500017\t0.009646\t0\t0.001445\t0\t20.305785\tnormal\tnormal_BC04D4ACXX\t\n",
            "FIRST_OF_PAIR\t31173\t31173\t1\t0\t31166\t0.999775\t3081885\t31051\t3072653\t2982901\t1\t0.01025\t0.010201\t0.000127\t99.151991\t31161\t0.99984\t2331\t0.074793\t0\t0.500802\t0.023428\t0\t0.002559\t0\t23.007143\tnormal\tnormal_BD06UFACXX\t\n",
            "SECOND_OF_PAIR\t31173\t31173\t1\t0\t31168\t0.99984\t3053130\t31068\t3045208\t2975832\t0\t0.002937\t0.002893\t0.000105\t98.222661\t31161\t0.999775\t2333\t0.074852\t0\t0.498845\t0.023428\t0\t0.002597\t0\t24.349265\tnormal\tnormal_BD06UFACXX\t\n",
            "PAIR\t62346\t62346\t1\t0\t62334\t0.999808\t6135015\t62119\t6117861\t5958733\t0\t0.006611\t0.006563\t0.000116\t98.687326\t62322\t0.999807\t4664\t0.074823\t0\t0.499824\t0.023428\t0\t0.002578\t0\t23.668478\tnormal\tnormal_BD06UFACXX\t\n",
            "\n",
            "## HISTOGRAM\tjava.lang.Integer\n",
            "READ_LENGTH\tPAIRED_TOTAL_LENGTH_COUNT\tPAIRED_ALIGNED_LENGTH_COUNT\n",
            "0\t0\t28\n",
            "19\t0\t1\n",
            "20\t0\t2\n",
            "21\t0\t1\n",
            "22\t0\t1\n",
            "25\t0\t1\n",
            "26\t0\t3\n",
            "28\t0\t2\n",
            "29\t0\t1\n",
            "31\t0\t6\n",
            "32\t0\t1\n",
            "33\t0\t5\n",
            "34\t0\t9\n",
            "35\t0\t6\n",
            "36\t0\t15\n",
            "37\t0\t6\n",
            "38\t0\t12\n",
            "39\t0\t7\n",
            "40\t0\t3\n",
            "41\t0\t5\n",
            "42\t0\t7\n",
            "43\t0\t19\n",
            "44\t0\t11\n",
            "45\t0\t18\n",
            "46\t0\t14\n",
            "47\t0\t21\n",
            "48\t0\t26\n",
            "49\t0\t24\n",
            "50\t757\t769\n",
            "51\t287\t306\n",
            "52\t376\t388\n",
            "53\t451\t472\n",
            "54\t607\t617\n",
            "55\t867\t867\n",
            "56\t401\t410\n",
            "57\t493\t504\n",
            "58\t605\t618\n",
            "59\t829\t845\n",
            "60\t1088\t1089\n",
            "61\t452\t460\n",
            "62\t610\t632\n",
            "63\t694\t712\n",
            "64\t974\t993\n",
            "65\t1228\t1250\n",
            "66\t524\t540\n",
            "67\t647\t658\n",
            "68\t826\t848\n",
            "69\t970\t982\n",
            "70\t1306\t1313\n",
            "71\t678\t710\n",
            "72\t712\t716\n",
            "73\t912\t929\n",
            "74\t1104\t1112\n",
            "75\t1377\t1383\n",
            "76\t606\t632\n",
            "77\t788\t803\n",
            "78\t964\t986\n",
            "79\t1306\t1313\n",
            "80\t1771\t1779\n",
            "81\t821\t826\n",
            "82\t1012\t1026\n",
            "83\t1262\t1294\n",
            "84\t1606\t1629\n",
            "85\t2098\t2116\n",
            "86\t1004\t1030\n",
            "87\t1164\t1189\n",
            "88\t1461\t1494\n",
            "89\t1917\t1955\n",
            "90\t2520\t2533\n",
            "91\t1366\t1401\n",
            "92\t1620\t1657\n",
            "93\t2166\t2170\n",
            "94\t2895\t2918\n",
            "95\t3867\t3874\n",
            "96\t3136\t3174\n",
            "97\t4251\t4270\n",
            "98\t6395\t6365\n",
            "99\t10638\t10581\n",
            "100\t25659\t25465\n",
            "101\t102812\t102022\n",
            "\n",
            "## htsjdk.samtools.metrics.StringHeader\n",
            "# CollectAlignmentSummaryMetrics --METRIC_ACCUMULATION_LEVEL LIBRARY --METRIC_ACCUMULATION_LEVEL ALL_READS --INPUT alignment/tumor/tumor.sorted.dup.recal.bam --OUTPUT alignment/tumor/tumor.sorted.dup.recal.metric.alignment.tsv --REFERENCE_SEQUENCE genome/Homo_sapiens/Ensembl/GRCh37/Sequence/WholeGenomeFasta/genome.fa --MAX_INSERT_SIZE 100000 --EXPECTED_PAIR_ORIENTATIONS FR --ADAPTER_SEQUENCE AATGATACGGCGACCACCGAGATCTACACTCTTTCCCTACACGACGCTCTTCCGATCT --ADAPTER_SEQUENCE AGATCGGAAGAGCTCGTATGCCGTCTTCTGCTTG --ADAPTER_SEQUENCE AATGATACGGCGACCACCGAGATCTACACTCTTTCCCTACACGACGCTCTTCCGATCT --ADAPTER_SEQUENCE AGATCGGAAGAGCGGTTCAGCAGGAATGCCGAGACCGATCTCGTATGCCGTCTTCTGCTTG --ADAPTER_SEQUENCE AATGATACGGCGACCACCGAGATCTACACTCTTTCCCTACACGACGCTCTTCCGATCT --ADAPTER_SEQUENCE AGATCGGAAGAGCACACGTCTGAACTCCAGTCACNNNNNNNNATCTCGTATGCCGTCTTCTGCTTG --IS_BISULFITE_SEQUENCED false --COLLECT_ALIGNMENT_INFORMATION true --ASSUME_SORTED true --STOP_AFTER 0 --VERBOSITY INFO --QUIET false --VALIDATION_STRINGENCY STRICT --COMPRESSION_LEVEL 2 --MAX_RECORDS_IN_RAM 500000 --CREATE_INDEX false --CREATE_MD5_FILE false --GA4GH_CLIENT_SECRETS client_secrets.json --help false --version false --showHidden false --USE_JDK_DEFLATER false --USE_JDK_INFLATER false\n",
            "## htsjdk.samtools.metrics.StringHeader\n",
            "# Started on: Thu Dec 23 17:00:26 UTC 2021\n",
            "\n",
            "## METRICS CLASS\tpicard.analysis.AlignmentSummaryMetrics\n",
            "CATEGORY\tTOTAL_READS\tPF_READS\tPCT_PF_READS\tPF_NOISE_READS\tPF_READS_ALIGNED\tPCT_PF_READS_ALIGNED\tPF_ALIGNED_BASES\tPF_HQ_ALIGNED_READS\tPF_HQ_ALIGNED_BASES\tPF_HQ_ALIGNED_Q20_BASES\tPF_HQ_MEDIAN_MISMATCHES\tPF_MISMATCH_RATE\tPF_HQ_ERROR_RATE\tPF_INDEL_RATE\tMEAN_READ_LENGTH\tREADS_ALIGNED_IN_PAIRS\tPCT_READS_ALIGNED_IN_PAIRS\tPF_READS_IMPROPER_PAIRS\tPCT_PF_READS_IMPROPER_PAIRS\tBAD_CYCLES\tSTRAND_BALANCE\tPCT_CHIMERAS\tPCT_ADAPTER\tPCT_SOFTCLIP\tPCT_HARDCLIP\tAVG_POS_3PRIME_SOFTCLIP_LENGTH\tSAMPLE\tLIBRARY\tREAD_GROUP\n",
            "FIRST_OF_PAIR\t130225\t130225\t1\t0\t130215\t0.999923\t12300221\t129881\t12274044\t12199647\t0\t0.002158\t0.002128\t0.000116\t94.565183\t130201\t0.999892\t3577\t0.02747\t0\t0.500518\t0.011962\t0\t0.000989\t0\t16.883365\t\t\t\n",
            "SECOND_OF_PAIR\t130225\t130225\t1\t0\t130211\t0.999892\t12318357\t129898\t12294034\t12196440\t0\t0.002545\t0.00251\t0.000105\t94.718572\t130201\t0.999923\t3573\t0.02744\t0\t0.49962\t0.011963\t0\t0.001145\t0\t17.555944\t\t\t\n",
            "PAIR\t260450\t260450\t1\t0\t260426\t0.999908\t24618578\t259779\t24568078\t24396087\t0\t0.002352\t0.002319\t0.00011\t94.641878\t260402\t0.999908\t7150\t0.027455\t0\t0.500069\t0.011962\t0\t0.001067\t0\t17.234703\t\t\t\n",
            "FIRST_OF_PAIR\t3691\t3691\t1\t0\t3690\t0.999729\t337640\t3682\t337179\t337060\t0\t0.002044\t0.002043\t0.000071\t91.609591\t3689\t0.999729\t67\t0.018157\t0\t0.492683\t0.008686\t0\t0.001085\t0\t19.466667\ttumor\ttumor_62DU0AAXX\t\n",
            "SECOND_OF_PAIR\t3691\t3691\t1\t0\t3690\t0.999729\t330622\t3682\t330020\t329907\t0\t0.002211\t0.0022\t0.000121\t89.71715\t3689\t0.999729\t67\t0.018157\t0\t0.506233\t0.008417\t0\t0.001268\t0\t15.761905\ttumor\ttumor_62DU0AAXX\t\n",
            "PAIR\t7382\t7382\t1\t0\t7380\t0.999729\t668262\t7364\t667199\t666967\t0\t0.002126\t0.002121\t0.000096\t90.66337\t7378\t0.999729\t134\t0.018157\t0\t0.499458\t0.008552\t0\t0.001176\t0\t17.305556\ttumor\ttumor_62DU0AAXX\t\n",
            "FIRST_OF_PAIR\t4047\t4047\t1\t0\t4046\t0.999753\t387375\t4039\t386798\t386696\t0\t0.001629\t0.001595\t0.000119\t95.878923\t4045\t0.999753\t79\t0.019525\t0\t0.501977\t0.008661\t0\t0.001245\t0\t26.636364\ttumor\ttumor_62DUUAAXX\t\n",
            "SECOND_OF_PAIR\t4047\t4047\t1\t0\t4046\t0.999753\t377108\t4041\t376760\t376641\t0\t0.002615\t0.002591\t0.000093\t93.336546\t4045\t0.999753\t79\t0.019525\t0\t0.496293\t0.008166\t0\t0.001316\t0\t20.722222\ttumor\ttumor_62DUUAAXX\t\n",
            "PAIR\t8094\t8094\t1\t0\t8092\t0.999753\t764483\t8080\t763558\t763337\t0\t0.002115\t0.002086\t0.000106\t94.607734\t8090\t0.999753\t158\t0.019525\t0\t0.499135\t0.008414\t0\t0.00128\t0\t22.965517\ttumor\ttumor_62DUUAAXX\t\n",
            "FIRST_OF_PAIR\t12156\t12156\t1\t0\t12156\t1\t1076742\t12098\t1072402\t1072152\t0\t0.001685\t0.001645\t0.000169\t88.672425\t12152\t0.999671\t817\t0.06721\t0\t0.502139\t0.03052\t0\t0.000949\t0\t12.781818\ttumor\ttumor_62DVMAAXX\t\n",
            "SECOND_OF_PAIR\t12156\t12156\t1\t0\t12152\t0.999671\t1101139\t12110\t1097937\t1097617\t0\t0.002373\t0.002327\t0.00013\t90.742925\t12152\t1\t813\t0.066903\t0\t0.499095\t0.030941\t0\t0.001412\t0\t15.946429\ttumor\ttumor_62DVMAAXX\t\n",
            "PAIR\t24312\t24312\t1\t0\t24308\t0.999835\t2177881\t24208\t2170339\t2169769\t0\t0.002033\t0.00199\t0.000149\t89.707675\t24304\t0.999835\t1630\t0.067056\t0\t0.500617\t0.030731\t0\t0.001183\t0\t14.378378\ttumor\ttumor_62DVMAAXX\t\n",
            "FIRST_OF_PAIR\t19259\t19259\t1\t0\t19257\t0.999896\t1705472\t19189\t1700481\t1699910\t0\t0.001779\t0.001731\t0.000131\t88.667636\t19255\t0.999896\t728\t0.037804\t0\t0.498208\t0.016603\t0\t0.001049\t0\t13.443299\ttumor\ttumor_62JREAAXX\t\n",
            "SECOND_OF_PAIR\t19259\t19259\t1\t0\t19257\t0.999896\t1752667\t19204\t1749032\t1748548\t0\t0.002242\t0.002209\t0.000124\t91.137079\t19255\t0.999896\t728\t0.037804\t0\t0.50174\t0.016551\t0\t0.001216\t0\t17.178571\ttumor\ttumor_62JREAAXX\t\n",
            "PAIR\t38518\t38518\t1\t0\t38514\t0.999896\t3458139\t38393\t3449513\t3448458\t0\t0.002014\t0.001973\t0.000128\t89.902357\t38510\t0.999896\t1456\t0.037804\t0\t0.499974\t0.016577\t0\t0.001134\t0\t15.176796\ttumor\ttumor_62JREAAXX\t\n",
            "FIRST_OF_PAIR\t39158\t39158\t1\t0\t39155\t0.999923\t3909320\t39074\t3902336\t3889232\t0\t0.001941\t0.00191\t0.000114\t99.955079\t39152\t0.999923\t790\t0.020176\t0\t0.504048\t0.008517\t0\t0.001032\t0\t19.611842\ttumor\ttumor_AC0756ACXX\t\n",
            "SECOND_OF_PAIR\t39158\t39158\t1\t0\t39155\t0.999923\t3891467\t39063\t3883882\t3865152\t0\t0.001808\t0.001775\t0.000108\t99.500766\t39152\t0.999923\t790\t0.020176\t0\t0.495926\t0.008415\t0\t0.001067\t0\t19.096386\ttumor\ttumor_AC0756ACXX\t\n",
            "PAIR\t78316\t78316\t1\t0\t78310\t0.999923\t7800787\t78137\t7786218\t7754384\t0\t0.001874\t0.001842\t0.000111\t99.727923\t78304\t0.999923\t1580\t0.020176\t0\t0.499987\t0.008466\t0\t0.001049\t0\t19.342767\ttumor\ttumor_AC0756ACXX\t\n",
            "FIRST_OF_PAIR\t20769\t20769\t1\t0\t20769\t1\t1871471\t20718\t1867683\t1831557\t0\t0.003471\t0.003453\t0.000103\t90.204969\t20768\t0.999952\t388\t0.018682\t0\t0.500361\t0.00786\t0\t0.000965\t0\t18.028986\ttumor\ttumor_BD08K8ACXX\t\n",
            "SECOND_OF_PAIR\t20769\t20769\t1\t0\t20768\t0.999952\t1885880\t20731\t1882984\t1844584\t0\t0.00398\t0.00395\t0.000079\t90.912081\t20768\t1\t387\t0.018634\t0\t0.499904\t0.007908\t0\t0.001085\t0\t16.688172\ttumor\ttumor_BD08K8ACXX\t\n",
            "PAIR\t41538\t41538\t1\t0\t41537\t0.999976\t3757351\t41449\t3750667\t3676141\t0\t0.003726\t0.003703\t0.000091\t90.558525\t41536\t0.999976\t775\t0.018658\t0\t0.500132\t0.007884\t0\t0.001025\t0\t17.259259\ttumor\ttumor_BD08K8ACXX\t\n",
            "FIRST_OF_PAIR\t1097\t1097\t1\t0\t1097\t1\t102745\t1091\t102275\t102257\t0\t0.001528\t0.001506\t0.000156\t93.730173\t1097\t1\t66\t0.060164\t0\t0.499544\t0.02925\t0\t0.000661\t0\t9\ttumor\ttumor_62DU6AAXX\t\n",
            "SECOND_OF_PAIR\t1097\t1097\t1\t0\t1097\t1\t105147\t1093\t104769\t104743\t0\t0.001807\t0.001766\t0.000171\t95.940747\t1097\t1\t66\t0.060164\t0\t0.503191\t0.02925\t0\t0.000865\t0\t13.75\ttumor\ttumor_62DU6AAXX\t\n",
            "PAIR\t2194\t2194\t1\t0\t2194\t1\t207892\t2184\t207044\t207000\t0\t0.001669\t0.001637\t0.000164\t94.83546\t2194\t1\t132\t0.060164\t0\t0.501367\t0.02925\t0\t0.000764\t0\t11.714286\ttumor\ttumor_62DU6AAXX\t\n",
            "FIRST_OF_PAIR\t4342\t4342\t1\t0\t4342\t1\t388609\t4331\t387845\t387734\t0\t0.001498\t0.001465\t0.000129\t89.593275\t4342\t1\t95\t0.021879\t0\t0.495164\t0.007852\t0\t0.00081\t0\t14.470588\ttumor\ttumor_62DUYAAXX\t\n",
            "SECOND_OF_PAIR\t4342\t4342\t1\t0\t4342\t1\t389384\t4328\t388277\t388069\t0\t0.002815\t0.002753\t0.000098\t89.805389\t4342\t1\t95\t0.021879\t0\t0.505758\t0.007852\t0\t0.00131\t0\t14.1\ttumor\ttumor_62DUYAAXX\t\n",
            "PAIR\t8684\t8684\t1\t0\t8684\t1\t777993\t8659\t776122\t775803\t0\t0.002157\t0.002109\t0.000113\t89.699332\t8684\t1\t190\t0.021879\t0\t0.500461\t0.007852\t0\t0.00106\t0\t14.27027\ttumor\ttumor_62DUYAAXX\t\n",
            "FIRST_OF_PAIR\t25706\t25706\t1\t0\t25703\t0.999883\t2520847\t25659\t2517045\t2493049\t0\t0.002204\t0.002177\t0.000096\t98.175601\t25701\t0.999922\t547\t0.021282\t0\t0.498074\t0.009231\t0\t0.000905\t0\t16.730769\ttumor\ttumor_AD08C1ACXX\t\n",
            "SECOND_OF_PAIR\t25706\t25706\t1\t0\t25704\t0.999922\t2484943\t25646\t2480373\t2441179\t0\t0.002922\t0.002886\t0.000094\t96.786003\t25701\t0.999883\t548\t0.02132\t0\t0.502062\t0.00931\t0\t0.001086\t0\t17.663636\ttumor\ttumor_AD08C1ACXX\t\n",
            "PAIR\t51412\t51412\t1\t0\t51407\t0.999903\t5005790\t51305\t4997418\t4934228\t0\t0.00256\t0.002529\t0.000095\t97.480802\t51402\t0.999903\t1095\t0.021301\t0\t0.500068\t0.009271\t0\t0.000995\t0\t17.21028\ttumor\ttumor_AD08C1ACXX\t\n",
            "\n",
            "## HISTOGRAM\tjava.lang.Integer\n",
            "READ_LENGTH\tPAIRED_TOTAL_LENGTH_COUNT\tPAIRED_ALIGNED_LENGTH_COUNT\n",
            "0\t0\t24\n",
            "21\t0\t1\n",
            "22\t0\t1\n",
            "23\t0\t2\n",
            "24\t0\t1\n",
            "25\t0\t2\n",
            "26\t0\t1\n",
            "27\t0\t1\n",
            "29\t0\t2\n",
            "30\t0\t3\n",
            "31\t0\t5\n",
            "32\t0\t1\n",
            "33\t0\t5\n",
            "34\t0\t3\n",
            "35\t0\t8\n",
            "36\t0\t9\n",
            "37\t0\t7\n",
            "38\t0\t6\n",
            "39\t0\t10\n",
            "40\t0\t9\n",
            "41\t0\t6\n",
            "42\t0\t8\n",
            "43\t0\t10\n",
            "44\t0\t10\n",
            "45\t0\t10\n",
            "46\t0\t15\n",
            "47\t0\t14\n",
            "48\t0\t24\n",
            "49\t0\t11\n",
            "50\t972\t973\n",
            "51\t343\t349\n",
            "52\t400\t415\n",
            "53\t552\t570\n",
            "54\t720\t727\n",
            "55\t1158\t1167\n",
            "56\t472\t484\n",
            "57\t517\t529\n",
            "58\t695\t708\n",
            "59\t972\t987\n",
            "60\t1375\t1394\n",
            "61\t568\t582\n",
            "62\t663\t668\n",
            "63\t863\t870\n",
            "64\t1169\t1169\n",
            "65\t1593\t1596\n",
            "66\t671\t685\n",
            "67\t798\t806\n",
            "68\t983\t1016\n",
            "69\t1336\t1348\n",
            "70\t1838\t1844\n",
            "71\t859\t874\n",
            "72\t933\t952\n",
            "73\t1161\t1183\n",
            "74\t1533\t1537\n",
            "75\t2087\t2087\n",
            "76\t908\t923\n",
            "77\t995\t1008\n",
            "78\t1365\t1385\n",
            "79\t1768\t1779\n",
            "80\t2551\t2545\n",
            "81\t1182\t1196\n",
            "82\t1427\t1439\n",
            "83\t1613\t1644\n",
            "84\t2226\t2223\n",
            "85\t2907\t2905\n",
            "86\t1564\t1577\n",
            "87\t1766\t1777\n",
            "88\t2081\t2099\n",
            "89\t2621\t2638\n",
            "90\t3536\t3538\n",
            "91\t2172\t2196\n",
            "92\t2499\t2525\n",
            "93\t3031\t3065\n",
            "94\t4153\t4181\n",
            "95\t5811\t5810\n",
            "96\t4257\t4278\n",
            "97\t5719\t5736\n",
            "98\t8141\t8131\n",
            "99\t13905\t13848\n",
            "100\t30271\t30125\n",
            "101\t126750\t126150\n",
            "\n"
          ]
        }
      ]
    }
  ]
}
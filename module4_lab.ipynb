{
  "nbformat": 4,
  "nbformat_minor": 0,
  "metadata": {
    "colab": {
      "name": "module4_lab.ipynb",
      "provenance": [],
      "collapsed_sections": []
    },
    "kernelspec": {
      "name": "python3",
      "display_name": "Python 3"
    },
    "language_info": {
      "name": "python"
    }
  },
  "cells": [
    {
      "cell_type": "markdown",
      "source": [
        "# Module 4: Somatic variants\n",
        "In this workshop, we will work with common tools to process and analyze cancer sequencing data. Using the command line we will analyze DNA sequencing from the whole genome. The focus of this workshop will be on calling single nucelotide variants, insertion, deletions (commonly referred to as SNV/indels) as well as calling copy-number variations (CNVs). We will also annotate SNV & CNV files, such that we will known the functional consequence of these variants.\n",
        "\n",
        "Data Source: we will be working on the CageKid samples from Module3. Whole genome sequencing and analysis can take multiple days to run, as such we have downsampled the files so that we can proceed in a timely fashion."
      ],
      "metadata": {
        "id": "jt0cAwvWP_kA"
      }
    },
    {
      "cell_type": "markdown",
      "source": [
        "## Mount Google drive"
      ],
      "metadata": {
        "id": "_1UNcLNaZSti"
      }
    },
    {
      "cell_type": "code",
      "source": [
        "from google.colab import drive\n",
        "drive.mount('/content/drive')"
      ],
      "metadata": {
        "colab": {
          "base_uri": "https://localhost:8080/"
        },
        "id": "9yKpRAMzZLbR",
        "outputId": "54147215-35a6-4172-d028-d49081c25b96"
      },
      "execution_count": null,
      "outputs": [
        {
          "output_type": "stream",
          "name": "stdout",
          "text": [
            "Drive already mounted at /content/drive; to attempt to forcibly remount, call drive.mount(\"/content/drive\", force_remount=True).\n"
          ]
        }
      ]
    },
    {
      "cell_type": "markdown",
      "source": [
        "## Install software"
      ],
      "metadata": {
        "id": "EZluO3zqZMPX"
      }
    },
    {
      "cell_type": "code",
      "source": [
        "# install conda\n",
        "!wget https://repo.anaconda.com/miniconda/Miniconda3-py37_4.8.2-Linux-x86_64.sh\n",
        "!chmod +x Miniconda3-py37_4.8.2-Linux-x86_64.sh\n",
        "!bash ./Miniconda3-py37_4.8.2-Linux-x86_64.sh -b -f -p /usr/local\n",
        "import sys\n",
        "sys.path.append('/usr/local/lib/python3.7/site-packages/')\n",
        "\n",
        "!rm Miniconda3-py37_4.8.2-Linux-x86_64.sh\n",
        "\n",
        "# install GATK 4\n",
        "!conda install -y -c bioconda gatk4\n",
        "\n",
        "# install samtools\n",
        "!conda install -y -c bioconda samtools\n",
        "\n",
        "# install bcftools\n",
        "!conda install -y -c bioconda bcftools\n",
        "\n",
        "# install tabix\n",
        "!conda install -y -c bioconda tabix\n",
        "\n",
        "# install varscan2\n",
        "!conda install -y -c bioconda varscan\n",
        "\n",
        "# install control-freec\n",
        "!conda install -y -c bioconda control-freec\n",
        "\n",
        "# install bedtools\n",
        "!conda install -y -c bioconda bedtools"
      ],
      "metadata": {
        "colab": {
          "base_uri": "https://localhost:8080/"
        },
        "id": "IPDOa78jXEpy",
        "outputId": "58a17839-ad47-4ac9-82b0-5834a5aa45e6"
      },
      "execution_count": null,
      "outputs": [
        {
          "output_type": "stream",
          "name": "stdout",
          "text": [
            "--2022-01-31 23:36:25--  https://repo.anaconda.com/miniconda/Miniconda3-py37_4.8.2-Linux-x86_64.sh\n",
            "Resolving repo.anaconda.com (repo.anaconda.com)... 104.16.130.3, 104.16.131.3, 2606:4700::6810:8303, ...\n",
            "Connecting to repo.anaconda.com (repo.anaconda.com)|104.16.130.3|:443... connected.\n",
            "HTTP request sent, awaiting response... 200 OK\n",
            "Length: 85055499 (81M) [application/x-sh]\n",
            "Saving to: ‘Miniconda3-py37_4.8.2-Linux-x86_64.sh’\n",
            "\n",
            "Miniconda3-py37_4.8 100%[===================>]  81.12M  46.4MB/s    in 1.7s    \n",
            "\n",
            "2022-01-31 23:36:26 (46.4 MB/s) - ‘Miniconda3-py37_4.8.2-Linux-x86_64.sh’ saved [85055499/85055499]\n",
            "\n",
            "PREFIX=/usr/local\n",
            "Unpacking payload ...\n",
            "Collecting package metadata (current_repodata.json): - \b\b\\ \b\bdone\n",
            "Solving environment: / \b\b- \b\bdone\n",
            "\n",
            "## Package Plan ##\n",
            "\n",
            "  environment location: /usr/local\n",
            "\n",
            "  added / updated specs:\n",
            "    - _libgcc_mutex==0.1=main\n",
            "    - asn1crypto==1.3.0=py37_0\n",
            "    - ca-certificates==2020.1.1=0\n",
            "    - certifi==2019.11.28=py37_0\n",
            "    - cffi==1.14.0=py37h2e261b9_0\n",
            "    - chardet==3.0.4=py37_1003\n",
            "    - conda-package-handling==1.6.0=py37h7b6447c_0\n",
            "    - conda==4.8.2=py37_0\n",
            "    - cryptography==2.8=py37h1ba5d50_0\n",
            "    - idna==2.8=py37_0\n",
            "    - ld_impl_linux-64==2.33.1=h53a641e_7\n",
            "    - libedit==3.1.20181209=hc058e9b_0\n",
            "    - libffi==3.2.1=hd88cf55_4\n",
            "    - libgcc-ng==9.1.0=hdf63c60_0\n",
            "    - libstdcxx-ng==9.1.0=hdf63c60_0\n",
            "    - ncurses==6.2=he6710b0_0\n",
            "    - openssl==1.1.1d=h7b6447c_4\n",
            "    - pip==20.0.2=py37_1\n",
            "    - pycosat==0.6.3=py37h7b6447c_0\n",
            "    - pycparser==2.19=py37_0\n",
            "    - pyopenssl==19.1.0=py37_0\n",
            "    - pysocks==1.7.1=py37_0\n",
            "    - python==3.7.6=h0371630_2\n",
            "    - readline==7.0=h7b6447c_5\n",
            "    - requests==2.22.0=py37_1\n",
            "    - ruamel_yaml==0.15.87=py37h7b6447c_0\n",
            "    - setuptools==45.2.0=py37_0\n",
            "    - six==1.14.0=py37_0\n",
            "    - sqlite==3.31.1=h7b6447c_0\n",
            "    - tk==8.6.8=hbc83047_0\n",
            "    - tqdm==4.42.1=py_0\n",
            "    - urllib3==1.25.8=py37_0\n",
            "    - wheel==0.34.2=py37_0\n",
            "    - xz==5.2.4=h14c3975_4\n",
            "    - yaml==0.1.7=had09818_2\n",
            "    - zlib==1.2.11=h7b6447c_3\n",
            "\n",
            "\n",
            "The following NEW packages will be INSTALLED:\n",
            "\n",
            "  _libgcc_mutex      pkgs/main/linux-64::_libgcc_mutex-0.1-main\n",
            "  asn1crypto         pkgs/main/linux-64::asn1crypto-1.3.0-py37_0\n",
            "  ca-certificates    pkgs/main/linux-64::ca-certificates-2020.1.1-0\n",
            "  certifi            pkgs/main/linux-64::certifi-2019.11.28-py37_0\n",
            "  cffi               pkgs/main/linux-64::cffi-1.14.0-py37h2e261b9_0\n",
            "  chardet            pkgs/main/linux-64::chardet-3.0.4-py37_1003\n",
            "  conda              pkgs/main/linux-64::conda-4.8.2-py37_0\n",
            "  conda-package-han~ pkgs/main/linux-64::conda-package-handling-1.6.0-py37h7b6447c_0\n",
            "  cryptography       pkgs/main/linux-64::cryptography-2.8-py37h1ba5d50_0\n",
            "  idna               pkgs/main/linux-64::idna-2.8-py37_0\n",
            "  ld_impl_linux-64   pkgs/main/linux-64::ld_impl_linux-64-2.33.1-h53a641e_7\n",
            "  libedit            pkgs/main/linux-64::libedit-3.1.20181209-hc058e9b_0\n",
            "  libffi             pkgs/main/linux-64::libffi-3.2.1-hd88cf55_4\n",
            "  libgcc-ng          pkgs/main/linux-64::libgcc-ng-9.1.0-hdf63c60_0\n",
            "  libstdcxx-ng       pkgs/main/linux-64::libstdcxx-ng-9.1.0-hdf63c60_0\n",
            "  ncurses            pkgs/main/linux-64::ncurses-6.2-he6710b0_0\n",
            "  openssl            pkgs/main/linux-64::openssl-1.1.1d-h7b6447c_4\n",
            "  pip                pkgs/main/linux-64::pip-20.0.2-py37_1\n",
            "  pycosat            pkgs/main/linux-64::pycosat-0.6.3-py37h7b6447c_0\n",
            "  pycparser          pkgs/main/linux-64::pycparser-2.19-py37_0\n",
            "  pyopenssl          pkgs/main/linux-64::pyopenssl-19.1.0-py37_0\n",
            "  pysocks            pkgs/main/linux-64::pysocks-1.7.1-py37_0\n",
            "  python             pkgs/main/linux-64::python-3.7.6-h0371630_2\n",
            "  readline           pkgs/main/linux-64::readline-7.0-h7b6447c_5\n",
            "  requests           pkgs/main/linux-64::requests-2.22.0-py37_1\n",
            "  ruamel_yaml        pkgs/main/linux-64::ruamel_yaml-0.15.87-py37h7b6447c_0\n",
            "  setuptools         pkgs/main/linux-64::setuptools-45.2.0-py37_0\n",
            "  six                pkgs/main/linux-64::six-1.14.0-py37_0\n",
            "  sqlite             pkgs/main/linux-64::sqlite-3.31.1-h7b6447c_0\n",
            "  tk                 pkgs/main/linux-64::tk-8.6.8-hbc83047_0\n",
            "  tqdm               pkgs/main/noarch::tqdm-4.42.1-py_0\n",
            "  urllib3            pkgs/main/linux-64::urllib3-1.25.8-py37_0\n",
            "  wheel              pkgs/main/linux-64::wheel-0.34.2-py37_0\n",
            "  xz                 pkgs/main/linux-64::xz-5.2.4-h14c3975_4\n",
            "  yaml               pkgs/main/linux-64::yaml-0.1.7-had09818_2\n",
            "  zlib               pkgs/main/linux-64::zlib-1.2.11-h7b6447c_3\n",
            "\n",
            "\n",
            "Preparing transaction: | \b\b/ \b\b- \b\b\\ \b\bdone\n",
            "Executing transaction: / \b\b- \b\b\\ \b\b| \b\b/ \b\b- \b\b\\ \b\b| \b\b/ \b\b- \b\b\\ \b\b| \b\bdone\n",
            "installation finished.\n",
            "WARNING:\n",
            "    You currently have a PYTHONPATH environment variable set. This may cause\n",
            "    unexpected behavior when running the Python interpreter in Miniconda3.\n",
            "    For best results, please verify that your PYTHONPATH only points to\n",
            "    directories of packages that are compatible with the Python interpreter\n",
            "    in Miniconda3: /usr/local\n",
            "Collecting package metadata (current_repodata.json): - \b\b\\ \b\b| \b\b/ \b\b- \b\b\\ \b\b| \b\b/ \b\b- \b\b\\ \b\b| \b\b/ \b\b- \b\b\\ \b\b| \b\b/ \b\b- \b\b\\ \b\b| \b\b/ \b\b- \b\b\\ \b\b| \b\b/ \b\b- \b\b\\ \b\b| \b\b/ \b\b- \b\b\\ \b\b| \b\b/ \b\b- \b\b\\ \b\bdone\n",
            "Solving environment: / \b\b- \b\b\\ \b\b| \b\bdone\n",
            "\n",
            "## Package Plan ##\n",
            "\n",
            "  environment location: /usr/local\n",
            "\n",
            "  added / updated specs:\n",
            "    - gatk4\n",
            "\n",
            "\n",
            "The following packages will be downloaded:\n",
            "\n",
            "    package                    |            build\n",
            "    ---------------------------|-----------------\n",
            "    ca-certificates-2021.10.26 |       h06a4308_2         115 KB\n",
            "    certifi-2021.10.8          |   py37h06a4308_2         151 KB\n",
            "    conda-4.11.0               |   py37h06a4308_0        14.4 MB\n",
            "    gatk4-4.2.4.1              |       hdfd78af_0       280.6 MB  bioconda\n",
            "    openjdk-8.0.152            |       h7b6447c_3        57.4 MB\n",
            "    openssl-1.1.1m             |       h7f8727e_0         2.5 MB\n",
            "    ------------------------------------------------------------\n",
            "                                           Total:       355.2 MB\n",
            "\n",
            "The following NEW packages will be INSTALLED:\n",
            "\n",
            "  gatk4              bioconda/noarch::gatk4-4.2.4.1-hdfd78af_0\n",
            "  openjdk            pkgs/main/linux-64::openjdk-8.0.152-h7b6447c_3\n",
            "\n",
            "The following packages will be UPDATED:\n",
            "\n",
            "  ca-certificates                                2020.1.1-0 --> 2021.10.26-h06a4308_2\n",
            "  certifi                                 2019.11.28-py37_0 --> 2021.10.8-py37h06a4308_2\n",
            "  conda                                        4.8.2-py37_0 --> 4.11.0-py37h06a4308_0\n",
            "  openssl                                 1.1.1d-h7b6447c_4 --> 1.1.1m-h7f8727e_0\n",
            "\n",
            "\n",
            "\n",
            "Downloading and Extracting Packages\n",
            "openssl-1.1.1m       | 2.5 MB    | : 100% 1.0/1 [00:00<00:00,  6.88it/s]\n",
            "openjdk-8.0.152      | 57.4 MB   | : 100% 1.0/1 [00:02<00:00,  2.05s/it]               \n",
            "ca-certificates-2021 | 115 KB    | : 100% 1.0/1 [00:00<00:00, 20.69it/s]\n",
            "certifi-2021.10.8    | 151 KB    | : 100% 1.0/1 [00:00<00:00,  1.20it/s]\n",
            "conda-4.11.0         | 14.4 MB   | : 100% 1.0/1 [00:00<00:00,  1.85it/s]\n",
            "gatk4-4.2.4.1        | 280.6 MB  | : 100% 1.0/1 [00:28<00:00, 28.16s/it]               \n",
            "Preparing transaction: - \b\bdone\n",
            "Verifying transaction: | \b\b/ \b\bdone\n",
            "Executing transaction: \\ \b\bdone\n",
            "Collecting package metadata (current_repodata.json): - \b\b\\ \b\b| \b\b/ \b\b- \b\b\\ \b\b| \b\b/ \b\bdone\n",
            "Solving environment: \\ \b\b| \b\b/ \b\b- \b\b\\ \b\b| \b\bdone\n",
            "\n",
            "## Package Plan ##\n",
            "\n",
            "  environment location: /usr/local\n",
            "\n",
            "  added / updated specs:\n",
            "    - samtools\n",
            "\n",
            "\n",
            "The following packages will be downloaded:\n",
            "\n",
            "    package                    |            build\n",
            "    ---------------------------|-----------------\n",
            "    samtools-1.3.1             |                0         1.5 MB  bioconda\n",
            "    ------------------------------------------------------------\n",
            "                                           Total:         1.5 MB\n",
            "\n",
            "The following NEW packages will be INSTALLED:\n",
            "\n",
            "  samtools           bioconda/linux-64::samtools-1.3.1-0\n",
            "\n",
            "\n",
            "\n",
            "Downloading and Extracting Packages\n",
            "samtools-1.3.1       | 1.5 MB    | : 100% 1.0/1 [00:00<00:00,  3.19it/s]\n",
            "Preparing transaction: - \b\bdone\n",
            "Verifying transaction: | \b\bdone\n",
            "Executing transaction: - \b\bdone\n",
            "Collecting package metadata (current_repodata.json): - \b\b\\ \b\b| \b\b/ \b\b- \b\b\\ \b\b| \b\b/ \b\b- \b\bdone\n",
            "Solving environment: | \b\b/ \b\b- \b\b\\ \b\b| \b\b/ \b\b- \b\b\\ \b\b| \b\b/ \b\b- \b\b\\ \b\b| \b\b/ \b\bdone\n",
            "\n",
            "## Package Plan ##\n",
            "\n",
            "  environment location: /usr/local\n",
            "\n",
            "  added / updated specs:\n",
            "    - bcftools\n",
            "\n",
            "\n",
            "The following packages will be downloaded:\n",
            "\n",
            "    package                    |            build\n",
            "    ---------------------------|-----------------\n",
            "    bcftools-1.9               |       ha228f0b_4         807 KB  bioconda\n",
            "    bzip2-1.0.8                |       h7b6447c_0          78 KB\n",
            "    c-ares-1.18.1              |       h7f8727e_0         114 KB\n",
            "    curl-7.80.0                |       h7f8727e_0          95 KB\n",
            "    krb5-1.19.2                |       hac12032_0         1.2 MB\n",
            "    libcurl-7.80.0             |       h0b77cf5_0         339 KB\n",
            "    libdeflate-1.0             |       h14c3975_1          43 KB  bioconda\n",
            "    libedit-3.1.20210910       |       h7f8727e_0         166 KB\n",
            "    libev-4.33                 |       h7f8727e_1         111 KB\n",
            "    libnghttp2-1.46.0          |       hce63b2e_0         680 KB\n",
            "    libssh2-1.9.0              |       h1ba5d50_1         269 KB\n",
            "    ncurses-6.3                |       h7f8727e_2         782 KB\n",
            "    ------------------------------------------------------------\n",
            "                                           Total:         4.6 MB\n",
            "\n",
            "The following NEW packages will be INSTALLED:\n",
            "\n",
            "  bcftools           bioconda/linux-64::bcftools-1.9-ha228f0b_4\n",
            "  bzip2              pkgs/main/linux-64::bzip2-1.0.8-h7b6447c_0\n",
            "  c-ares             pkgs/main/linux-64::c-ares-1.18.1-h7f8727e_0\n",
            "  curl               pkgs/main/linux-64::curl-7.80.0-h7f8727e_0\n",
            "  krb5               pkgs/main/linux-64::krb5-1.19.2-hac12032_0\n",
            "  libcurl            pkgs/main/linux-64::libcurl-7.80.0-h0b77cf5_0\n",
            "  libdeflate         bioconda/linux-64::libdeflate-1.0-h14c3975_1\n",
            "  libev              pkgs/main/linux-64::libev-4.33-h7f8727e_1\n",
            "  libnghttp2         pkgs/main/linux-64::libnghttp2-1.46.0-hce63b2e_0\n",
            "  libssh2            pkgs/main/linux-64::libssh2-1.9.0-h1ba5d50_1\n",
            "\n",
            "The following packages will be UPDATED:\n",
            "\n",
            "  libedit                           3.1.20181209-hc058e9b_0 --> 3.1.20210910-h7f8727e_0\n",
            "  ncurses                                    6.2-he6710b0_0 --> 6.3-h7f8727e_2\n",
            "\n",
            "\n",
            "\n",
            "Downloading and Extracting Packages\n",
            "libnghttp2-1.46.0    | 680 KB    | : 100% 1.0/1 [00:00<00:00,  9.80it/s]\n",
            "c-ares-1.18.1        | 114 KB    | : 100% 1.0/1 [00:00<00:00, 21.34it/s]\n",
            "libssh2-1.9.0        | 269 KB    | : 100% 1.0/1 [00:00<00:00, 16.68it/s]\n",
            "libev-4.33           | 111 KB    | : 100% 1.0/1 [00:00<00:00, 19.95it/s]\n",
            "bcftools-1.9         | 807 KB    | : 100% 1.0/1 [00:00<00:00,  2.13it/s]\n",
            "krb5-1.19.2          | 1.2 MB    | : 100% 1.0/1 [00:00<00:00, 13.84it/s]\n",
            "libcurl-7.80.0       | 339 KB    | : 100% 1.0/1 [00:00<00:00, 18.17it/s]\n",
            "libdeflate-1.0       | 43 KB     | : 100% 1.0/1 [00:00<00:00,  8.14it/s]               \n",
            "bzip2-1.0.8          | 78 KB     | : 100% 1.0/1 [00:00<00:00, 17.63it/s]\n",
            "curl-7.80.0          | 95 KB     | : 100% 1.0/1 [00:00<00:00, 22.31it/s]\n",
            "libedit-3.1.20210910 | 166 KB    | : 100% 1.0/1 [00:00<00:00, 21.00it/s]\n",
            "ncurses-6.3          | 782 KB    | : 100% 1.0/1 [00:00<00:00,  5.71it/s]\n",
            "Preparing transaction: \\ \b\b| \b\bdone\n",
            "Verifying transaction: - \b\b\\ \b\b| \b\b/ \b\b- \b\bdone\n",
            "Executing transaction: | \b\b/ \b\b- \b\b\\ \b\bdone\n",
            "Collecting package metadata (current_repodata.json): - \b\b\\ \b\b| \b\b/ \b\b- \b\b\\ \b\b| \b\b/ \b\b- \b\bdone\n",
            "Solving environment: | \b\b/ \b\b- \b\b\\ \b\bdone\n",
            "\n",
            "## Package Plan ##\n",
            "\n",
            "  environment location: /usr/local\n",
            "\n",
            "  added / updated specs:\n",
            "    - tabix\n",
            "\n",
            "\n",
            "The following packages will be downloaded:\n",
            "\n",
            "    package                    |            build\n",
            "    ---------------------------|-----------------\n",
            "    htslib-1.9                 |       ha228f0b_7         1.5 MB  bioconda\n",
            "    tabix-1.11                 |       hdfd78af_0           6 KB  bioconda\n",
            "    ------------------------------------------------------------\n",
            "                                           Total:         1.5 MB\n",
            "\n",
            "The following NEW packages will be INSTALLED:\n",
            "\n",
            "  htslib             bioconda/linux-64::htslib-1.9-ha228f0b_7\n",
            "  tabix              bioconda/noarch::tabix-1.11-hdfd78af_0\n",
            "\n",
            "\n",
            "\n",
            "Downloading and Extracting Packages\n",
            "htslib-1.9           | 1.5 MB    | : 100% 1.0/1 [00:00<00:00,  1.78it/s]\n",
            "tabix-1.11           | 6 KB      | : 100% 1.0/1 [00:00<00:00,  8.83it/s]\n",
            "Preparing transaction: / \b\bdone\n",
            "Verifying transaction: \\ \b\bdone\n",
            "Executing transaction: / \b\bdone\n",
            "Collecting package metadata (current_repodata.json): - \b\b\\ \b\b| \b\b/ \b\b- \b\b\\ \b\b| \b\b/ \b\b- \b\b\\ \b\bdone\n",
            "Solving environment: / \b\b- \b\b\\ \b\b| \b\b/ \b\bdone\n",
            "\n",
            "## Package Plan ##\n",
            "\n",
            "  environment location: /usr/local\n",
            "\n",
            "  added / updated specs:\n",
            "    - varscan\n",
            "\n",
            "\n",
            "The following packages will be downloaded:\n",
            "\n",
            "    package                    |            build\n",
            "    ---------------------------|-----------------\n",
            "    varscan-2.4.4              |       hdfd78af_1         123 KB  bioconda\n",
            "    ------------------------------------------------------------\n",
            "                                           Total:         123 KB\n",
            "\n",
            "The following NEW packages will be INSTALLED:\n",
            "\n",
            "  varscan            bioconda/noarch::varscan-2.4.4-hdfd78af_1\n",
            "\n",
            "\n",
            "\n",
            "Downloading and Extracting Packages\n",
            "varscan-2.4.4        | 123 KB    | : 100% 1.0/1 [00:00<00:00,  4.18it/s]                \n",
            "Preparing transaction: \\ \b\bdone\n",
            "Verifying transaction: / \b\bdone\n",
            "Executing transaction: \\ \b\bdone\n",
            "Collecting package metadata (current_repodata.json): - \b\b\\ \b\b| \b\b/ \b\b- \b\b\\ \b\b| \b\b/ \b\b- \b\b\\ \b\b| \b\bdone\n",
            "Solving environment: - \b\b\\ \b\b| \b\b/ \b\b- \b\b\\ \b\b| \b\b/ \b\b- \b\b\\ \b\b| \b\b/ \b\b- \b\b\\ \b\b| \b\b/ \b\b- \b\b\\ \b\b| \b\b/ \b\b- \b\b\\ \b\b| \b\b/ \b\b- \b\bfailed with initial frozen solve. Retrying with flexible solve.\n",
            "Solving environment: | \b\b/ \b\b- \b\b\\ \b\b| \b\b/ \b\b- \b\b\\ \b\b| \b\b/ \b\b- \b\b\\ \b\b| \b\b/ \b\b- \b\b\\ \b\b| \b\b/ \b\b- \b\b\\ \b\b| \b\b/ \b\b- \b\b\\ \b\b| \b\b/ \b\b- \b\b\\ \b\b| \b\b/ \b\bfailed with repodata from current_repodata.json, will retry with next repodata source.\n",
            "Collecting package metadata (repodata.json): \\ \b\b| \b\b/ \b\b- \b\b\\ \b\b| \b\b/ \b\b- \b\b\\ \b\b| \b\b/ \b\b- \b\b\\ \b\b| \b\b/ \b\b- \b\b\\ \b\b| \b\b/ \b\b- \b\b\\ \b\b| \b\b/ \b\b- \b\b\\ \b\b| \b\b/ \b\b- \b\b\\ \b\b| \b\b/ \b\b- \b\b\\ \b\b| \b\b/ \b\b- \b\b\\ \b\b| \b\b/ \b\b- \b\b\\ \b\b| \b\b/ \b\b- \b\b\\ \b\b| \b\b/ \b\b- \b\b\\ \b\b| \b\b/ \b\b- \b\b\\ \b\b| \b\b/ \b\b- \b\b\\ \b\b| \b\b/ \b\b- \b\b\\ \b\b| \b\b/ \b\b- \b\b\\ \b\b| \b\b/ \b\b- \b\b\\ \b\b| \b\b/ \b\b- \b\b\\ \b\b| \b\b/ \b\b- \b\b\\ \b\b| \b\b/ \b\b- \b\b\\ \b\b| \b\b/ \b\b- \b\b\\ \b\b| \b\b/ \b\b- \b\b\\ \b\b| \b\b/ \b\b- \b\b\\ \b\b| \b\b/ \b\bdone\n",
            "Solving environment: \\ \b\b| \b\b/ \b\b- \b\b\\ \b\b| \b\b/ \b\b- \b\b\\ \b\b| \b\b/ \b\b- \b\b\\ \b\b| \b\b/ \b\b- \b\b\\ \b\b| \b\b/ \b\b- \b\b\\ \b\b| \b\b/ \b\b- \b\b\\ \b\b| \b\b/ \b\bdone\n",
            "\n",
            "## Package Plan ##\n",
            "\n",
            "  environment location: /usr/local\n",
            "\n",
            "  added / updated specs:\n",
            "    - control-freec\n",
            "\n",
            "\n",
            "The following packages will be downloaded:\n",
            "\n",
            "    package                    |            build\n",
            "    ---------------------------|-----------------\n",
            "    _r-mutex-1.0.0             |      anacondar_1           3 KB\n",
            "    bioconductor-biobase-2.32.0|                0         1.6 MB  bioconda\n",
            "    bioconductor-biocgenerics-0.18.0|         r3.2.2_0         502 KB  bioconda\n",
            "    bioconductor-biocparallel-1.4.3|         r3.2.2_0         638 KB  bioconda\n",
            "    bioconductor-biostrings-2.38.4|                0        13.2 MB  bioconda\n",
            "    bioconductor-genomeinfodb-1.6.3|                0        18.7 MB  bioconda\n",
            "    bioconductor-genomicalignments-1.6.3|                1         1.3 MB  bioconda\n",
            "    bioconductor-genomicranges-1.22.4|                0         1.5 MB  bioconda\n",
            "    bioconductor-iranges-2.4.8 |                0         1.6 MB  bioconda\n",
            "    bioconductor-rsamtools-1.22.0|         r3.2.2_1         3.3 MB  bioconda\n",
            "    bioconductor-rtracklayer-1.30.1|                0         2.0 MB  bioconda\n",
            "    bioconductor-s4vectors-0.8.11|                0         909 KB  bioconda\n",
            "    bioconductor-summarizedexperiment-1.0.2|                1         1.3 MB  bioconda\n",
            "    bioconductor-xvector-0.10.0|                1         382 KB  bioconda\n",
            "    bioconductor-zlibbioc-1.16.0|         r3.2.2_1          14 KB  bioconda\n",
            "    cairo-1.14.12              |       h8948797_3         906 KB\n",
            "    control-freec-11.6         |       he1b5a44_0         263 KB  bioconda\n",
            "    fontconfig-2.13.0          |       h9420a91_0         227 KB\n",
            "    freetype-2.11.0            |       h70c0345_0         618 KB\n",
            "    fribidi-1.0.10             |       h7b6447c_0         103 KB\n",
            "    glib-2.63.1                |       h5a9c865_0         2.9 MB\n",
            "    graphite2-1.3.14           |       h23475e2_0          99 KB\n",
            "    gsl-2.4                    |       h14c3975_4         1.8 MB\n",
            "    harfbuzz-1.8.8             |       hffaf4a1_0         507 KB\n",
            "    icu-58.2                   |       he6710b0_3        10.5 MB\n",
            "    jpeg-9d                    |       h7f8727e_0         232 KB\n",
            "    libgcc-7.2.0               |       h69d50b8_2         269 KB\n",
            "    libpng-1.6.37              |       hbc83047_0         278 KB\n",
            "    libtiff-4.1.0              |       h2733197_0         447 KB\n",
            "    libuuid-1.0.3              |       h7f8727e_2          17 KB\n",
            "    libxcb-1.14                |       h7b6447c_0         505 KB\n",
            "    libxml2-2.9.9              |       hea5a465_1         1.6 MB\n",
            "    pango-1.42.4               |       h049681c_0         464 KB\n",
            "    pcre-8.45                  |       h295c915_0         207 KB\n",
            "    perl-5.26.2                |       h14c3975_0        10.5 MB\n",
            "    pixman-0.40.0              |       h7f8727e_1         373 KB\n",
            "    r-3.2.2                    |                0           2 KB\n",
            "    r-base-3.2.2               |                0        18.9 MB\n",
            "    r-bitops-1.0_6             |        r3.2.2_1a          21 KB\n",
            "    r-boot-1.3_17              |        r3.2.2_0a         559 KB\n",
            "    r-class-7.3_14             |        r3.2.2_0a          78 KB\n",
            "    r-cluster-2.0.3            |        r3.2.2_0a         447 KB\n",
            "    r-codetools-0.2_14         |        r3.2.2_0a          44 KB\n",
            "    r-foreign-0.8_66           |        r3.2.2_0a         199 KB\n",
            "    r-futile.logger-1.4.1      |         r3.2.2_0          83 KB  bioconda\n",
            "    r-futile.options-1.0.0     |         r3.2.2_0          16 KB  bioconda\n",
            "    r-kernsmooth-2.23_15       |        r3.2.2_0a          79 KB\n",
            "    r-lambda.r-1.1.7           |         r3.2.2_0          65 KB  bioconda\n",
            "    r-lattice-0.20_33          |        r3.2.2_0a         673 KB\n",
            "    r-mass-7.3_45              |        r3.2.2_0a         989 KB\n",
            "    r-matrix-1.2_2             |        r3.2.2_0a         2.8 MB\n",
            "    r-mgcv-1.8_9               |        r3.2.2_0a         1.8 MB\n",
            "    r-nlme-3.1_122             |        r3.2.2_0a         1.9 MB\n",
            "    r-nnet-7.3_11              |        r3.2.2_0a          93 KB\n",
            "    r-rcurl-1.95_4.7           |        r3.2.2_0a         593 KB\n",
            "    r-recommended-3.2.2        |         r3.2.2_0           1 KB\n",
            "    r-rpart-4.1_10             |        r3.2.2_0a         830 KB\n",
            "    r-snow-0.4_1               |         r3.2.2_0          62 KB  bioconda\n",
            "    r-spatial-7.3_11           |        r3.2.2_0a         117 KB\n",
            "    r-survival-2.38_3          |        r3.2.2_0a         4.2 MB\n",
            "    r-xml-3.98_1.3             |        r3.2.2_0a         1.6 MB\n",
            "    zstd-1.3.7                 |       h0b5b093_0         401 KB\n",
            "    ------------------------------------------------------------\n",
            "                                           Total:       115.7 MB\n",
            "\n",
            "The following NEW packages will be INSTALLED:\n",
            "\n",
            "  _r-mutex           pkgs/r/linux-64::_r-mutex-1.0.0-anacondar_1\n",
            "  bioconductor-biob~ bioconda/linux-64::bioconductor-biobase-2.32.0-0\n",
            "  bioconductor-bioc~ bioconda/linux-64::bioconductor-biocgenerics-0.18.0-r3.2.2_0\n",
            "  bioconductor-bioc~ bioconda/linux-64::bioconductor-biocparallel-1.4.3-r3.2.2_0\n",
            "  bioconductor-bios~ bioconda/linux-64::bioconductor-biostrings-2.38.4-0\n",
            "  bioconductor-geno~ bioconda/linux-64::bioconductor-genomeinfodb-1.6.3-0\n",
            "  bioconductor-geno~ bioconda/linux-64::bioconductor-genomicalignments-1.6.3-1\n",
            "  bioconductor-geno~ bioconda/linux-64::bioconductor-genomicranges-1.22.4-0\n",
            "  bioconductor-iran~ bioconda/linux-64::bioconductor-iranges-2.4.8-0\n",
            "  bioconductor-rsam~ bioconda/linux-64::bioconductor-rsamtools-1.22.0-r3.2.2_1\n",
            "  bioconductor-rtra~ bioconda/linux-64::bioconductor-rtracklayer-1.30.1-0\n",
            "  bioconductor-s4ve~ bioconda/linux-64::bioconductor-s4vectors-0.8.11-0\n",
            "  bioconductor-summ~ bioconda/linux-64::bioconductor-summarizedexperiment-1.0.2-1\n",
            "  bioconductor-xvec~ bioconda/linux-64::bioconductor-xvector-0.10.0-1\n",
            "  bioconductor-zlib~ bioconda/linux-64::bioconductor-zlibbioc-1.16.0-r3.2.2_1\n",
            "  cairo              pkgs/main/linux-64::cairo-1.14.12-h8948797_3\n",
            "  control-freec      bioconda/linux-64::control-freec-11.6-he1b5a44_0\n",
            "  fontconfig         pkgs/main/linux-64::fontconfig-2.13.0-h9420a91_0\n",
            "  freetype           pkgs/main/linux-64::freetype-2.11.0-h70c0345_0\n",
            "  fribidi            pkgs/main/linux-64::fribidi-1.0.10-h7b6447c_0\n",
            "  glib               pkgs/main/linux-64::glib-2.63.1-h5a9c865_0\n",
            "  graphite2          pkgs/main/linux-64::graphite2-1.3.14-h23475e2_0\n",
            "  gsl                pkgs/main/linux-64::gsl-2.4-h14c3975_4\n",
            "  harfbuzz           pkgs/main/linux-64::harfbuzz-1.8.8-hffaf4a1_0\n",
            "  icu                pkgs/main/linux-64::icu-58.2-he6710b0_3\n",
            "  jpeg               pkgs/main/linux-64::jpeg-9d-h7f8727e_0\n",
            "  libgcc             pkgs/main/linux-64::libgcc-7.2.0-h69d50b8_2\n",
            "  libpng             pkgs/main/linux-64::libpng-1.6.37-hbc83047_0\n",
            "  libtiff            pkgs/main/linux-64::libtiff-4.1.0-h2733197_0\n",
            "  libuuid            pkgs/main/linux-64::libuuid-1.0.3-h7f8727e_2\n",
            "  libxcb             pkgs/main/linux-64::libxcb-1.14-h7b6447c_0\n",
            "  libxml2            pkgs/main/linux-64::libxml2-2.9.9-hea5a465_1\n",
            "  pango              pkgs/main/linux-64::pango-1.42.4-h049681c_0\n",
            "  pcre               pkgs/main/linux-64::pcre-8.45-h295c915_0\n",
            "  perl               pkgs/main/linux-64::perl-5.26.2-h14c3975_0\n",
            "  pixman             pkgs/main/linux-64::pixman-0.40.0-h7f8727e_1\n",
            "  r                  pkgs/r/linux-64::r-3.2.2-0\n",
            "  r-base             pkgs/r/linux-64::r-base-3.2.2-0\n",
            "  r-bitops           pkgs/r/linux-64::r-bitops-1.0_6-r3.2.2_1a\n",
            "  r-boot             pkgs/r/linux-64::r-boot-1.3_17-r3.2.2_0a\n",
            "  r-class            pkgs/r/linux-64::r-class-7.3_14-r3.2.2_0a\n",
            "  r-cluster          pkgs/r/linux-64::r-cluster-2.0.3-r3.2.2_0a\n",
            "  r-codetools        pkgs/r/linux-64::r-codetools-0.2_14-r3.2.2_0a\n",
            "  r-foreign          pkgs/r/linux-64::r-foreign-0.8_66-r3.2.2_0a\n",
            "  r-futile.logger    bioconda/linux-64::r-futile.logger-1.4.1-r3.2.2_0\n",
            "  r-futile.options   bioconda/linux-64::r-futile.options-1.0.0-r3.2.2_0\n",
            "  r-kernsmooth       pkgs/r/linux-64::r-kernsmooth-2.23_15-r3.2.2_0a\n",
            "  r-lambda.r         bioconda/linux-64::r-lambda.r-1.1.7-r3.2.2_0\n",
            "  r-lattice          pkgs/r/linux-64::r-lattice-0.20_33-r3.2.2_0a\n",
            "  r-mass             pkgs/r/linux-64::r-mass-7.3_45-r3.2.2_0a\n",
            "  r-matrix           pkgs/r/linux-64::r-matrix-1.2_2-r3.2.2_0a\n",
            "  r-mgcv             pkgs/r/linux-64::r-mgcv-1.8_9-r3.2.2_0a\n",
            "  r-nlme             pkgs/r/linux-64::r-nlme-3.1_122-r3.2.2_0a\n",
            "  r-nnet             pkgs/r/linux-64::r-nnet-7.3_11-r3.2.2_0a\n",
            "  r-rcurl            pkgs/r/linux-64::r-rcurl-1.95_4.7-r3.2.2_0a\n",
            "  r-recommended      pkgs/r/linux-64::r-recommended-3.2.2-r3.2.2_0\n",
            "  r-rpart            pkgs/r/linux-64::r-rpart-4.1_10-r3.2.2_0a\n",
            "  r-snow             bioconda/linux-64::r-snow-0.4_1-r3.2.2_0\n",
            "  r-spatial          pkgs/r/linux-64::r-spatial-7.3_11-r3.2.2_0a\n",
            "  r-survival         pkgs/r/linux-64::r-survival-2.38_3-r3.2.2_0a\n",
            "  r-xml              pkgs/r/linux-64::r-xml-3.98_1.3-r3.2.2_0a\n",
            "  zstd               pkgs/main/linux-64::zstd-1.3.7-h0b5b093_0\n",
            "\n",
            "\n",
            "\n",
            "Downloading and Extracting Packages\n",
            "bioconductor-s4vecto | 909 KB    | : 100% 1.0/1 [00:00<00:00,  5.17it/s]                \n",
            "r-futile.options-1.0 | 16 KB     | : 100% 1.0/1 [00:00<00:00,  8.54it/s]\n",
            "bioconductor-genomic | 1.3 MB    | : 100% 1.0/1 [00:00<00:00,  2.99it/s]\n",
            "r-nnet-7.3_11        | 93 KB     | : 100% 1.0/1 [00:00<00:00,  5.31it/s]                \n",
            "r-base-3.2.2         | 18.9 MB   | : 100% 1.0/1 [00:00<00:00,  1.45it/s]               \n",
            "gsl-2.4              | 1.8 MB    | : 100% 1.0/1 [00:00<00:00,  8.47it/s]\n",
            "bioconductor-biobase | 1.6 MB    | : 100% 1.0/1 [00:00<00:00,  4.98it/s]\n",
            "bioconductor-rsamtoo | 3.3 MB    | : 100% 1.0/1 [00:00<00:00,  1.56it/s]\n",
            "r-mass-7.3_45        | 989 KB    | : 100% 1.0/1 [00:00<00:00,  5.85it/s]                \n",
            "r-boot-1.3_17        | 559 KB    | : 100% 1.0/1 [00:00<00:00,  4.52it/s]                 \n",
            "bioconductor-biocpar | 638 KB    | : 100% 1.0/1 [00:00<00:00, 10.59it/s]\n",
            "r-class-7.3_14       | 78 KB     | : 100% 1.0/1 [00:00<00:00,  7.28it/s]                \n",
            "r-xml-3.98_1.3       | 1.6 MB    | : 100% 1.0/1 [00:00<00:00,  2.15it/s]\n",
            "control-freec-11.6   | 263 KB    | : 100% 1.0/1 [00:00<00:00,  3.32it/s]                 \n",
            "libxcb-1.14          | 505 KB    | : 100% 1.0/1 [00:00<00:00, 12.36it/s]\n",
            "glib-2.63.1          | 2.9 MB    | : 100% 1.0/1 [00:00<00:00,  6.54it/s]\n",
            "jpeg-9d              | 232 KB    | : 100% 1.0/1 [00:00<00:00, 15.83it/s]\n",
            "pixman-0.40.0        | 373 KB    | : 100% 1.0/1 [00:00<00:00, 13.54it/s]\n",
            "fontconfig-2.13.0    | 227 KB    | : 100% 1.0/1 [00:00<00:00, 14.56it/s]\n",
            "r-foreign-0.8_66     | 199 KB    | : 100% 1.0/1 [00:00<00:00,  6.03it/s]                \n",
            "r-nlme-3.1_122       | 1.9 MB    | : 100% 1.0/1 [00:00<00:00,  3.14it/s]\n",
            "bioconductor-biocgen | 502 KB    | : 100% 1.0/1 [00:00<00:00,  5.58it/s]                \n",
            "harfbuzz-1.8.8       | 507 KB    | : 100% 1.0/1 [00:00<00:00, 12.87it/s]\n",
            "r-lambda.r-1.1.7     | 65 KB     | : 100% 1.0/1 [00:00<00:00,  7.02it/s]                \n",
            "libuuid-1.0.3        | 17 KB     | : 100% 1.0/1 [00:00<00:00, 16.38it/s]\n",
            "r-rpart-4.1_10       | 830 KB    | : 100% 1.0/1 [00:00<00:00,  5.32it/s]                 \n",
            "pango-1.42.4         | 464 KB    | : 100% 1.0/1 [00:00<00:00, 13.36it/s]\n",
            "bioconductor-xvector | 382 KB    | : 100% 1.0/1 [00:00<00:00,  4.86it/s]                \n",
            "bioconductor-biostri | 13.2 MB   | : 100% 1.0/1 [00:01<00:00,  1.60s/it]\n",
            "bioconductor-summari | 1.3 MB    | : 100% 1.0/1 [00:00<00:00,  1.88it/s]               \n",
            "zstd-1.3.7           | 401 KB    | : 100% 1.0/1 [00:00<00:00, 13.39it/s]\n",
            "r-survival-2.38_3    | 4.2 MB    | : 100% 1.0/1 [00:00<00:00,  7.38it/s]\n",
            "r-rcurl-1.95_4.7     | 593 KB    | : 100% 1.0/1 [00:00<00:00,  2.83it/s]                \n",
            "libgcc-7.2.0         | 269 KB    | : 100% 1.0/1 [00:00<00:00, 15.83it/s]\n",
            "r-bitops-1.0_6       | 21 KB     | : 100% 1.0/1 [00:00<00:00,  7.01it/s]               \n",
            "r-3.2.2              | 2 KB      | : 100% 1.0/1 [00:00<00:00,  6.82it/s]\n",
            "r-spatial-7.3_11     | 117 KB    | : 100% 1.0/1 [00:00<00:00,  7.14it/s]               \n",
            "r-snow-0.4_1         | 62 KB     | : 100% 1.0/1 [00:00<00:00,  7.00it/s]               \n",
            "bioconductor-rtrackl | 2.0 MB    | : 100% 1.0/1 [00:00<00:00,  2.74it/s]\n",
            "_r-mutex-1.0.0       | 3 KB      | : 100% 1.0/1 [00:00<00:00, 18.15it/s]\n",
            "r-cluster-2.0.3      | 447 KB    | : 100% 1.0/1 [00:00<00:00,  3.50it/s]               \n",
            "perl-5.26.2          | 10.5 MB   | : 100% 1.0/1 [00:00<00:00,  1.96it/s]\n",
            "icu-58.2             | 10.5 MB   | : 100% 1.0/1 [00:00<00:00,  2.76it/s]\n",
            "graphite2-1.3.14     | 99 KB     | : 100% 1.0/1 [00:00<00:00, 16.53it/s]\n",
            "r-codetools-0.2_14   | 44 KB     | : 100% 1.0/1 [00:00<00:00, 16.28it/s]\n",
            "r-futile.logger-1.4. | 83 KB     | : 100% 1.0/1 [00:00<00:00, 27.29it/s]\n",
            "r-mgcv-1.8_9         | 1.8 MB    | : 100% 1.0/1 [00:00<00:00, 11.62it/s]\n",
            "r-matrix-1.2_2       | 2.8 MB    | : 100% 1.0/1 [00:00<00:00,  1.94it/s]\n",
            "bioconductor-genomic | 1.5 MB    | : 100% 1.0/1 [00:00<00:00,  1.99it/s]\n",
            "r-recommended-3.2.2  | 1 KB      | : 100% 1.0/1 [00:00<00:00,  7.33it/s]\n",
            "r-lattice-0.20_33    | 673 KB    | : 100% 1.0/1 [00:00<00:00,  6.07it/s]               \n",
            "bioconductor-genomei | 18.7 MB   | : 100% 1.0/1 [00:02<00:00,  2.38s/it]               \n",
            "freetype-2.11.0      | 618 KB    | : 100% 1.0/1 [00:00<00:00, 14.11it/s]\n",
            "bioconductor-iranges | 1.6 MB    | : 100% 1.0/1 [00:00<00:00,  3.16it/s]\n",
            "pcre-8.45            | 207 KB    | : 100% 1.0/1 [00:00<00:00, 16.98it/s]\n",
            "libpng-1.6.37        | 278 KB    | : 100% 1.0/1 [00:00<00:00, 13.65it/s]\n",
            "fribidi-1.0.10       | 103 KB    | : 100% 1.0/1 [00:00<00:00, 17.47it/s]\n",
            "cairo-1.14.12        | 906 KB    | : 100% 1.0/1 [00:00<00:00, 12.22it/s]\n",
            "r-kernsmooth-2.23_15 | 79 KB     | : 100% 1.0/1 [00:00<00:00,  6.73it/s]               \n",
            "libtiff-4.1.0        | 447 KB    | : 100% 1.0/1 [00:00<00:00, 15.55it/s]\n",
            "libxml2-2.9.9        | 1.6 MB    | : 100% 1.0/1 [00:00<00:00,  8.84it/s]\n",
            "bioconductor-zlibbio | 14 KB     | : 100% 1.0/1 [00:00<00:00,  8.49it/s]\n",
            "Preparing transaction: \\ \b\b| \b\b/ \b\b- \b\bdone\n",
            "Verifying transaction: | \b\b/ \b\b- \b\b\\ \b\b| \b\b/ \b\b- \b\b\\ \b\bdone\n",
            "Executing transaction: / \b\b- \b\b\\ \b\b| \b\b/ \b\b- \b\b\\ \b\bdone\n",
            "Collecting package metadata (current_repodata.json): - \b\b\\ \b\b| \b\b/ \b\b- \b\b\\ \b\b| \b\b/ \b\b- \b\b\\ \b\b| \b\b/ \b\bdone\n",
            "Solving environment: \\ \b\b| \b\b/ \b\b- \b\b\\ \b\b| \b\b/ \b\b- \b\b\\ \b\b| \b\b/ \b\b- \b\b\\ \b\b| \b\b/ \b\b- \b\b\\ \b\b| \b\b/ \b\b- \b\b\\ \b\b| \b\b/ \b\b- \b\b\\ \b\b| \b\bdone\n",
            "\n",
            "## Package Plan ##\n",
            "\n",
            "  environment location: /usr/local\n",
            "\n",
            "  added / updated specs:\n",
            "    - bedtools\n",
            "\n",
            "\n",
            "The following packages will be downloaded:\n",
            "\n",
            "    package                    |            build\n",
            "    ---------------------------|-----------------\n",
            "    bedtools-2.26.0            |                0         739 KB  bioconda\n",
            "    ------------------------------------------------------------\n",
            "                                           Total:         739 KB\n",
            "\n",
            "The following NEW packages will be INSTALLED:\n",
            "\n",
            "  bedtools           bioconda/linux-64::bedtools-2.26.0-0\n",
            "\n",
            "\n",
            "\n",
            "Downloading and Extracting Packages\n",
            "bedtools-2.26.0      | 739 KB    | : 100% 1.0/1 [00:00<00:00,  3.28it/s]\n",
            "Preparing transaction: - \b\bdone\n",
            "Verifying transaction: | \b\bdone\n",
            "Executing transaction: - \b\bdone\n"
          ]
        }
      ]
    },
    {
      "cell_type": "markdown",
      "source": [
        "# Running Mutect2\n",
        "Short Variant Discovery"
      ],
      "metadata": {
        "id": "q8gbA5t4X7e7"
      }
    },
    {
      "cell_type": "code",
      "source": [
        "%%bash\n",
        "cd /content/drive/MyDrive/Work/13_CancerAnalysisCourse/labs/Module4_SomaticVariants\n",
        "\n",
        "gatk Mutect2 \\\n",
        "  -R references/human_g1k_v37.fasta \\\n",
        "  -I alignments/normal/normal.sorted.dup.recal.bam \\\n",
        "  -I alignments/tumor/tumor.sorted.dup.recal.bam \\\n",
        "  -normal normal \\\n",
        "  -tumor tumor \\\n",
        "  -O pairedVariants_mutect2.vcf \\\n",
        "  -L 9:130215000-130636000 \\\n",
        "  --germline-resource accessory_files/Homo_sapiens.GRCh37.gnomad.exomes.r2.0.1.sites.no-VEP.nohist.tidy.vcf.gz"
      ],
      "metadata": {
        "id": "WPCa5nCDX5SO"
      },
      "execution_count": null,
      "outputs": []
    },
    {
      "cell_type": "markdown",
      "source": [
        "Check input bam file"
      ],
      "metadata": {
        "id": "X-VwZT5oLCTW"
      }
    },
    {
      "cell_type": "code",
      "source": [
        "%%bash\n",
        "cd /content/drive/MyDrive/Work/13_CancerAnalysisCourse/labs/Module4_SomaticVariants\n",
        "samtools view alignments/tumor/tumor.sorted.dup.recal.bam | head -n 1 | less -S\n"
      ],
      "metadata": {
        "colab": {
          "base_uri": "https://localhost:8080/"
        },
        "id": "vXtVCze3KZkA",
        "outputId": "5899dfb5-e0c7-479b-bb48-79e944b8ab97"
      },
      "execution_count": null,
      "outputs": [
        {
          "output_type": "stream",
          "name": "stdout",
          "text": [
            "GA13-EAS1663_0010_FC:8:103:3239:19652#0\t177\t1\t1584600\t25\t67M\t2\t98074146\t0\tAGCTGGGATTACAGGCATGCGCCACCACACCCGGCTAATTTTTTTATTTTTAGTAGAGACGGGGTTT\t???>???=>>>=?@?@?:??@?@@@@@@@@AAACACA@CCCAACC@CCACACA@@@@CCAACCCCCC\tXA:Z:2,-65308958,44M2D23M,2;\tMC:Z:70M\tMD:Z:67\tPG:Z:MarkDuplicates\tRG:Z:tumor_62JREAAXX_8\tNM:i:0\tAS:i:67\tXS:i:59\n"
          ]
        }
      ]
    },
    {
      "cell_type": "markdown",
      "source": [
        "Check initial variant call from Mutect2"
      ],
      "metadata": {
        "id": "uugvzr7CLKYu"
      }
    },
    {
      "cell_type": "code",
      "source": [
        "%%bash\n",
        "cd /content/drive/MyDrive/Work/13_CancerAnalysisCourse/labs/Module4_SomaticVariants\n",
        "\n",
        "less pairedVariants_mutect2.vcf | egrep '##' | less -S"
      ],
      "metadata": {
        "id": "qJ5keIVqLOzW"
      },
      "execution_count": null,
      "outputs": []
    },
    {
      "cell_type": "markdown",
      "source": [
        "pairedVariants_mutec2 contains no filter information. Filter information comes from each variant and generates tags."
      ],
      "metadata": {
        "id": "JZqX4kYyLpIK"
      }
    },
    {
      "cell_type": "markdown",
      "source": [
        "## Filtering"
      ],
      "metadata": {
        "id": "c_ndXtHYOqnz"
      }
    },
    {
      "cell_type": "code",
      "source": [
        "%%bash\n",
        "cd /content/drive/MyDrive/Work/13_CancerAnalysisCourse/labs/Module4_SomaticVariants\n",
        "\n",
        "gatk FilterMutectCalls \\\n",
        "-R references/human_g1k_v37.fasta \\\n",
        "--filtering-stats pairedVariants_mutect2.vcf.stats \\\n",
        "-V pairedVariants_mutect2.vcf \\\n",
        "-O pairedVariants_mutect2_filtered.vcf"
      ],
      "metadata": {
        "id": "b2DaTXtDL0eW"
      },
      "execution_count": null,
      "outputs": []
    },
    {
      "cell_type": "markdown",
      "source": [
        "Check filtered results"
      ],
      "metadata": {
        "id": "VM0f8b06OmgL"
      }
    },
    {
      "cell_type": "code",
      "source": [
        "%%bash\n",
        "cd /content/drive/MyDrive/Work/13_CancerAnalysisCourse/labs/Module4_SomaticVariants\n",
        "\n",
        "less -S pairedVariants_mutect2_filtered.vcf | egrep -v '#' | less -S"
      ],
      "metadata": {
        "id": "tPlbR4rjNz3Q"
      },
      "execution_count": null,
      "outputs": []
    },
    {
      "cell_type": "markdown",
      "source": [
        "Since we are comparing different methods, we want to make sure to consider all sites. Hence we will split multiallelic variants into separate variants. Moreover, we will make sure everything is left-aligned."
      ],
      "metadata": {
        "id": "NuHPgcFwPbje"
      }
    },
    {
      "cell_type": "code",
      "source": [
        "# splitting multiallelic variants\n",
        "%%bash\n",
        "cd /content/drive/MyDrive/Work/13_CancerAnalysisCourse/labs/Module4_SomaticVariants\n",
        "\n",
        "bcftools norm \\\n",
        "-m-both \\\n",
        "-f references/human_g1k_v37.fasta \\\n",
        "-Oz \\\n",
        "-o pairedVariants_mutect2_filtered_normalized.vcf.gz pairedVariants_mutect2_filtered.vcf\n"
      ],
      "metadata": {
        "colab": {
          "base_uri": "https://localhost:8080/"
        },
        "id": "qr6xZlO6Pusv",
        "outputId": "2aa4a417-b86d-46f1-e52a-d285ecd54443"
      },
      "execution_count": null,
      "outputs": [
        {
          "output_type": "stream",
          "name": "stderr",
          "text": [
            "Lines   total/split/realigned/skipped:\t114/4/5/0\n"
          ]
        }
      ]
    },
    {
      "cell_type": "code",
      "source": [
        "# aligning left\n",
        "%%bash\n",
        "cd /content/drive/MyDrive/Work/13_CancerAnalysisCourse/labs/Module4_SomaticVariants\n",
        "\n",
        "tabix pairedVariants_mutect2_filtered_normalized.vcf.gz "
      ],
      "metadata": {
        "colab": {
          "base_uri": "https://localhost:8080/"
        },
        "id": "uqvjzRM1QfIW",
        "outputId": "fde308b0-afd6-4274-e0de-d0ad2c6244a1"
      },
      "execution_count": null,
      "outputs": [
        {
          "output_type": "stream",
          "name": "stderr",
          "text": [
            "[tabix] the index file exists. Please use '-f' to overwrite.\n"
          ]
        }
      ]
    },
    {
      "cell_type": "markdown",
      "source": [
        "# Running varscan2\n",
        "Another method to call somatic variants is varscan2."
      ],
      "metadata": {
        "id": "Xa1jtCS2RJF2"
      }
    },
    {
      "cell_type": "markdown",
      "source": [
        "Create pileup for bam files"
      ],
      "metadata": {
        "id": "iKIXRKrwRT-g"
      }
    },
    {
      "cell_type": "code",
      "source": [
        "%%bash\n",
        "cd /content/drive/MyDrive/Work/13_CancerAnalysisCourse/labs/Module4_SomaticVariants\n",
        "\n",
        "samtools mpileup \\\n",
        "-B \\\n",
        "-q 1 \\\n",
        "-f references/human_g1k_v37.fasta \\\n",
        "-r 9:130215000-130636000 \\\n",
        "alignments/tumor/tumor.sorted.realigned.bam > tumor.mpileup\n",
        "\n",
        "samtools mpileup \\\n",
        "-B \\\n",
        "-q 1 \\\n",
        "-f references/human_g1k_v37.fasta \\\n",
        "-r 9:130215000-130636000 \\\n",
        "alignments/normal/normal.sorted.realigned.bam > normal.mpileup"
      ],
      "metadata": {
        "colab": {
          "base_uri": "https://localhost:8080/"
        },
        "id": "eDrAfLHVRX9h",
        "outputId": "624ffc86-b175-42c3-bcfe-7a105e639106"
      },
      "execution_count": null,
      "outputs": [
        {
          "output_type": "stream",
          "name": "stderr",
          "text": [
            "[W::hts_idx_load2] The index file is older than the data file: alignments/tumor/tumor.sorted.realigned.bai\n",
            "[mpileup] 1 samples in 1 input files\n",
            "<mpileup> Set max per-file depth to 8000\n",
            "[W::hts_idx_load2] The index file is older than the data file: alignments/normal/normal.sorted.realigned.bai\n",
            "[mpileup] 1 samples in 1 input files\n",
            "<mpileup> Set max per-file depth to 8000\n"
          ]
        }
      ]
    },
    {
      "cell_type": "markdown",
      "source": [
        "Check pileup file"
      ],
      "metadata": {
        "id": "EKet12lxShM4"
      }
    },
    {
      "cell_type": "code",
      "source": [
        "%%bash\n",
        "cd /content/drive/MyDrive/Work/13_CancerAnalysisCourse/labs/Module4_SomaticVariants\n",
        "\n",
        "less -S normal.mpileup"
      ],
      "metadata": {
        "id": "Xgr5g40LSeDA"
      },
      "execution_count": null,
      "outputs": []
    },
    {
      "cell_type": "markdown",
      "source": [
        "Run varscan2"
      ],
      "metadata": {
        "id": "OWtMEFfOTQp3"
      }
    },
    {
      "cell_type": "code",
      "source": [
        "%%bash\n",
        "cd /content/drive/MyDrive/Work/13_CancerAnalysisCourse/labs/Module4_SomaticVariants\n",
        "\n",
        "varscan \\\n",
        "somatic normal.mpileup tumor.mpileup \\\n",
        "--output-vcf 1 \\\n",
        "--strand-filter 1 \\\n",
        "--somatic-p-value 0.05 \\\n",
        "--output-snp varscan2.snp.vcf \\\n",
        "--output-indel varscan2.indel.vcf"
      ],
      "metadata": {
        "id": "dI06gxBTTSg9"
      },
      "execution_count": null,
      "outputs": []
    },
    {
      "cell_type": "markdown",
      "source": [
        "Check results"
      ],
      "metadata": {
        "id": "S76NMPNqa5Kx"
      }
    },
    {
      "cell_type": "code",
      "source": [
        "%%bash\n",
        "cd /content/drive/MyDrive/Work/13_CancerAnalysisCourse/labs/Module4_SomaticVariants\n",
        "\n",
        "less -S varscan2.snp.vcf "
      ],
      "metadata": {
        "id": "VEKqEDcTa0pi"
      },
      "execution_count": null,
      "outputs": []
    },
    {
      "cell_type": "markdown",
      "source": [
        "Set minimum variant allele frequency to 0.05%. Resulting 'hc' files are 'high-confidence'."
      ],
      "metadata": {
        "id": "1MD3QcigbcZx"
      }
    },
    {
      "cell_type": "code",
      "source": [
        "%%bash\n",
        "cd /content/drive/MyDrive/Work/13_CancerAnalysisCourse/labs/Module4_SomaticVariants\n",
        "\n",
        "varscan processSomatic varscan2.indel.vcf --min-tumor-freq 0.05\n",
        "varscan processSomatic varscan2.snp.vcf --min-tumor-freq 0.05"
      ],
      "metadata": {
        "colab": {
          "base_uri": "https://localhost:8080/"
        },
        "id": "MK3jDlBWbidl",
        "outputId": "5d078757-5857-4b53-a8b2-94ab135306b8"
      },
      "execution_count": null,
      "outputs": [
        {
          "output_type": "stream",
          "name": "stdout",
          "text": [
            "79 VarScan calls processed\n",
            "3 were Somatic (1 high confidence)\n",
            "75 were Germline (73 high confidence)\n",
            "1 were LOH (1 high confidence)\n",
            "447 VarScan calls processed\n",
            "14 were Somatic (13 high confidence)\n",
            "426 were Germline (411 high confidence)\n",
            "7 were LOH (7 high confidence)\n"
          ]
        },
        {
          "output_type": "stream",
          "name": "stderr",
          "text": [
            "Reading input from varscan2.indel.vcf\n",
            "Opening output files: varscan2.indel.Somatic.vcf varscan2.indel.Germline.vcf varscan2.indel.LOH.vcf \n",
            "Reading input from varscan2.snp.vcf\n",
            "Opening output files: varscan2.snp.Somatic.vcf varscan2.snp.Germline.vcf varscan2.snp.LOH.vcf \n"
          ]
        }
      ]
    },
    {
      "cell_type": "markdown",
      "source": [
        "Zip, index, and combine high confidence variants from snps and indels"
      ],
      "metadata": {
        "id": "anan_7uBcq7S"
      }
    },
    {
      "cell_type": "code",
      "source": [
        "%%bash\n",
        "cd /content/drive/MyDrive/Work/13_CancerAnalysisCourse/labs/Module4_SomaticVariants\n",
        "\n",
        "bgzip varscan2.snp.Somatic.hc.vcf\n",
        "tabix varscan2.snp.Somatic.hc.vcf.gz\n",
        "\n",
        "bgzip varscan2.indel.Somatic.hc.vcf\n",
        "tabix varscan2.indel.Somatic.hc.vcf.gz\n",
        "\n",
        "bcftools concat \\\n",
        "-Oz \\\n",
        "-a \\\n",
        "-r 9:130215000-130636000 \\\n",
        "varscan2.snp.Somatic.hc.vcf.gz varscan2.indel.Somatic.hc.vcf.gz \\\n",
        "-o pairedVariants_varscan2_filtered.vcf.gz"
      ],
      "metadata": {
        "id": "lJW9Tz_BcxKw"
      },
      "execution_count": null,
      "outputs": []
    },
    {
      "cell_type": "markdown",
      "source": [
        "Normalize (as done for mutatec2)"
      ],
      "metadata": {
        "id": "HmKBUrqnc_1Z"
      }
    },
    {
      "cell_type": "code",
      "source": [
        "%%bash\n",
        "cd /content/drive/MyDrive/Work/13_CancerAnalysisCourse/labs/Module4_SomaticVariants\n",
        "\n",
        "bcftools norm \\\n",
        "-m-both \\\n",
        "-f references/human_g1k_v37.fasta \\\n",
        "-Oz \\\n",
        "-o pairedVariants_varscan2_filtered_normalized.vcf.gz pairedVariants_varscan2_filtered.vcf.gz\n",
        "\n",
        "tabix pairedVariants_varscan2_filtered_normalized.vcf.gz"
      ],
      "metadata": {
        "colab": {
          "base_uri": "https://localhost:8080/"
        },
        "id": "uOYSYX4hdEjX",
        "outputId": "88163b3e-3c35-4143-db18-95b2fd75f62f"
      },
      "execution_count": null,
      "outputs": [
        {
          "output_type": "stream",
          "name": "stderr",
          "text": [
            "Lines   total/split/realigned/skipped:\t14/0/0/0\n"
          ]
        }
      ]
    },
    {
      "cell_type": "markdown",
      "source": [
        "# Compare variant callers"
      ],
      "metadata": {
        "id": "cjmBJFk3dasE"
      }
    },
    {
      "cell_type": "markdown",
      "source": [
        "Combine output of both variant callers"
      ],
      "metadata": {
        "id": "XzT1T6JIdea0"
      }
    },
    {
      "cell_type": "code",
      "source": [
        "%%bash\n",
        "cd /content/drive/MyDrive/Work/13_CancerAnalysisCourse/labs/Module4_SomaticVariants\n",
        "\n",
        "bcftools isec \\\n",
        "-n+1 \\\n",
        "-f PASS \\\n",
        "-p intersectionDirectory pairedVariants_mutect2_filtered_normalized.vcf.gz pairedVariants_varscan2_filtered_normalized.vcf.gz"
      ],
      "metadata": {
        "id": "3TGG9jYZdgpe"
      },
      "execution_count": null,
      "outputs": []
    },
    {
      "cell_type": "markdown",
      "source": [
        "Check Results"
      ],
      "metadata": {
        "id": "_yvih9G-ezR-"
      }
    },
    {
      "cell_type": "code",
      "source": [
        "%%bash\n",
        "cd /content/drive/MyDrive/Work/13_CancerAnalysisCourse/labs/Module4_SomaticVariants/intersectionDirectory/\n",
        "\n",
        "less -S sites.txt"
      ],
      "metadata": {
        "colab": {
          "base_uri": "https://localhost:8080/"
        },
        "id": "XcnS1NzZe0jx",
        "outputId": "e5212174-c99b-4b65-a994-acaac1c37bf3"
      },
      "execution_count": null,
      "outputs": [
        {
          "output_type": "stream",
          "name": "stdout",
          "text": [
            "9\t130223126\tC\tT\t01\n",
            "9\t130244419\tCTTT\tC\t10\n",
            "9\t130264057\tT\tA\t11\n",
            "9\t130296899\tA\tT\t11\n",
            "9\t130308743\tC\tA\t11\n",
            "9\t130308789\tC\tT\t11\n",
            "9\t130310160\tC\tT\t11\n",
            "9\t130310330\tC\tG\t11\n",
            "9\t130316821\tC\tT\t01\n",
            "9\t130337805\tCT\tC\t01\n",
            "9\t130505445\tG\tGGCAGGGGCTGCGTCTTTCTAGTGAGTTCC\t10\n",
            "9\t130602324\tC\tA\t11\n",
            "9\t130633690\tC\tT\t11\n",
            "9\t130634110\tC\tT\t11\n",
            "9\t130634993\tC\tT\t10\n",
            "9\t130635011\tC\tG\t10\n",
            "9\t130635494\tC\tT\t11\n",
            "9\t130635520\tC\tG\t11\n",
            "9\t130635680\tT\tTGTAGAGGGAAGAAGGAA\t10\n",
            "9\t130635681\tC\tCCAGGAAGATGGCTGGATAGT\t10\n"
          ]
        }
      ]
    },
    {
      "cell_type": "markdown",
      "source": [
        "Check summary results"
      ],
      "metadata": {
        "id": "1uiGXCJlfFPk"
      }
    },
    {
      "cell_type": "code",
      "source": [
        "%%bash\n",
        "cd /content/drive/MyDrive/Work/13_CancerAnalysisCourse/labs/Module4_SomaticVariants/intersectionDirectory/\n",
        "\n",
        "less -S sites.txt | cut -f  5 | sort | uniq -c "
      ],
      "metadata": {
        "colab": {
          "base_uri": "https://localhost:8080/"
        },
        "id": "64EUtmt4fIFc",
        "outputId": "4469e723-98b9-498c-d58b-999e211e0218"
      },
      "execution_count": null,
      "outputs": [
        {
          "output_type": "stream",
          "name": "stdout",
          "text": [
            "      3 01\n",
            "      6 10\n",
            "     11 11\n"
          ]
        }
      ]
    },
    {
      "cell_type": "markdown",
      "source": [
        "These results indicate, that varscan has 3 unique variants, muteect2 has 6 unique variants and 11 variants are shared."
      ],
      "metadata": {
        "id": "RZ15NopQfM50"
      }
    },
    {
      "cell_type": "markdown",
      "source": [
        "Merge both vcf files"
      ],
      "metadata": {
        "id": "x7WhyjGBfhIU"
      }
    },
    {
      "cell_type": "code",
      "source": [
        "%%bash\n",
        "cd /content/drive/MyDrive/Work/13_CancerAnalysisCourse/labs/Module4_SomaticVariants\n",
        "\n",
        "bcftools merge \\\n",
        "-f PASS \\\n",
        "pairedVariants_mutect2_filtered_normalized.vcf.gz pairedVariants_varscan2_filtered_normalized.vcf.gz \\\n",
        "-o pairedVariants_mutect2_varscan2.vcf.gz \\\n",
        "-Oz"
      ],
      "metadata": {
        "colab": {
          "base_uri": "https://localhost:8080/"
        },
        "id": "P707cdGqfkNg",
        "outputId": "75198154-0bfe-4722-d453-4ed8d39ca483"
      },
      "execution_count": null,
      "outputs": [
        {
          "output_type": "stream",
          "name": "stderr",
          "text": [
            "[W::bcf_hdr_merge] Trying to combine \"AD\" tag definitions of different lengths\n"
          ]
        }
      ]
    },
    {
      "cell_type": "markdown",
      "source": [
        "Check combined file"
      ],
      "metadata": {
        "id": "SFu-NKUWf4nw"
      }
    },
    {
      "cell_type": "code",
      "source": [
        "%%bash\n",
        "cd /content/drive/MyDrive/Work/13_CancerAnalysisCourse/labs/Module4_SomaticVariants\n",
        "\n",
        "zless -S pairedVariants_mutect2_varscan2.vcf.gz | egrep '##' | head -n 10\n",
        "\n",
        "zless -S pairedVariants_mutect2_varscan2.vcf.gz | egrep -v '#' | head -n 1"
      ],
      "metadata": {
        "colab": {
          "base_uri": "https://localhost:8080/"
        },
        "id": "zkW7iZa7f6HD",
        "outputId": "dc8bc10e-f730-4001-f6da-ec077aec3ddb"
      },
      "execution_count": null,
      "outputs": [
        {
          "output_type": "stream",
          "name": "stdout",
          "text": [
            "##fileformat=VCFv4.2\n",
            "##FILTER=<ID=PASS,Description=\"All filters passed\">\n",
            "##FILTER=<ID=FAIL,Description=\"Fail the site if all alleles fail but for different reasons.\">\n",
            "##FILTER=<ID=base_qual,Description=\"alt median base quality\">\n",
            "##FILTER=<ID=clustered_events,Description=\"Clustered events observed in the tumor\">\n",
            "##FILTER=<ID=contamination,Description=\"contamination\">\n",
            "##FILTER=<ID=duplicate,Description=\"evidence for alt allele is overrepresented by apparent duplicates\">\n",
            "##FILTER=<ID=fragment,Description=\"abs(ref - alt) median fragment length\">\n",
            "##FILTER=<ID=germline,Description=\"Evidence indicates this site is germline, not somatic\">\n",
            "##FILTER=<ID=haplotype,Description=\"Variant near filtered variant on same haplotype.\">\n",
            "9\t130223126\t.\tC\tT\t.\tPASS\tSOMATIC;SS=2;SSC=18;GPV=1;SPV=0.014587;DP=55\tGT:GQ:DP:RD:AD:FREQ:DP4\t./.:.:.:.:.:.:.\t./.:.:.:.:.:.:.\t0/0:.:26:26:0:0%:14,12,0,0\t0/1:.:29:22:6:21.43%:15,7,1,5\n"
          ]
        }
      ]
    },
    {
      "cell_type": "markdown",
      "source": [
        "# ANNOTATION NOT FINISHED (NO ACCESS TO ANNOVAR)\n",
        "\n",
        "Annotating merged variants file"
      ],
      "metadata": {
        "id": "So1f9uwviZeE"
      }
    },
    {
      "cell_type": "code",
      "source": [
        "# download annovar\n",
        "%%bash\n",
        "cd /content/drive/MyDrive/Work/13_CancerAnalysisCourse/labs/Module4_SomaticVariants\n",
        "\n",
        "mkdir annovar\n",
        "\n",
        "wget http://www.openbioinformatics.org/annovar/download/annovar.latest.tar.gz.mirror\n",
        "tar xzvf annovar.tar.gz"
      ],
      "metadata": {
        "colab": {
          "base_uri": "https://localhost:8080/"
        },
        "id": "6PNMA8BqmV42",
        "outputId": "3057acdb-9bbe-4027-8e1a-5d2cf18595cf"
      },
      "execution_count": null,
      "outputs": [
        {
          "output_type": "stream",
          "name": "stderr",
          "text": [
            "--2022-01-03 20:20:41--  http://www.openbioinformatics.org/annovar/download/annovar.latest.tar.gz.mirror\n",
            "Resolving www.openbioinformatics.org (www.openbioinformatics.org)... 67.205.156.247\n",
            "Connecting to www.openbioinformatics.org (www.openbioinformatics.org)|67.205.156.247|:80... connected.\n",
            "HTTP request sent, awaiting response... 404 Not Found\n",
            "2022-01-03 20:20:41 ERROR 404: Not Found.\n",
            "\n",
            "tar (child): annovar.tar.gz: Cannot open: No such file or directory\n",
            "tar (child): Error is not recoverable: exiting now\n",
            "tar: Child returned status 2\n",
            "tar: Error is not recoverable: exiting now\n"
          ]
        }
      ]
    },
    {
      "cell_type": "code",
      "source": [
        "%%bash\n",
        "cd /content/drive/MyDrive/Work/13_CancerAnalysisCourse/labs/Module4_SomaticVariants\n",
        "\n",
        "mkdir results\n",
        "\n",
        "/usr/local/annovar/table_annovar.pl \\\n",
        "pairedVariants_mutect2_varscan2.vcf.gz /usr/local/annovar/humandb/ \\\n",
        "-buildver hg19 \\\n",
        "-out results/annotated_mutect2_varscan2 \\\n",
        "-remove \\\n",
        "-protocol refGene \\\n",
        "-operation g \\\n",
        "-nastring . \\\n",
        "--vcfinput"
      ],
      "metadata": {
        "colab": {
          "base_uri": "https://localhost:8080/"
        },
        "id": "hfnhpzIVif5y",
        "outputId": "f2023f7c-8363-49e9-ada1-c16fbdcc8a25"
      },
      "execution_count": null,
      "outputs": [
        {
          "output_type": "stream",
          "name": "stderr",
          "text": [
            "mkdir: cannot create directory ‘results’: File exists\n"
          ]
        }
      ]
    },
    {
      "cell_type": "markdown",
      "source": [
        "# Copy number variations\n",
        "\n",
        "In this workshop, we will present the main steps for calling copy number variations (CNVs). Normally we would perform a copy number variation analysis on alignment files (BAMs). Due to time and resource constraints we will not be able to do this analysis on the full sequence or from shortened bam files. Instead we will be working with some preprocessed data using gc correction files and mpileups. Our data sample is again the cagekid sample c0098."
      ],
      "metadata": {
        "id": "l_0VER25xhGb"
      }
    },
    {
      "cell_type": "code",
      "source": [
        "# generate configuration file for free-c\n",
        "%%bash\n",
        "cd /content/drive/MyDrive/Work/13_CancerAnalysisCourse/labs/Module4_SomaticVariants\n",
        "mkdir copynumber\n",
        "cd /content/drive/MyDrive/Work/13_CancerAnalysisCourse/labs/Module4_SomaticVariants/copynumber\n",
        "\n",
        "bash /content/drive/MyDrive/Work/13_CancerAnalysisCourse/labs/Module4_SomaticVariants/scripts/generate_controlfreec_configurationfile.sh > CBW_config_1.txt\n",
        "\n",
        "less CBW_config.txt\n",
        "\n",
        "# this file is good for the course, but will not work in my case. I will modify the CBW_config file outside this notebook."
      ],
      "metadata": {
        "id": "bFspI0q7yr4v"
      },
      "execution_count": null,
      "outputs": []
    },
    {
      "cell_type": "code",
      "source": [
        "# run control-freec\n",
        "%%bash\n",
        "cd /content/drive/MyDrive/Work/13_CancerAnalysisCourse/labs/Module4_SomaticVariants/copynumber\n",
        "\n",
        "freec -conf CBW_config_1.txt > output.log"
      ],
      "metadata": {
        "colab": {
          "base_uri": "https://localhost:8080/"
        },
        "id": "6hsFXTGy2Lab",
        "outputId": "9c69757a-d814-4a0a-ee34-d6977a4cda17"
      },
      "execution_count": null,
      "outputs": [
        {
          "output_type": "stream",
          "name": "stderr",
          "text": [
            "[E::hts_hopen] fail to open file '/content/drive/MyDrive/Work/13_CancerAnalysisCourse/labs/Module4_SomaticVariants/alignments/controlfreec_alignments/CBW_regions_c0098_Tumor.sorted.markduplicates.bam'\n",
            "[E::hts_open_format] fail to open file '/content/drive/MyDrive/Work/13_CancerAnalysisCourse/labs/Module4_SomaticVariants/alignments/controlfreec_alignments/CBW_regions_c0098_Tumor.sorted.markduplicates.bam'\n",
            "[mpileup] failed to open /content/drive/MyDrive/Work/13_CancerAnalysisCourse/labs/Module4_SomaticVariants/alignments/controlfreec_alignments/CBW_regions_c0098_Tumor.sorted.markduplicates.bam: Invalid argument\n",
            "[mpileup] 1 samples in 1 input files\n",
            "[E::hts_hopen] fail to open file '/content/drive/MyDrive/Work/13_CancerAnalysisCourse/labs/Module4_SomaticVariants/alignments/controlfreec_alignments/CBW_regions_c0098_Tumor.sorted.markduplicates.bam'\n",
            "[E::hts_open_format] fail to open file '/content/drive/MyDrive/Work/13_CancerAnalysisCourse/labs/Module4_SomaticVariants/alignments/controlfreec_alignments/CBW_regions_c0098_Tumor.sorted.markduplicates.bam'\n",
            "samtools view: failed to open \"/content/drive/MyDrive/Work/13_CancerAnalysisCourse/labs/Module4_SomaticVariants/alignments/controlfreec_alignments/CBW_regions_c0098_Tumor.sorted.markduplicates.bam\" for reading: Invalid argument\n",
            "\n",
            "Error: FREEC was not able to extract reads from /content/drive/MyDrive/Work/13_CancerAnalysisCourse/labs/Module4_SomaticVariants/alignments/controlfreec_alignments/CBW_regions_c0098_Tumor.sorted.markduplicates.bam\n",
            "\n",
            "Check your parameters: inputFormat and mateOrientation\n",
            "Use \"matesOrientation=0\" if you have single end reads\n",
            "Check the list of possible input formats at http://bioinfo-out.curie.fr/projects/freec/tutorial.html#CONFIG\n",
            "\n"
          ]
        }
      ]
    },
    {
      "cell_type": "code",
      "source": [
        "# annotating copy number calls\n",
        "%%bash\n",
        "cd /content/drive/MyDrive/Work/13_CancerAnalysisCourse/labs/Module4_SomaticVariants/accessory_files/controlfreec_files\n",
        "\n",
        "bedtools intersect -wb -b <(less CBW_regions_c0098_Tumor.sorted.markduplicates.bam_sample.cpn_CNVs | awk 'NF==7' | awk '{print \"chr\"$1\"\\t\"$2\"\\t\"$3\"\\t\"$0}' | less -S) -a <(less /content/drive/MyDrive/Work/13_CancerAnalysisCourse/labs/Module4_SomaticVariants/accessory_files/Homo_sapiens.GRCh37.Ensemble100.FullGeneAnnotations.txt | awk '$4==\"ensembl_havana\"') | awk '{print $1\"\\t\"$2\"\\t\"$3\"\\t\"$7\"\\t\"$8\"\\t\"$15}' > AnnotatedCBW_regions_c0098_Tumor.sorted.markduplicates.bam_CNVs.tsv\n",
        "\n",
        "less -S AnnotatedCBW_regions_c0098_Tumor.sorted.markduplicates.bam_CNVs.tsv "
      ],
      "metadata": {
        "id": "cTIyD20bnY9w"
      },
      "execution_count": null,
      "outputs": []
    },
    {
      "cell_type": "code",
      "source": [
        "# examine a gene of interest, such as a loss of VHL which is common in kidney cancers\n",
        "%%bash\n",
        "cd /content/drive/MyDrive/Work/13_CancerAnalysisCourse/labs/Module4_SomaticVariants/accessory_files/controlfreec_files\n",
        "\n",
        "less AnnotatedCBW_regions_c0098_Tumor.sorted.markduplicates.bam_CNVs.tsv | awk '$4==\"VHL\"' | less -S\n"
      ],
      "metadata": {
        "colab": {
          "base_uri": "https://localhost:8080/"
        },
        "id": "GCxY-eJkotBT",
        "outputId": "a46bd6ce-b8b5-4858-bdc6-a73cd95b11e8"
      },
      "execution_count": null,
      "outputs": [
        {
          "output_type": "stream",
          "name": "stdout",
          "text": [
            "chr3\t10141778\t10153667\tVHL\tprotein_coding\t2\n"
          ]
        }
      ]
    },
    {
      "cell_type": "markdown",
      "source": [
        "## Data Visualization\n",
        "\n",
        "For results of data visualization please refer to separate R notebook."
      ],
      "metadata": {
        "id": "KMMrAU5TpXK2"
      }
    }
  ]
}
